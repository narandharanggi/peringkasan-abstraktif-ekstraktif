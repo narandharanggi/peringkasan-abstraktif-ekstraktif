{
 "cells": [
  {
   "cell_type": "code",
   "execution_count": 2,
   "metadata": {},
   "outputs": [],
   "source": [
    "import pandas as pd"
   ]
  },
  {
   "cell_type": "code",
   "execution_count": 11,
   "metadata": {},
   "outputs": [],
   "source": [
    "kmeans = pd.read_json('./result_amazon/clustering_amazon.json').T"
   ]
  },
  {
   "cell_type": "code",
   "execution_count": 12,
   "metadata": {},
   "outputs": [],
   "source": [
    "kmedoids = pd.read_json('./result_amazon/clustering_amazon_kmedoids.json').T"
   ]
  },
  {
   "cell_type": "code",
   "execution_count": 13,
   "metadata": {},
   "outputs": [],
   "source": [
    "agg = pd.read_json('./result_amazon/clustering_amazon_agg.json').T"
   ]
  },
  {
   "cell_type": "code",
   "execution_count": 14,
   "metadata": {},
   "outputs": [],
   "source": [
    "import numpy as np\n",
    "\n",
    "def evaluation_clus(data):\n",
    "    sums = []\n",
    "    for x in range(len(data)):\n",
    "        sums.append(data['score_clus'][x][0])\n",
    "\n",
    "    sumc = []\n",
    "    for x in range(len(data)):\n",
    "        sumc.append(data['score_clus'][x][1])\n",
    "\n",
    "    sumd = []\n",
    "    for x in range(len(data)):\n",
    "        sumd.append(data['score_clus'][x][2])\n",
    "    \n",
    "    return np.mean(sums), np.mean(sumc), np.mean(sumd)"
   ]
  },
  {
   "cell_type": "code",
   "execution_count": 15,
   "metadata": {},
   "outputs": [
    {
     "name": "stdout",
     "output_type": "stream",
     "text": [
      "0.4831652461640482 44.46311115751934 38.1002323973513\n"
     ]
    }
   ],
   "source": [
    "s, c, d = evaluation_clus(kmeans)\n",
    "print(s, c, d)"
   ]
  },
  {
   "cell_type": "code",
   "execution_count": 16,
   "metadata": {},
   "outputs": [
    {
     "name": "stdout",
     "output_type": "stream",
     "text": [
      "0.4788350430526619 44.39171239315346 35.77969353649478\n"
     ]
    }
   ],
   "source": [
    "s, c, d = evaluation_clus(agg)\n",
    "print(s, c, d)"
   ]
  },
  {
   "cell_type": "code",
   "execution_count": 17,
   "metadata": {},
   "outputs": [
    {
     "name": "stdout",
     "output_type": "stream",
     "text": [
      "0.4666514766861065 46.70190037428008 32.094259866340415\n"
     ]
    }
   ],
   "source": [
    "s, c, d = evaluation_clus(kmedoids)\n",
    "print(s, c, d)"
   ]
  },
  {
   "cell_type": "code",
   "execution_count": 271,
   "metadata": {},
   "outputs": [
    {
     "data": {
      "text/plain": [
       "(0.454907149875, 29.449460439023994, 0.7491771261393334)"
      ]
     },
     "execution_count": 271,
     "metadata": {},
     "output_type": "execute_result"
    }
   ],
   "source": [
    "#agg\n",
    "sum_shilloutte, sum_chi, sum_dbi"
   ]
  },
  {
   "cell_type": "code",
   "execution_count": 276,
   "metadata": {},
   "outputs": [
    {
     "data": {
      "text/plain": [
       "(0.454907149875, 29.449460439023994, 0.7491771261393334)"
      ]
     },
     "execution_count": 276,
     "metadata": {},
     "output_type": "execute_result"
    }
   ],
   "source": [
    "#kmean\n",
    "sum_shilloutte, sum_chi, sum_dbi"
   ]
  },
  {
   "cell_type": "code",
   "execution_count": 10,
   "metadata": {},
   "outputs": [
    {
     "data": {
      "text/plain": [
       "300"
      ]
     },
     "execution_count": 10,
     "metadata": {},
     "output_type": "execute_result"
    }
   ],
   "source": [
    "len(kmedoids)"
   ]
  },
  {
   "cell_type": "code",
   "execution_count": 10,
   "metadata": {},
   "outputs": [],
   "source": [
    "checkkmedoids = []\n",
    "for x in range(len(kmedoids)):\n",
    "    checkkmedoids.append(list(zip(kmedoids['text'][x],kmedoids['cluster'][x])))"
   ]
  },
  {
   "cell_type": "code",
   "execution_count": 41,
   "metadata": {},
   "outputs": [],
   "source": [
    "checkkmeans = []\n",
    "for x in range(len(kmeans)):\n",
    "    checkkmeans.append(list(zip(kmeans['text'][x],kmeans['cluster'][x])))"
   ]
  },
  {
   "cell_type": "code",
   "execution_count": 8,
   "metadata": {},
   "outputs": [
    {
     "ename": "NameError",
     "evalue": "name 'checkkmedoids' is not defined",
     "output_type": "error",
     "traceback": [
      "\u001b[1;31m---------------------------------------------------------------------------\u001b[0m",
      "\u001b[1;31mNameError\u001b[0m                                 Traceback (most recent call last)",
      "\u001b[1;32m~\\AppData\\Local\\Temp\\ipykernel_18160\\661328801.py\u001b[0m in \u001b[0;36m<module>\u001b[1;34m\u001b[0m\n\u001b[1;32m----> 1\u001b[1;33m \u001b[0mdfmedoids\u001b[0m \u001b[1;33m=\u001b[0m \u001b[0mpd\u001b[0m\u001b[1;33m.\u001b[0m\u001b[0mDataFrame\u001b[0m\u001b[1;33m(\u001b[0m\u001b[0mcheckkmedoids\u001b[0m\u001b[1;33m[\u001b[0m\u001b[1;36m27\u001b[0m\u001b[1;33m]\u001b[0m\u001b[1;33m,\u001b[0m \u001b[0mcolumns\u001b[0m\u001b[1;33m=\u001b[0m\u001b[1;33m[\u001b[0m\u001b[1;34m'sentence'\u001b[0m\u001b[1;33m,\u001b[0m\u001b[1;34m'cluster'\u001b[0m\u001b[1;33m]\u001b[0m\u001b[1;33m)\u001b[0m\u001b[1;33m\u001b[0m\u001b[0m\n\u001b[0m",
      "\u001b[1;31mNameError\u001b[0m: name 'checkkmedoids' is not defined"
     ]
    }
   ],
   "source": [
    "dfmedoids = pd.DataFrame(checkkmedoids[27], columns=['sentence','cluster'])"
   ]
  },
  {
   "cell_type": "code",
   "execution_count": 14,
   "metadata": {},
   "outputs": [],
   "source": [
    "dfmedoids.to_excel('./dfmedoids2.xlsx')"
   ]
  },
  {
   "cell_type": "code",
   "execution_count": 42,
   "metadata": {},
   "outputs": [],
   "source": [
    "dfmeans = pd.DataFrame(checkkmeans[295], columns=['sentence','cluster'])"
   ]
  },
  {
   "cell_type": "code",
   "execution_count": 43,
   "metadata": {},
   "outputs": [
    {
     "data": {
      "text/html": [
       "<div>\n",
       "<style scoped>\n",
       "    .dataframe tbody tr th:only-of-type {\n",
       "        vertical-align: middle;\n",
       "    }\n",
       "\n",
       "    .dataframe tbody tr th {\n",
       "        vertical-align: top;\n",
       "    }\n",
       "\n",
       "    .dataframe thead th {\n",
       "        text-align: right;\n",
       "    }\n",
       "</style>\n",
       "<table border=\"1\" class=\"dataframe\">\n",
       "  <thead>\n",
       "    <tr style=\"text-align: right;\">\n",
       "      <th></th>\n",
       "      <th>sentence</th>\n",
       "      <th>cluster</th>\n",
       "    </tr>\n",
       "  </thead>\n",
       "  <tbody>\n",
       "    <tr>\n",
       "      <th>0</th>\n",
       "      <td>selain berolahraga atau sekedar menikmati sega...</td>\n",
       "      <td>1</td>\n",
       "    </tr>\n",
       "    <tr>\n",
       "      <th>1</th>\n",
       "      <td>hampir setiap pohon besar diberikan papan info...</td>\n",
       "      <td>1</td>\n",
       "    </tr>\n",
       "    <tr>\n",
       "      <th>2</th>\n",
       "      <td>pengunjung harus berhati hati saat bertemu den...</td>\n",
       "      <td>0</td>\n",
       "    </tr>\n",
       "    <tr>\n",
       "      <th>3</th>\n",
       "      <td>saran untuk pengelola agar tempat sampah seger...</td>\n",
       "      <td>0</td>\n",
       "    </tr>\n",
       "    <tr>\n",
       "      <th>4</th>\n",
       "      <td>dilokasi ini juga terdapat dua gua buatan peni...</td>\n",
       "      <td>4</td>\n",
       "    </tr>\n",
       "    <tr>\n",
       "      <th>5</th>\n",
       "      <td>kami hanya memasuki gua belanda yang awalnya d...</td>\n",
       "      <td>4</td>\n",
       "    </tr>\n",
       "    <tr>\n",
       "      <th>6</th>\n",
       "      <td>sirkulasi udara didalam gua sangat baik sejuk ...</td>\n",
       "      <td>1</td>\n",
       "    </tr>\n",
       "    <tr>\n",
       "      <th>7</th>\n",
       "      <td>akan lebih baik bila diberikan penerangan sert...</td>\n",
       "      <td>1</td>\n",
       "    </tr>\n",
       "    <tr>\n",
       "      <th>8</th>\n",
       "      <td>bila kembali ke tempat ini kami berencana untu...</td>\n",
       "      <td>0</td>\n",
       "    </tr>\n",
       "    <tr>\n",
       "      <th>9</th>\n",
       "      <td>banyak lokasi yang bisa dikunjungi di tempat i...</td>\n",
       "      <td>0</td>\n",
       "    </tr>\n",
       "    <tr>\n",
       "      <th>10</th>\n",
       "      <td>selain itu ada curug atau air terjun yang saya...</td>\n",
       "      <td>0</td>\n",
       "    </tr>\n",
       "    <tr>\n",
       "      <th>11</th>\n",
       "      <td>jarak dari satu lokasi ke lokasi lain cukup ja...</td>\n",
       "      <td>0</td>\n",
       "    </tr>\n",
       "    <tr>\n",
       "      <th>12</th>\n",
       "      <td>semoga ulasan singkat saya bisa cukup membantu...</td>\n",
       "      <td>2</td>\n",
       "    </tr>\n",
       "    <tr>\n",
       "      <th>13</th>\n",
       "      <td>taman hutan raya dago bandung jawa barat merup...</td>\n",
       "      <td>0</td>\n",
       "    </tr>\n",
       "    <tr>\n",
       "      <th>14</th>\n",
       "      <td>kawasan yang cocok untuk menikmati hijaunya hu...</td>\n",
       "      <td>1</td>\n",
       "    </tr>\n",
       "    <tr>\n",
       "      <th>15</th>\n",
       "      <td>bersejarah karena terdapat beberapa situs seja...</td>\n",
       "      <td>1</td>\n",
       "    </tr>\n",
       "    <tr>\n",
       "      <th>16</th>\n",
       "      <td>apabila anda datang bersama keluarga tempat in...</td>\n",
       "      <td>0</td>\n",
       "    </tr>\n",
       "    <tr>\n",
       "      <th>17</th>\n",
       "      <td>terletak di derah dago atas disarankan membawa...</td>\n",
       "      <td>4</td>\n",
       "    </tr>\n",
       "    <tr>\n",
       "      <th>18</th>\n",
       "      <td>karena jarak nya lumayan jauh tempat nya asri ...</td>\n",
       "      <td>0</td>\n",
       "    </tr>\n",
       "    <tr>\n",
       "      <th>19</th>\n",
       "      <td>setiap hari minggu tempat ini banyak di kunjun...</td>\n",
       "      <td>0</td>\n",
       "    </tr>\n",
       "    <tr>\n",
       "      <th>20</th>\n",
       "      <td>ada dua goa di tempat ini yaitu goa belanda da...</td>\n",
       "      <td>0</td>\n",
       "    </tr>\n",
       "    <tr>\n",
       "      <th>21</th>\n",
       "      <td>ada beberapa warung yang buka sebagai tempat i...</td>\n",
       "      <td>0</td>\n",
       "    </tr>\n",
       "    <tr>\n",
       "      <th>22</th>\n",
       "      <td>selamat berwisata</td>\n",
       "      <td>3</td>\n",
       "    </tr>\n",
       "  </tbody>\n",
       "</table>\n",
       "</div>"
      ],
      "text/plain": [
       "                                             sentence  cluster\n",
       "0   selain berolahraga atau sekedar menikmati sega...        1\n",
       "1   hampir setiap pohon besar diberikan papan info...        1\n",
       "2   pengunjung harus berhati hati saat bertemu den...        0\n",
       "3   saran untuk pengelola agar tempat sampah seger...        0\n",
       "4   dilokasi ini juga terdapat dua gua buatan peni...        4\n",
       "5   kami hanya memasuki gua belanda yang awalnya d...        4\n",
       "6   sirkulasi udara didalam gua sangat baik sejuk ...        1\n",
       "7   akan lebih baik bila diberikan penerangan sert...        1\n",
       "8   bila kembali ke tempat ini kami berencana untu...        0\n",
       "9   banyak lokasi yang bisa dikunjungi di tempat i...        0\n",
       "10  selain itu ada curug atau air terjun yang saya...        0\n",
       "11  jarak dari satu lokasi ke lokasi lain cukup ja...        0\n",
       "12  semoga ulasan singkat saya bisa cukup membantu...        2\n",
       "13  taman hutan raya dago bandung jawa barat merup...        0\n",
       "14  kawasan yang cocok untuk menikmati hijaunya hu...        1\n",
       "15  bersejarah karena terdapat beberapa situs seja...        1\n",
       "16  apabila anda datang bersama keluarga tempat in...        0\n",
       "17  terletak di derah dago atas disarankan membawa...        4\n",
       "18  karena jarak nya lumayan jauh tempat nya asri ...        0\n",
       "19  setiap hari minggu tempat ini banyak di kunjun...        0\n",
       "20  ada dua goa di tempat ini yaitu goa belanda da...        0\n",
       "21  ada beberapa warung yang buka sebagai tempat i...        0\n",
       "22                                  selamat berwisata        3"
      ]
     },
     "execution_count": 43,
     "metadata": {},
     "output_type": "execute_result"
    }
   ],
   "source": [
    "dfmeans"
   ]
  },
  {
   "cell_type": "code",
   "execution_count": 44,
   "metadata": {},
   "outputs": [],
   "source": [
    "dfmeans.to_excel('./dfmeans4.xlsx')"
   ]
  },
  {
   "cell_type": "code",
   "execution_count": 13,
   "metadata": {},
   "outputs": [],
   "source": [
    "checkagg = []\n",
    "for x in range(len(kmeans)):\n",
    "    checkagg.append(list(zip(agg['text'][x],agg['cluster'][x])))"
   ]
  },
  {
   "cell_type": "code",
   "execution_count": 116,
   "metadata": {},
   "outputs": [],
   "source": [
    "dfagg = pd.DataFrame(checkagg[27], columns=['sentence','cluster'])"
   ]
  },
  {
   "cell_type": "code",
   "execution_count": 15,
   "metadata": {},
   "outputs": [],
   "source": [
    "dfagg.to_excel('./dfagg3.xlsx')"
   ]
  },
  {
   "cell_type": "code",
   "execution_count": 16,
   "metadata": {},
   "outputs": [
    {
     "data": {
      "text/html": [
       "<div>\n",
       "<style scoped>\n",
       "    .dataframe tbody tr th:only-of-type {\n",
       "        vertical-align: middle;\n",
       "    }\n",
       "\n",
       "    .dataframe tbody tr th {\n",
       "        vertical-align: top;\n",
       "    }\n",
       "\n",
       "    .dataframe thead th {\n",
       "        text-align: right;\n",
       "    }\n",
       "</style>\n",
       "<table border=\"1\" class=\"dataframe\">\n",
       "  <thead>\n",
       "    <tr style=\"text-align: right;\">\n",
       "      <th></th>\n",
       "      <th>sentence</th>\n",
       "      <th>cluster</th>\n",
       "    </tr>\n",
       "  </thead>\n",
       "  <tbody>\n",
       "    <tr>\n",
       "      <th>0</th>\n",
       "      <td>Pengunjung dapat menikmati udara segar</td>\n",
       "      <td>0</td>\n",
       "    </tr>\n",
       "    <tr>\n",
       "      <th>1</th>\n",
       "      <td>belajar tentang kekayaan flora dan fauna di sini</td>\n",
       "      <td>1</td>\n",
       "    </tr>\n",
       "    <tr>\n",
       "      <th>2</th>\n",
       "      <td>berhati-hati saat bertemu monyet</td>\n",
       "      <td>0</td>\n",
       "    </tr>\n",
       "    <tr>\n",
       "      <th>3</th>\n",
       "      <td>dan melihat gua buatan Belanda dan Jepang</td>\n",
       "      <td>2</td>\n",
       "    </tr>\n",
       "    <tr>\n",
       "      <th>4</th>\n",
       "      <td>Saran untuk pengelola agar tempat sampah seger...</td>\n",
       "      <td>0</td>\n",
       "    </tr>\n",
       "    <tr>\n",
       "      <th>5</th>\n",
       "      <td>Taman Hutan Raya Juanda adalah tempat berpetua...</td>\n",
       "      <td>1</td>\n",
       "    </tr>\n",
       "    <tr>\n",
       "      <th>6</th>\n",
       "      <td>Di sini ada 2 gua (Belanda &amp; Jepang) plus curu...</td>\n",
       "      <td>1</td>\n",
       "    </tr>\n",
       "    <tr>\n",
       "      <th>7</th>\n",
       "      <td>Untuk bisa menjelajah sebaiknya membawa alas k...</td>\n",
       "      <td>0</td>\n",
       "    </tr>\n",
       "    <tr>\n",
       "      <th>8</th>\n",
       "      <td>Taman Hutan Raya Dago</td>\n",
       "      <td>1</td>\n",
       "    </tr>\n",
       "    <tr>\n",
       "      <th>9</th>\n",
       "      <td>Bandung adalah tempat yang baik untuk melepas ...</td>\n",
       "      <td>1</td>\n",
       "    </tr>\n",
       "    <tr>\n",
       "      <th>10</th>\n",
       "      <td>Cocok untuk membawa keluarga termasuk anak-anak</td>\n",
       "      <td>0</td>\n",
       "    </tr>\n",
       "    <tr>\n",
       "      <th>11</th>\n",
       "      <td>Tidak disarankan untuk datang saat musim hujan</td>\n",
       "      <td>0</td>\n",
       "    </tr>\n",
       "    <tr>\n",
       "      <th>12</th>\n",
       "      <td>Fasilitas termasuk Goa Jepang</td>\n",
       "      <td>2</td>\n",
       "    </tr>\n",
       "    <tr>\n",
       "      <th>13</th>\n",
       "      <td>air terjun dan area camping</td>\n",
       "      <td>1</td>\n",
       "    </tr>\n",
       "    <tr>\n",
       "      <th>14</th>\n",
       "      <td>Harga tiket masuk sedikit tidak sebanding deng...</td>\n",
       "      <td>0</td>\n",
       "    </tr>\n",
       "    <tr>\n",
       "      <th>15</th>\n",
       "      <td>Kawasan hutan kota yang luas untuk di nikmati</td>\n",
       "      <td>1</td>\n",
       "    </tr>\n",
       "    <tr>\n",
       "      <th>16</th>\n",
       "      <td>Cocok untuk jalan-jalan bersama keluarga</td>\n",
       "      <td>0</td>\n",
       "    </tr>\n",
       "    <tr>\n",
       "      <th>17</th>\n",
       "      <td>berolahraga atau menikmati sejarah dengan goa ...</td>\n",
       "      <td>2</td>\n",
       "    </tr>\n",
       "    <tr>\n",
       "      <th>18</th>\n",
       "      <td>wisatawan dapat menikmati keindahan air terjun</td>\n",
       "      <td>0</td>\n",
       "    </tr>\n",
       "    <tr>\n",
       "      <th>19</th>\n",
       "      <td>Tempat wisata di Dago Atas yang asri dan sejuk</td>\n",
       "      <td>1</td>\n",
       "    </tr>\n",
       "    <tr>\n",
       "      <th>20</th>\n",
       "      <td>terdapat goa Belanda dan Jepang</td>\n",
       "      <td>2</td>\n",
       "    </tr>\n",
       "    <tr>\n",
       "      <th>21</th>\n",
       "      <td>Wisatawan dianjurkan membawa kendaraan pribadi</td>\n",
       "      <td>0</td>\n",
       "    </tr>\n",
       "    <tr>\n",
       "      <th>22</th>\n",
       "      <td>Ada jasa sewa senter dan guide serta warung-wa...</td>\n",
       "      <td>0</td>\n",
       "    </tr>\n",
       "  </tbody>\n",
       "</table>\n",
       "</div>"
      ],
      "text/plain": [
       "                                             sentence  cluster\n",
       "0              Pengunjung dapat menikmati udara segar        0\n",
       "1    belajar tentang kekayaan flora dan fauna di sini        1\n",
       "2                    berhati-hati saat bertemu monyet        0\n",
       "3           dan melihat gua buatan Belanda dan Jepang        2\n",
       "4   Saran untuk pengelola agar tempat sampah seger...        0\n",
       "5   Taman Hutan Raya Juanda adalah tempat berpetua...        1\n",
       "6   Di sini ada 2 gua (Belanda & Jepang) plus curu...        1\n",
       "7   Untuk bisa menjelajah sebaiknya membawa alas k...        0\n",
       "8                               Taman Hutan Raya Dago        1\n",
       "9   Bandung adalah tempat yang baik untuk melepas ...        1\n",
       "10    Cocok untuk membawa keluarga termasuk anak-anak        0\n",
       "11     Tidak disarankan untuk datang saat musim hujan        0\n",
       "12                      Fasilitas termasuk Goa Jepang        2\n",
       "13                        air terjun dan area camping        1\n",
       "14  Harga tiket masuk sedikit tidak sebanding deng...        0\n",
       "15      Kawasan hutan kota yang luas untuk di nikmati        1\n",
       "16           Cocok untuk jalan-jalan bersama keluarga        0\n",
       "17  berolahraga atau menikmati sejarah dengan goa ...        2\n",
       "18     wisatawan dapat menikmati keindahan air terjun        0\n",
       "19     Tempat wisata di Dago Atas yang asri dan sejuk        1\n",
       "20                    terdapat goa Belanda dan Jepang        2\n",
       "21     Wisatawan dianjurkan membawa kendaraan pribadi        0\n",
       "22  Ada jasa sewa senter dan guide serta warung-wa...        0"
      ]
     },
     "execution_count": 16,
     "metadata": {},
     "output_type": "execute_result"
    }
   ],
   "source": [
    "dfagg"
   ]
  },
  {
   "cell_type": "code",
   "execution_count": 17,
   "metadata": {},
   "outputs": [
    {
     "name": "stderr",
     "output_type": "stream",
     "text": [
      "c:\\Users\\nar\\miniconda3\\envs\\dep\\lib\\site-packages\\tqdm\\auto.py:22: TqdmWarning: IProgress not found. Please update jupyter and ipywidgets. See https://ipywidgets.readthedocs.io/en/stable/user_install.html\n",
      "  from .autonotebook import tqdm as notebook_tqdm\n"
     ]
    }
   ],
   "source": [
    "from transformers import BertModel, BertTokenizer\n",
    "\n",
    "tokenizer = BertTokenizer.from_pretrained('indobenchmark/indobert-base-p1')\n",
    "model = BertModel.from_pretrained('indobenchmark/indobert-base-p1', output_hidden_states = True)"
   ]
  },
  {
   "cell_type": "code",
   "execution_count": 18,
   "metadata": {},
   "outputs": [],
   "source": [
    "import numpy as np\n",
    "import torch\n",
    "from tqdm import tqdm\n",
    "\n",
    "use_gpu = False # Use GPU for text vectorization\n",
    "n_combined_hidden_states = 2 # Number of last hidden states for combining to single vector\n",
    "pooling_mode = 1 # pooling strategy for BERT-embeddings\n",
    "\n",
    "if use_gpu:\n",
    "    model.to('cuda')\n",
    "\n",
    "def sentence2bert_hidden_states(sentence, tokenizer, model, use_gpu = True):\n",
    "    indexed_tokens = tokenizer.encode(sentence)\n",
    "    tokens_tensor = torch.tensor([indexed_tokens])\n",
    "    if use_gpu:\n",
    "        tokens_tensor = tokens_tensor.to('cuda')\n",
    "    with torch.no_grad():\n",
    "        outputs = model(tokens_tensor)        \n",
    "    hidden_states = outputs[2]\n",
    "    hidden_states = torch.stack(hidden_states, dim=0)\n",
    "    hidden_states = torch.squeeze(hidden_states, dim=1)\n",
    "    hidden_states = hidden_states.permute(1,0,2)    \n",
    "    return hidden_states, indexed_tokens\n",
    "\n",
    "def combine_hidden_states(hidden_states, n_summands):\n",
    "    n = hidden_states.shape[0]    \n",
    "    assert n_summands <= hidden_states.shape[1]    \n",
    "    combined = np.empty((hidden_states.shape[0],hidden_states.shape[2]))\n",
    "    for i in range(n):\n",
    "        combined[i,:] = torch.sum(hidden_states[i][-n_summands:], dim=0).cpu()[:]\n",
    "    return combined\n",
    "\n",
    "def sentence2token_embeddings(sentence, tokenizer, model, use_gpu = True, n_combined_hidden_states = 4):\n",
    "    hidden_states, indexed_tokens = sentence2bert_hidden_states(sentence, tokenizer, model, use_gpu)\n",
    "    token_embeddings = combine_hidden_states(hidden_states, n_combined_hidden_states)\n",
    "    return token_embeddings, indexed_tokens\n",
    "\n",
    "# Sentence vectorization\n",
    "def sentence2embedding(sentence, tokenizer, model, use_gpu = True, n_combined_hidden_states = 4, pooling_mode = 0):\n",
    "    token_embeddings, indexed_tokens = sentence2token_embeddings(sentence, tokenizer, model, use_gpu, n_combined_hidden_states)\n",
    "    if pooling_mode == 0:\n",
    "        return token_embeddings[0]\n",
    "    else:\n",
    "        return np.mean(token_embeddings, axis = 0)\n",
    "\n",
    "# Splitting text into sentences and sentence by sentence vectorization\n",
    "def text2sentence_embeddings(text_sentences, tokenizer, model, use_gpu = True, n_combined_hidden_states = 2, pooling_mode = 0):\n",
    "    n_text_sentences = len(text_sentences)\n",
    "    text_embeddings = np.empty((n_text_sentences, model.config.hidden_size))\n",
    "    for i in tqdm(range(n_text_sentences)):\n",
    "        text_embeddings[i,:] = sentence2embedding(text_sentences[i], tokenizer, model, use_gpu, n_combined_hidden_states, pooling_mode)[:]\n",
    "    return text_sentences, text_embeddings"
   ]
  },
  {
   "cell_type": "code",
   "execution_count": 19,
   "metadata": {},
   "outputs": [],
   "source": [
    "def sentence_embeddings(data):\n",
    "  text_sentences, text_embeddings = text2sentence_embeddings(data, \n",
    "                                                            tokenizer, \n",
    "                                                            model, \n",
    "                                                            use_gpu, \n",
    "                                                            n_combined_hidden_states, \n",
    "                                                            pooling_mode)\n",
    "  return text_sentences, text_embeddings"
   ]
  },
  {
   "cell_type": "code",
   "execution_count": 20,
   "metadata": {},
   "outputs": [
    {
     "name": "stderr",
     "output_type": "stream",
     "text": [
      "100%|██████████| 23/23 [00:01<00:00, 18.04it/s]\n"
     ]
    }
   ],
   "source": [
    "_,embmedoids = sentence_embeddings(kmedoids['text'][27])"
   ]
  },
  {
   "cell_type": "code",
   "execution_count": 21,
   "metadata": {},
   "outputs": [],
   "source": [
    "from sklearn.decomposition import PCA\n",
    "\n",
    "\n",
    "pca = PCA(n_components=2)\n",
    "embmedoids = pca.fit_transform(embmedoids)"
   ]
  },
  {
   "cell_type": "code",
   "execution_count": 22,
   "metadata": {},
   "outputs": [],
   "source": [
    "import numpy as np\n",
    "\n",
    "labels_medoids = np.array(kmedoids['cluster'][27])"
   ]
  },
  {
   "cell_type": "code",
   "execution_count": 23,
   "metadata": {},
   "outputs": [
    {
     "data": {
      "image/png": "[encoded data removed]",
      "text/plain": [
       "<Figure size 400x400 with 1 Axes>"
      ]
     },
     "metadata": {},
     "output_type": "display_data"
    }
   ],
   "source": [
    "import matplotlib.pyplot as plt\n",
    "%matplotlib inline\n",
    "from scipy.spatial import ConvexHull\n",
    "\n",
    "def drawclusters(ax, x, y):\n",
    "    for i in range(ncluster):\n",
    "        points = x[y == i]\n",
    "        ax.scatter(points[:, 0], points[:, 1], s=100, c=col[i], label=f'Cluster {i + 1}')\n",
    "        if (len(points)) > 2:\n",
    "            hull = ConvexHull(points)\n",
    "            vert = np.append(hull.vertices, hull.vertices[0])  # close the polygon by appending the first point at the end\n",
    "            ax.plot(points[vert, 0], points[vert, 1], '--', alpha=0.7, c=col[i])\n",
    "            ax.fill(points[vert, 0], points[vert, 1], c=col[i], alpha=0.2)\n",
    "\n",
    "col = ['blue', 'green']\n",
    "ncluster = 2\n",
    "fig, ax = plt.subplots(1, figsize=(4, 4))\n",
    "drawclusters(ax, embmedoids, labels_medoids)\n",
    "ax.legend()\n",
    "plt.title('K-Medoids')\n",
    "plt.tight_layout()\n",
    "plt.show()\n",
    "fig.savefig('kmedoids.png', dpi=600)"
   ]
  },
  {
   "cell_type": "code",
   "execution_count": 50,
   "metadata": {},
   "outputs": [
    {
     "name": "stderr",
     "output_type": "stream",
     "text": [
      "100%|██████████| 21/21 [00:01<00:00, 18.58it/s]\n"
     ]
    }
   ],
   "source": [
    "from sklearn.decomposition import PCA\n",
    "_,embd = sentence_embeddings(kmeans['text'][295])\n",
    "pca = PCA(n_components=2)\n",
    "embd = pca.fit_transform(embd)"
   ]
  },
  {
   "cell_type": "code",
   "execution_count": 51,
   "metadata": {},
   "outputs": [
    {
     "data": {
      "text/plain": [
       "['selain berolahraga atau sekedar menikmati segarnya udara pengunjung dapat belajar mengenai kekayaan flora fauna serta sejarah',\n",
       " 'hampir setiap pohon besar diberikan papan informasi nama dan daerah asal tumbuhan tersebut',\n",
       " 'pengunjung harus berhati hati saat bertemu dengan kawanan monyet buntut panjang abu abu mereka akan mengikuti bila kita membawa makanan atau membongkar tempat sampah untuk mendapatkan sisa makanan',\n",
       " 'saran untuk pengelola agar tempat sampah segera dikosongkan saat para pedagang makanan minuman selesai berjualan',\n",
       " 'dilokasi ini juga terdapat dua gua buatan peninggalan perang yang dibangun oleh belanda dan jepang',\n",
       " 'kami hanya memasuki gua belanda yang awalnya dibangun sebagai saluran air',\n",
       " 'sirkulasi udara didalam gua sangat baik sejuk tidak pengap',\n",
       " 'akan lebih baik bila diberikan penerangan serta diorama didalamnya',\n",
       " 'bila kembali ke tempat ini kami berencana untuk hiking sampai ke air terjun terdekat untuk kalian yang senang berpetualang ke dalam hutan yang tidak terlalu ekstrem taman hutan raya juanda boleh dicoba',\n",
       " 'banyak lokasi yang bisa dikunjungi di tempat ini salah satunya ada 2 buah gua yaitu gua belanda dan jepang yang pada waktu jaman penjajahan digunakan sebagai bunker',\n",
       " 'selain itu ada curug atau air terjun yang sayangnya belum sempat saya capai karena kondisi fisik yang sudah lelah plus waktu yang mepet jadi kunjungan saya terhenti di tempat penangkaran rusa',\n",
       " 'jarak dari satu lokasi ke lokasi lain cukup jauh ya jadi disarankan untuk memakai alas kaki yang nyaman dan persiapkan fisik karena jalan yang dilalui naik turun serta air minum yang cukup ada beberapa warung yang menjual air mineral',\n",
       " 'semoga ulasan singkat saya bisa cukup membantu rekan rekan sekalian',\n",
       " 'taman hutan raya dago bandung jawa barat merupakan tempat yang tepat untuk melepas penat dan sekedar relaksasi sejenak untuk menghirup udara segar di daerah perkotaan tempat yang cocok untuk membawa keluarga terutama anak-anak untuk dapat bermain ada alam terbuka sayang nya tempat ini tidak bisa untuk penyandang disabilitas dan tidak disarankan untuk datang di musim hujan memiliki banyak tempat area seperti goa jepang danau kecil air terjun dan area camping harga tiket masuk sedikit tidak sesuai dengan fasilitas yang disediakan merupakan kawasan hutan kota yang luas yang dapat anda nikmati',\n",
       " 'kawasan yang cocok untuk menikmati hijaunya hutan berolahraga ataupun berwisata bersama keluarga',\n",
       " 'bersejarah karena terdapat beberapa situs sejarah yang anda dapa kunjungi juga seperti goa jepang dan goa belanda',\n",
       " 'apabila anda datang bersama keluarga tempat ini cocok sebagai tempat jalan santai menikmati makanan di alam terbuka dan anda dapa membeli kopi yang dijual di sana apabila anda datang untuk berolahraga cobalah untuk jogging ke atas untuk menikmati keindahan air terjun',\n",
       " 'terletak di derah dago atas disarankan membawa kendaraan pribadi',\n",
       " 'karena jarak nya lumayan jauh tempat nya asri dan sejuk',\n",
       " 'setiap hari minggu tempat ini banyak di kunjungi oleh para wisatawan yang sengaja berolahraga di tempat ini ada dua goa di tempat ini yaitu goa belanda dan goa jepang jka ingin memasuki goa tersebut biasa nya trsedia jasa sewa senter dan jasa guide bagi para wisatawan',\n",
       " 'ada beberapa warung yang buka sebagai tempat istirahat untuk para wisatawan selamat berwisata']"
      ]
     },
     "execution_count": 51,
     "metadata": {},
     "output_type": "execute_result"
    }
   ],
   "source": [
    "kmeans['text'][295]"
   ]
  },
  {
   "cell_type": "code",
   "execution_count": 52,
   "metadata": {},
   "outputs": [],
   "source": [
    "labels_db = np.array(kmeans['cluster'][295])\n",
    "values, counts = np.unique(labels_db, return_counts=True)"
   ]
  },
  {
   "cell_type": "code",
   "execution_count": 53,
   "metadata": {},
   "outputs": [
    {
     "ename": "IndexError",
     "evalue": "list index out of range",
     "output_type": "error",
     "traceback": [
      "\u001b[1;31m---------------------------------------------------------------------------\u001b[0m",
      "\u001b[1;31mIndexError\u001b[0m                                Traceback (most recent call last)",
      "\u001b[1;32m~\\AppData\\Local\\Temp\\ipykernel_10884\\3897206847.py\u001b[0m in \u001b[0;36m<module>\u001b[1;34m\u001b[0m\n\u001b[0;32m     20\u001b[0m \u001b[0mncluster\u001b[0m \u001b[1;33m=\u001b[0m \u001b[0mlen\u001b[0m\u001b[1;33m(\u001b[0m\u001b[0mvalues\u001b[0m\u001b[1;33m)\u001b[0m\u001b[1;33m\u001b[0m\u001b[0m\n\u001b[0;32m     21\u001b[0m \u001b[0mfig\u001b[0m\u001b[1;33m,\u001b[0m \u001b[0max\u001b[0m \u001b[1;33m=\u001b[0m \u001b[0mplt\u001b[0m\u001b[1;33m.\u001b[0m\u001b[0msubplots\u001b[0m\u001b[1;33m(\u001b[0m\u001b[1;36m1\u001b[0m\u001b[1;33m,\u001b[0m \u001b[0mfigsize\u001b[0m\u001b[1;33m=\u001b[0m\u001b[1;33m(\u001b[0m\u001b[1;36m4\u001b[0m\u001b[1;33m,\u001b[0m \u001b[1;36m4\u001b[0m\u001b[1;33m)\u001b[0m\u001b[1;33m)\u001b[0m\u001b[1;33m\u001b[0m\u001b[0m\n\u001b[1;32m---> 22\u001b[1;33m \u001b[0mdrawclusters\u001b[0m\u001b[1;33m(\u001b[0m\u001b[0max\u001b[0m\u001b[1;33m,\u001b[0m \u001b[0membd\u001b[0m\u001b[1;33m,\u001b[0m \u001b[0mlabels_db\u001b[0m\u001b[1;33m)\u001b[0m\u001b[1;33m\u001b[0m\u001b[0m\n\u001b[0m\u001b[0;32m     23\u001b[0m \u001b[0max\u001b[0m\u001b[1;33m.\u001b[0m\u001b[0mlegend\u001b[0m\u001b[1;33m(\u001b[0m\u001b[0mloc\u001b[0m\u001b[1;33m=\u001b[0m\u001b[1;34m'upper left'\u001b[0m\u001b[1;33m)\u001b[0m\u001b[1;33m\u001b[0m\u001b[0m\n\u001b[0;32m     24\u001b[0m \u001b[0mplt\u001b[0m\u001b[1;33m.\u001b[0m\u001b[0mtitle\u001b[0m\u001b[1;33m(\u001b[0m\u001b[1;34m'DBSCAN'\u001b[0m\u001b[1;33m)\u001b[0m\u001b[1;33m\u001b[0m\u001b[0m\n",
      "\u001b[1;32m~\\AppData\\Local\\Temp\\ipykernel_10884\\3897206847.py\u001b[0m in \u001b[0;36mdrawclusters\u001b[1;34m(ax, x, y)\u001b[0m\n\u001b[0;32m     10\u001b[0m     \u001b[1;32mfor\u001b[0m \u001b[0mi\u001b[0m \u001b[1;32min\u001b[0m \u001b[0mrange\u001b[0m\u001b[1;33m(\u001b[0m\u001b[0mncluster\u001b[0m\u001b[1;33m)\u001b[0m\u001b[1;33m:\u001b[0m\u001b[1;33m\u001b[0m\u001b[0m\n\u001b[0;32m     11\u001b[0m         \u001b[0mpoints\u001b[0m \u001b[1;33m=\u001b[0m \u001b[0mx\u001b[0m\u001b[1;33m[\u001b[0m\u001b[0my\u001b[0m \u001b[1;33m==\u001b[0m \u001b[0mi\u001b[0m\u001b[1;33m]\u001b[0m\u001b[1;33m\u001b[0m\u001b[0m\n\u001b[1;32m---> 12\u001b[1;33m         \u001b[0max\u001b[0m\u001b[1;33m.\u001b[0m\u001b[0mscatter\u001b[0m\u001b[1;33m(\u001b[0m\u001b[0mpoints\u001b[0m\u001b[1;33m[\u001b[0m\u001b[1;33m:\u001b[0m\u001b[1;33m,\u001b[0m \u001b[1;36m0\u001b[0m\u001b[1;33m]\u001b[0m\u001b[1;33m,\u001b[0m \u001b[0mpoints\u001b[0m\u001b[1;33m[\u001b[0m\u001b[1;33m:\u001b[0m\u001b[1;33m,\u001b[0m \u001b[1;36m1\u001b[0m\u001b[1;33m]\u001b[0m\u001b[1;33m,\u001b[0m \u001b[0ms\u001b[0m\u001b[1;33m=\u001b[0m\u001b[1;36m100\u001b[0m\u001b[1;33m,\u001b[0m \u001b[0mc\u001b[0m\u001b[1;33m=\u001b[0m\u001b[0mcol\u001b[0m\u001b[1;33m[\u001b[0m\u001b[0mi\u001b[0m\u001b[1;33m]\u001b[0m\u001b[1;33m,\u001b[0m \u001b[0mlabel\u001b[0m\u001b[1;33m=\u001b[0m\u001b[1;34mf'Cluster {i + 1}'\u001b[0m\u001b[1;33m)\u001b[0m\u001b[1;33m\u001b[0m\u001b[0m\n\u001b[0m\u001b[0;32m     13\u001b[0m         \u001b[1;32mif\u001b[0m \u001b[1;33m(\u001b[0m\u001b[0mlen\u001b[0m\u001b[1;33m(\u001b[0m\u001b[0mpoints\u001b[0m\u001b[1;33m)\u001b[0m\u001b[1;33m)\u001b[0m \u001b[1;33m>\u001b[0m \u001b[1;36m2\u001b[0m\u001b[1;33m:\u001b[0m\u001b[1;33m\u001b[0m\u001b[0m\n\u001b[0;32m     14\u001b[0m             \u001b[0mhull\u001b[0m \u001b[1;33m=\u001b[0m \u001b[0mConvexHull\u001b[0m\u001b[1;33m(\u001b[0m\u001b[0mpoints\u001b[0m\u001b[1;33m)\u001b[0m\u001b[1;33m\u001b[0m\u001b[0m\n",
      "\u001b[1;31mIndexError\u001b[0m: list index out of range"
     ]
    },
    {
     "data": {
      "image/png": "[encoded data removed]",
      "text/plain": [
       "<Figure size 400x400 with 1 Axes>"
      ]
     },
     "metadata": {},
     "output_type": "display_data"
    }
   ],
   "source": [
    "import matplotlib.pyplot as plt\n",
    "%matplotlib inline\n",
    "from scipy.spatial import ConvexHull\n",
    "# fig = plt.figure()\n",
    "# ax = fig.add_subplot(111)\n",
    "\n",
    "# scatter = ax.scatter(embmeans[:,0], embmeans[:,1], c=labels_, s=50)\n",
    "# plt.show()\n",
    "def drawclusters(ax, x, y):\n",
    "    for i in range(ncluster):\n",
    "        points = x[y == i]\n",
    "        ax.scatter(points[:, 0], points[:, 1], s=100, c=col[i], label=f'Cluster {i + 1}')\n",
    "        if (len(points)) > 2:\n",
    "            hull = ConvexHull(points)\n",
    "            vert = np.append(hull.vertices, hull.vertices[0])  # close the polygon by appending the first point at the end\n",
    "            ax.plot(points[vert, 0], points[vert, 1], '--', alpha=0.7, c=col[i])\n",
    "            ax.fill(points[vert, 0], points[vert, 1], c=col[i], alpha=0.2)\n",
    "\n",
    "col = ['blue', 'green', 'red', 'magenta', 'grey']\n",
    "ncluster = len(values)\n",
    "fig, ax = plt.subplots(1, figsize=(4, 4))\n",
    "drawclusters(ax, embd, labels_db)\n",
    "ax.legend(loc='upper left')\n",
    "plt.title('DBSCAN')\n",
    "plt.tight_layout()\n",
    "plt.show()\n",
    "fig.savefig('dbscan.png', dpi=600)"
   ]
  },
  {
   "cell_type": "code",
   "execution_count": 54,
   "metadata": {},
   "outputs": [
    {
     "name": "stderr",
     "output_type": "stream",
     "text": [
      "100%|██████████| 21/21 [00:01<00:00, 19.42it/s]\n"
     ]
    }
   ],
   "source": [
    "_,embagg = sentence_embeddings(agg['text'][295])"
   ]
  },
  {
   "cell_type": "code",
   "execution_count": 55,
   "metadata": {},
   "outputs": [],
   "source": [
    "pca = PCA(n_components=2)\n",
    "embagg = pca.fit_transform(embagg)"
   ]
  },
  {
   "cell_type": "code",
   "execution_count": 56,
   "metadata": {},
   "outputs": [],
   "source": [
    "labels_agg = np.array(agg['cluster'][295])\n",
    "values, counts = np.unique(labels_agg, return_counts=True)"
   ]
  },
  {
   "cell_type": "code",
   "execution_count": 57,
   "metadata": {},
   "outputs": [
    {
     "data": {
      "image/png": "[encoded data removed]",
      "text/plain": [
       "<Figure size 400x400 with 1 Axes>"
      ]
     },
     "metadata": {},
     "output_type": "display_data"
    }
   ],
   "source": [
    "col = ['blue', 'green', 'red', 'magenta', 'grey', 'orange']\n",
    "ncluster = len(values)\n",
    "fig, ax = plt.subplots(1, figsize=(4, 4))\n",
    "drawclusters(ax, embagg, labels_agg)\n",
    "ax.legend(loc='upper left')\n",
    "plt.title('Agglomerative Hierarchical')\n",
    "plt.tight_layout()\n",
    "plt.show()\n",
    "fig.savefig('agg.png', dpi=600)"
   ]
  },
  {
   "cell_type": "code",
   "execution_count": 85,
   "metadata": {},
   "outputs": [
    {
     "name": "stderr",
     "output_type": "stream",
     "text": [
      "100%|██████████| 35/35 [00:04<00:00,  8.45it/s]\n",
      "100%|██████████| 21/21 [00:01<00:00, 10.58it/s]\n",
      "100%|██████████| 36/36 [00:02<00:00, 13.57it/s]\n",
      "100%|██████████| 41/41 [00:03<00:00, 11.57it/s]\n",
      "100%|██████████| 24/24 [00:02<00:00, 11.28it/s]\n",
      "100%|██████████| 37/37 [00:02<00:00, 12.65it/s]\n",
      "100%|██████████| 34/34 [00:02<00:00, 13.73it/s]\n",
      "100%|██████████| 21/21 [00:02<00:00, 10.44it/s]\n",
      "100%|██████████| 33/33 [00:02<00:00, 13.86it/s]\n",
      "100%|██████████| 41/41 [00:02<00:00, 14.59it/s]\n",
      "100%|██████████| 22/22 [00:02<00:00,  8.67it/s]\n",
      "100%|██████████| 31/31 [00:02<00:00, 11.09it/s]\n",
      "100%|██████████| 32/32 [00:03<00:00,  9.39it/s]\n",
      "100%|██████████| 31/31 [00:03<00:00,  9.27it/s]\n",
      "100%|██████████| 17/17 [00:01<00:00,  9.89it/s]\n",
      "100%|██████████| 23/23 [00:02<00:00, 10.89it/s]\n",
      "100%|██████████| 32/32 [00:02<00:00, 10.79it/s]\n",
      "100%|██████████| 32/32 [00:03<00:00, 10.15it/s]\n",
      "100%|██████████| 34/34 [00:02<00:00, 13.04it/s]\n",
      "100%|██████████| 35/35 [00:02<00:00, 13.28it/s]\n",
      "100%|██████████| 33/33 [00:02<00:00, 13.55it/s]\n",
      "100%|██████████| 21/21 [00:01<00:00, 10.58it/s]\n",
      "100%|██████████| 19/19 [00:01<00:00, 10.00it/s]\n",
      "100%|██████████| 22/22 [00:01<00:00, 11.99it/s]\n",
      "100%|██████████| 27/27 [00:02<00:00, 12.02it/s]\n",
      "100%|██████████| 44/44 [00:02<00:00, 15.12it/s]\n",
      "100%|██████████| 24/24 [00:02<00:00, 10.97it/s]\n",
      "100%|██████████| 40/40 [00:03<00:00, 13.25it/s]\n",
      "100%|██████████| 44/44 [00:03<00:00, 14.46it/s]\n",
      "100%|██████████| 35/35 [00:02<00:00, 12.84it/s]\n",
      "100%|██████████| 42/42 [00:03<00:00, 12.03it/s]\n",
      "100%|██████████| 31/31 [00:02<00:00, 12.58it/s]\n",
      "100%|██████████| 34/34 [00:02<00:00, 13.27it/s]\n",
      "100%|██████████| 30/30 [00:02<00:00, 12.38it/s]\n",
      "100%|██████████| 36/36 [00:02<00:00, 12.88it/s]\n",
      "100%|██████████| 29/29 [00:02<00:00, 12.59it/s]\n",
      "100%|██████████| 29/29 [00:02<00:00, 11.54it/s]\n",
      "100%|██████████| 34/34 [00:02<00:00, 12.78it/s]\n",
      "100%|██████████| 41/41 [00:03<00:00, 13.41it/s]\n",
      "100%|██████████| 23/23 [00:02<00:00, 11.49it/s]\n",
      "100%|██████████| 28/28 [00:02<00:00, 11.46it/s]\n",
      "100%|██████████| 23/23 [00:02<00:00, 10.20it/s]\n",
      "100%|██████████| 29/29 [00:02<00:00, 12.29it/s]\n",
      "100%|██████████| 34/34 [00:02<00:00, 12.83it/s]\n",
      "100%|██████████| 38/38 [00:02<00:00, 14.09it/s]\n",
      "100%|██████████| 49/49 [00:03<00:00, 12.71it/s]\n",
      "100%|██████████| 43/43 [00:03<00:00, 13.75it/s]\n",
      "100%|██████████| 39/39 [00:03<00:00, 12.40it/s]\n",
      "100%|██████████| 36/36 [00:02<00:00, 12.90it/s]\n",
      "100%|██████████| 44/44 [00:03<00:00, 14.13it/s]\n",
      "100%|██████████| 22/22 [00:02<00:00,  9.68it/s]\n",
      "100%|██████████| 39/39 [00:03<00:00, 12.71it/s]\n",
      "100%|██████████| 24/24 [00:02<00:00,  9.98it/s]\n",
      "100%|██████████| 48/48 [00:03<00:00, 14.70it/s]\n",
      "100%|██████████| 38/38 [00:03<00:00, 12.59it/s]\n",
      "100%|██████████| 43/43 [00:03<00:00, 12.98it/s]\n",
      "100%|██████████| 24/24 [00:02<00:00, 10.35it/s]\n",
      "100%|██████████| 31/31 [00:02<00:00, 12.05it/s]\n",
      "100%|██████████| 27/27 [00:02<00:00, 11.04it/s]\n",
      "100%|██████████| 38/38 [00:03<00:00, 11.61it/s]\n",
      "100%|██████████| 17/17 [00:01<00:00, 10.65it/s]\n",
      "100%|██████████| 31/31 [00:02<00:00, 11.57it/s]\n",
      "100%|██████████| 14/14 [00:01<00:00,  7.56it/s]\n",
      "100%|██████████| 30/30 [00:02<00:00, 10.48it/s]\n",
      "100%|██████████| 21/21 [00:02<00:00, 10.32it/s]\n",
      "100%|██████████| 35/35 [00:02<00:00, 11.92it/s]\n",
      "100%|██████████| 39/39 [00:02<00:00, 13.10it/s]\n",
      "100%|██████████| 22/22 [00:02<00:00, 10.32it/s]\n",
      "100%|██████████| 31/31 [00:02<00:00, 13.29it/s]\n",
      "100%|██████████| 37/37 [00:03<00:00, 12.32it/s]\n",
      "100%|██████████| 29/29 [00:02<00:00, 12.20it/s]\n",
      "100%|██████████| 28/28 [00:02<00:00, 10.93it/s]\n",
      "100%|██████████| 32/32 [00:02<00:00, 11.88it/s]\n",
      "100%|██████████| 30/30 [00:02<00:00, 11.69it/s]\n",
      "100%|██████████| 30/30 [00:02<00:00, 12.21it/s]\n",
      "100%|██████████| 23/23 [00:02<00:00, 10.56it/s]\n",
      "100%|██████████| 30/30 [00:02<00:00, 14.31it/s]\n",
      "100%|██████████| 38/38 [00:02<00:00, 12.78it/s]\n",
      "100%|██████████| 24/24 [00:02<00:00, 11.06it/s]\n",
      "100%|██████████| 45/45 [00:03<00:00, 14.18it/s]\n",
      "100%|██████████| 18/18 [00:01<00:00,  9.46it/s]\n",
      "100%|██████████| 34/34 [00:02<00:00, 12.55it/s]\n",
      "100%|██████████| 20/20 [00:01<00:00, 10.01it/s]\n",
      "100%|██████████| 39/39 [00:02<00:00, 13.80it/s]\n",
      "100%|██████████| 23/23 [00:02<00:00, 10.54it/s]\n",
      "100%|██████████| 17/17 [00:01<00:00,  9.86it/s]\n",
      "100%|██████████| 31/31 [00:02<00:00, 12.81it/s]\n",
      "100%|██████████| 32/32 [00:02<00:00, 12.82it/s]\n",
      "100%|██████████| 39/39 [00:02<00:00, 14.03it/s]\n",
      "100%|██████████| 22/22 [00:02<00:00,  9.61it/s]\n",
      "100%|██████████| 43/43 [00:03<00:00, 13.66it/s]\n",
      "100%|██████████| 25/25 [00:02<00:00,  9.62it/s]\n",
      "100%|██████████| 20/20 [00:01<00:00, 10.41it/s]\n",
      "100%|██████████| 16/16 [00:01<00:00,  9.34it/s]\n",
      "100%|██████████| 35/35 [00:02<00:00, 13.43it/s]\n",
      "100%|██████████| 22/22 [00:02<00:00, 10.31it/s]\n",
      "100%|██████████| 26/26 [00:02<00:00, 10.64it/s]\n",
      "100%|██████████| 12/12 [00:01<00:00,  6.35it/s]\n",
      "100%|██████████| 17/17 [00:01<00:00,  8.86it/s]\n",
      "100%|██████████| 37/37 [00:02<00:00, 12.94it/s]\n",
      "100%|██████████| 21/21 [00:02<00:00,  9.10it/s]\n",
      "100%|██████████| 36/36 [00:02<00:00, 14.05it/s]\n",
      "100%|██████████| 23/23 [00:01<00:00, 12.99it/s]\n",
      "100%|██████████| 33/33 [00:02<00:00, 11.77it/s]\n",
      "100%|██████████| 16/16 [00:01<00:00,  9.55it/s]\n",
      "100%|██████████| 25/25 [00:02<00:00, 11.82it/s]\n",
      "100%|██████████| 23/23 [00:01<00:00, 11.61it/s]\n",
      "100%|██████████| 38/38 [00:03<00:00, 12.47it/s]\n",
      "100%|██████████| 27/27 [00:02<00:00, 11.66it/s]\n",
      "100%|██████████| 34/34 [00:02<00:00, 12.75it/s]\n",
      "100%|██████████| 13/13 [00:01<00:00, 11.39it/s]\n",
      "100%|██████████| 22/22 [00:02<00:00, 10.73it/s]\n",
      "100%|██████████| 31/31 [00:02<00:00, 14.02it/s]\n",
      "100%|██████████| 32/32 [00:02<00:00, 12.16it/s]\n",
      "100%|██████████| 25/25 [00:02<00:00, 12.40it/s]\n",
      "100%|██████████| 16/16 [00:01<00:00, 10.70it/s]\n",
      "100%|██████████| 33/33 [00:02<00:00, 12.42it/s]\n",
      "100%|██████████| 36/36 [00:02<00:00, 13.11it/s]\n",
      "100%|██████████| 23/23 [00:01<00:00, 13.24it/s]\n",
      "100%|██████████| 24/24 [00:01<00:00, 12.62it/s]\n",
      "100%|██████████| 29/29 [00:02<00:00, 13.61it/s]\n",
      "100%|██████████| 28/28 [00:02<00:00, 11.14it/s]\n",
      "100%|██████████| 33/33 [00:02<00:00, 12.45it/s]\n",
      "100%|██████████| 27/27 [00:02<00:00, 11.57it/s]\n",
      "100%|██████████| 45/45 [00:03<00:00, 13.81it/s]\n",
      "100%|██████████| 35/35 [00:02<00:00, 12.96it/s]\n",
      "100%|██████████| 26/26 [00:02<00:00, 12.50it/s]\n",
      "100%|██████████| 20/20 [00:01<00:00, 12.08it/s]\n",
      "100%|██████████| 37/37 [00:02<00:00, 12.81it/s]\n",
      "100%|██████████| 39/39 [00:02<00:00, 13.69it/s]\n",
      "100%|██████████| 23/23 [00:02<00:00, 10.90it/s]\n",
      "100%|██████████| 29/29 [00:02<00:00, 11.45it/s]\n",
      "100%|██████████| 39/39 [00:02<00:00, 14.23it/s]\n",
      "100%|██████████| 31/31 [00:02<00:00, 13.29it/s]\n",
      "100%|██████████| 22/22 [00:02<00:00, 10.84it/s]\n",
      "100%|██████████| 30/30 [00:02<00:00, 14.09it/s]\n",
      "100%|██████████| 20/20 [00:01<00:00, 11.09it/s]\n",
      "100%|██████████| 11/11 [00:00<00:00, 11.68it/s]\n",
      "100%|██████████| 19/19 [00:01<00:00, 10.77it/s]\n",
      "100%|██████████| 32/32 [00:02<00:00, 13.15it/s]\n",
      "100%|██████████| 22/22 [00:01<00:00, 11.47it/s]\n",
      "100%|██████████| 23/23 [00:02<00:00, 11.01it/s]\n",
      "100%|██████████| 28/28 [00:02<00:00, 12.77it/s]\n",
      "100%|██████████| 27/27 [00:02<00:00, 13.00it/s]\n",
      "100%|██████████| 31/31 [00:02<00:00, 12.12it/s]\n",
      "100%|██████████| 27/27 [00:02<00:00, 11.07it/s]\n",
      "100%|██████████| 40/40 [00:03<00:00, 12.68it/s]\n",
      "100%|██████████| 27/27 [00:02<00:00, 13.13it/s]\n",
      "100%|██████████| 34/34 [00:02<00:00, 13.96it/s]\n",
      "100%|██████████| 16/16 [00:01<00:00, 13.31it/s]\n",
      "100%|██████████| 42/42 [00:02<00:00, 14.39it/s]\n",
      "100%|██████████| 24/24 [00:01<00:00, 12.36it/s]\n",
      "100%|██████████| 22/22 [00:01<00:00, 11.00it/s]\n",
      "100%|██████████| 33/33 [00:02<00:00, 14.28it/s]\n",
      "100%|██████████| 32/32 [00:02<00:00, 13.25it/s]\n",
      "100%|██████████| 38/38 [00:03<00:00, 12.59it/s]\n",
      "100%|██████████| 28/28 [00:02<00:00, 11.73it/s]\n",
      "100%|██████████| 29/29 [00:02<00:00, 11.53it/s]\n",
      "100%|██████████| 22/22 [00:01<00:00, 12.74it/s]\n",
      "100%|██████████| 11/11 [00:00<00:00, 12.51it/s]\n",
      "100%|██████████| 32/32 [00:02<00:00, 12.90it/s]\n",
      "100%|██████████| 27/27 [00:01<00:00, 13.61it/s]\n",
      "100%|██████████| 30/30 [00:02<00:00, 13.81it/s]\n",
      "100%|██████████| 46/46 [00:03<00:00, 13.83it/s]\n",
      "100%|██████████| 46/46 [00:03<00:00, 14.40it/s]\n",
      "100%|██████████| 31/31 [00:02<00:00, 13.37it/s]\n",
      "100%|██████████| 29/29 [00:02<00:00, 13.16it/s]\n",
      "100%|██████████| 16/16 [00:01<00:00, 10.26it/s]\n",
      "100%|██████████| 29/29 [00:02<00:00, 13.66it/s]\n",
      "100%|██████████| 36/36 [00:02<00:00, 13.72it/s]\n",
      "100%|██████████| 40/40 [00:02<00:00, 13.82it/s]\n",
      "100%|██████████| 35/35 [00:02<00:00, 13.62it/s]\n",
      "100%|██████████| 22/22 [00:01<00:00, 13.33it/s]\n",
      "100%|██████████| 27/27 [00:02<00:00, 12.68it/s]\n",
      "100%|██████████| 35/35 [00:02<00:00, 13.01it/s]\n",
      "100%|██████████| 29/29 [00:02<00:00, 13.19it/s]\n",
      "100%|██████████| 32/32 [00:02<00:00, 12.39it/s]\n",
      "100%|██████████| 12/12 [00:01<00:00, 10.87it/s]\n",
      "100%|██████████| 10/10 [00:00<00:00, 10.08it/s]\n",
      "100%|██████████| 15/15 [00:01<00:00, 10.88it/s]\n",
      "100%|██████████| 33/33 [00:02<00:00, 13.84it/s]\n",
      "100%|██████████| 7/7 [00:00<00:00,  8.02it/s]\n",
      "100%|██████████| 16/16 [00:01<00:00, 10.98it/s]\n",
      "100%|██████████| 24/24 [00:01<00:00, 12.73it/s]\n",
      "100%|██████████| 46/46 [00:03<00:00, 14.53it/s]\n",
      "100%|██████████| 18/18 [00:01<00:00, 11.97it/s]\n",
      "100%|██████████| 17/17 [00:01<00:00, 12.45it/s]\n",
      "100%|██████████| 47/47 [00:03<00:00, 15.03it/s]\n",
      "100%|██████████| 22/22 [00:01<00:00, 12.86it/s]\n",
      "100%|██████████| 13/13 [00:01<00:00, 12.30it/s]\n",
      "100%|██████████| 21/21 [00:01<00:00, 11.69it/s]\n",
      "100%|██████████| 36/36 [00:02<00:00, 13.90it/s]\n",
      "100%|██████████| 21/21 [00:01<00:00, 10.78it/s]\n",
      "100%|██████████| 33/33 [00:02<00:00, 14.25it/s]\n",
      "100%|██████████| 26/26 [00:01<00:00, 13.53it/s]\n",
      "100%|██████████| 37/37 [00:02<00:00, 15.56it/s]\n",
      "100%|██████████| 18/18 [00:01<00:00, 15.53it/s]\n",
      "100%|██████████| 28/28 [00:01<00:00, 14.72it/s]\n",
      "100%|██████████| 30/30 [00:01<00:00, 15.85it/s]\n",
      "100%|██████████| 34/34 [00:02<00:00, 15.60it/s]\n",
      "100%|██████████| 24/24 [00:02<00:00, 11.54it/s]\n",
      "100%|██████████| 17/17 [00:01<00:00, 10.09it/s]\n",
      "100%|██████████| 24/24 [00:02<00:00, 11.48it/s]\n",
      "100%|██████████| 24/24 [00:02<00:00, 11.56it/s]\n",
      "100%|██████████| 22/22 [00:01<00:00, 11.01it/s]\n",
      "100%|██████████| 26/26 [00:02<00:00, 12.28it/s]\n",
      "100%|██████████| 47/47 [00:02<00:00, 15.72it/s]\n",
      "100%|██████████| 38/38 [00:02<00:00, 14.12it/s]\n",
      "100%|██████████| 35/35 [00:02<00:00, 13.74it/s]\n",
      "100%|██████████| 25/25 [00:02<00:00, 12.08it/s]\n",
      "100%|██████████| 29/29 [00:02<00:00, 13.24it/s]\n",
      "100%|██████████| 30/30 [00:02<00:00, 12.85it/s]\n",
      "100%|██████████| 25/25 [00:02<00:00, 11.93it/s]\n",
      "100%|██████████| 32/32 [00:02<00:00, 13.49it/s]\n",
      "100%|██████████| 29/29 [00:02<00:00, 12.72it/s]\n",
      "100%|██████████| 27/27 [00:02<00:00, 12.13it/s]\n",
      "100%|██████████| 26/26 [00:01<00:00, 13.41it/s]\n",
      "100%|██████████| 19/19 [00:01<00:00, 10.40it/s]\n",
      "100%|██████████| 21/21 [00:01<00:00, 10.85it/s]\n",
      "100%|██████████| 34/34 [00:02<00:00, 13.80it/s]\n",
      "100%|██████████| 25/25 [00:02<00:00, 11.51it/s]\n",
      "100%|██████████| 23/23 [00:01<00:00, 13.33it/s]\n",
      "100%|██████████| 31/31 [00:02<00:00, 14.82it/s]\n",
      "100%|██████████| 33/33 [00:02<00:00, 13.86it/s]\n",
      "100%|██████████| 25/25 [00:02<00:00, 12.23it/s]\n",
      "100%|██████████| 27/27 [00:02<00:00, 12.34it/s]\n",
      "100%|██████████| 22/22 [00:01<00:00, 14.80it/s]\n",
      "100%|██████████| 26/26 [00:02<00:00, 12.85it/s]\n",
      "100%|██████████| 11/11 [00:00<00:00, 13.22it/s]\n",
      "100%|██████████| 12/12 [00:01<00:00, 11.85it/s]\n",
      "100%|██████████| 29/29 [00:02<00:00, 13.43it/s]\n",
      "100%|██████████| 30/30 [00:02<00:00, 13.48it/s]\n",
      "100%|██████████| 21/21 [00:01<00:00, 14.31it/s]\n",
      "100%|██████████| 23/23 [00:01<00:00, 11.50it/s]\n",
      "100%|██████████| 17/17 [00:01<00:00, 12.21it/s]\n",
      "100%|██████████| 35/35 [00:02<00:00, 14.96it/s]\n",
      "100%|██████████| 21/21 [00:01<00:00, 12.58it/s]\n",
      "100%|██████████| 14/14 [00:01<00:00,  8.68it/s]\n",
      "100%|██████████| 19/19 [00:01<00:00, 11.74it/s]\n",
      "100%|██████████| 33/33 [00:02<00:00, 13.24it/s]\n",
      "100%|██████████| 16/16 [00:01<00:00, 13.11it/s]\n",
      "100%|██████████| 23/23 [00:01<00:00, 13.69it/s]\n",
      "100%|██████████| 17/17 [00:01<00:00, 12.14it/s]\n",
      "100%|██████████| 21/21 [00:01<00:00, 12.99it/s]\n",
      "100%|██████████| 16/16 [00:01<00:00, 11.14it/s]\n",
      "100%|██████████| 23/23 [00:01<00:00, 14.39it/s]\n",
      "100%|██████████| 25/25 [00:01<00:00, 14.13it/s]\n",
      "100%|██████████| 22/22 [00:01<00:00, 12.21it/s]\n",
      "100%|██████████| 25/25 [00:02<00:00, 12.21it/s]\n",
      "100%|██████████| 17/17 [00:01<00:00, 11.86it/s]\n",
      "100%|██████████| 24/24 [00:02<00:00, 11.42it/s]\n",
      "100%|██████████| 15/15 [00:01<00:00,  9.39it/s]\n",
      "100%|██████████| 15/15 [00:01<00:00, 12.87it/s]\n",
      "100%|██████████| 7/7 [00:00<00:00,  9.25it/s]\n",
      "100%|██████████| 13/13 [00:01<00:00, 11.35it/s]\n",
      "100%|██████████| 34/34 [00:02<00:00, 13.84it/s]\n",
      "100%|██████████| 30/30 [00:02<00:00, 13.81it/s]\n",
      "100%|██████████| 24/24 [00:01<00:00, 13.67it/s]\n",
      "100%|██████████| 36/36 [00:02<00:00, 13.81it/s]\n",
      "100%|██████████| 28/28 [00:02<00:00, 13.19it/s]\n",
      "100%|██████████| 14/14 [00:01<00:00, 13.56it/s]\n",
      "100%|██████████| 31/31 [00:02<00:00, 14.36it/s]\n",
      "100%|██████████| 49/49 [00:03<00:00, 15.52it/s]\n",
      "100%|██████████| 25/25 [00:02<00:00, 12.36it/s]\n",
      "100%|██████████| 22/22 [00:01<00:00, 13.65it/s]\n",
      "100%|██████████| 21/21 [00:02<00:00, 10.43it/s]\n",
      "100%|██████████| 20/20 [00:01<00:00, 12.29it/s]\n",
      "100%|██████████| 22/22 [00:01<00:00, 14.01it/s]\n",
      "100%|██████████| 16/16 [00:01<00:00, 10.91it/s]\n",
      "100%|██████████| 28/28 [00:02<00:00,  9.65it/s]\n",
      "100%|██████████| 28/28 [00:02<00:00, 12.60it/s]\n",
      "100%|██████████| 41/41 [00:04<00:00, 10.10it/s]\n",
      "100%|██████████| 22/22 [00:01<00:00, 12.23it/s]\n",
      "100%|██████████| 26/26 [00:01<00:00, 13.10it/s]\n",
      "100%|██████████| 28/28 [00:02<00:00, 12.63it/s]\n",
      "100%|██████████| 29/29 [00:02<00:00, 13.53it/s]\n",
      "100%|██████████| 23/23 [00:01<00:00, 12.64it/s]\n",
      "100%|██████████| 26/26 [00:02<00:00, 12.39it/s]\n",
      "100%|██████████| 27/27 [00:02<00:00, 12.18it/s]\n",
      "100%|██████████| 27/27 [00:02<00:00, 13.18it/s]\n",
      "100%|██████████| 34/34 [00:02<00:00, 14.35it/s]\n",
      "100%|██████████| 20/20 [00:01<00:00, 10.66it/s]\n",
      "100%|██████████| 29/29 [00:02<00:00, 13.59it/s]\n",
      "100%|██████████| 22/22 [00:01<00:00, 11.91it/s]\n",
      "100%|██████████| 28/28 [00:01<00:00, 14.06it/s]\n",
      "100%|██████████| 24/24 [00:01<00:00, 14.80it/s]\n",
      "100%|██████████| 31/31 [00:02<00:00, 13.06it/s]\n",
      "100%|██████████| 15/15 [00:01<00:00, 14.11it/s]\n",
      "100%|██████████| 14/14 [00:01<00:00, 13.19it/s]\n",
      "100%|██████████| 26/26 [00:02<00:00, 12.31it/s]\n",
      "100%|██████████| 25/25 [00:01<00:00, 13.78it/s]\n",
      "100%|██████████| 20/20 [00:01<00:00, 12.50it/s]\n",
      "100%|██████████| 24/24 [00:01<00:00, 13.00it/s]\n",
      "100%|██████████| 34/34 [00:02<00:00, 13.69it/s]\n",
      "100%|██████████| 35/35 [00:02<00:00, 14.17it/s]\n",
      "100%|██████████| 21/21 [00:01<00:00, 11.32it/s]\n",
      "100%|██████████| 16/16 [00:01<00:00, 13.92it/s]\n",
      "100%|██████████| 40/40 [00:02<00:00, 14.75it/s]\n",
      "100%|██████████| 35/35 [00:02<00:00, 13.69it/s]\n",
      "100%|██████████| 36/36 [00:02<00:00, 15.16it/s]\n"
     ]
    }
   ],
   "source": [
    "em = []\n",
    "for u in range(len(agg)):\n",
    "    _,embagg = sentence_embeddings(agg['text'][u])\n",
    "    em.append(embagg)"
   ]
  },
  {
   "cell_type": "code",
   "execution_count": 86,
   "metadata": {},
   "outputs": [
    {
     "data": {
      "text/plain": [
       "300"
      ]
     },
     "execution_count": 86,
     "metadata": {},
     "output_type": "execute_result"
    }
   ],
   "source": [
    "len(em)"
   ]
  },
  {
   "cell_type": "code",
   "execution_count": 87,
   "metadata": {},
   "outputs": [],
   "source": [
    "labels_agg = np.array(agg['cluster'])"
   ]
  },
  {
   "cell_type": "code",
   "execution_count": 88,
   "metadata": {},
   "outputs": [],
   "source": [
    "from sklearn.metrics import davies_bouldin_score"
   ]
  },
  {
   "cell_type": "code",
   "execution_count": 89,
   "metadata": {},
   "outputs": [],
   "source": [
    "from sklearn.decomposition import PCA\n",
    "from sklearn import metrics\n",
    "\n",
    "score = []\n",
    "\n",
    "for e in range(len(em)):\n",
    "    pca = PCA(n_components=2)\n",
    "    emx = pca.fit_transform(em[e])\n",
    "    score.append(metrics.calinski_harabasz_score(emx, labels_agg[e]))\n",
    "    "
   ]
  },
  {
   "cell_type": "code",
   "execution_count": 90,
   "metadata": {},
   "outputs": [],
   "source": [
    "scorex = np.mean(score)"
   ]
  },
  {
   "cell_type": "code",
   "execution_count": 91,
   "metadata": {},
   "outputs": [
    {
     "data": {
      "text/plain": [
       "22.29649908782996"
      ]
     },
     "execution_count": 91,
     "metadata": {},
     "output_type": "execute_result"
    }
   ],
   "source": [
    "scorex #agg"
   ]
  },
  {
   "cell_type": "code",
   "execution_count": 77,
   "metadata": {},
   "outputs": [
    {
     "data": {
      "text/plain": [
       "19.746601079713514"
      ]
     },
     "execution_count": 77,
     "metadata": {},
     "output_type": "execute_result"
    }
   ],
   "source": [
    "scorex"
   ]
  },
  {
   "cell_type": "code",
   "execution_count": null,
   "metadata": {},
   "outputs": [],
   "source": [
    "data_pd = pd.DataFrame()"
   ]
  },
  {
   "cell_type": "code",
   "execution_count": 24,
   "metadata": {},
   "outputs": [
    {
     "data": {
      "image/png": "[encoded data removed]",
      "text/plain": [
       "<Figure size 640x480 with 1 Axes>"
      ]
     },
     "metadata": {},
     "output_type": "display_data"
    }
   ],
   "source": [
    "fig = plt.figure()\n",
    "ax = fig.add_subplot(111)\n",
    "\n",
    "scatter = ax.scatter(embagg[:,0], embagg[:,1], c=labels_agg, s=50)\n",
    "plt.show()"
   ]
  },
  {
   "cell_type": "code",
   "execution_count": 34,
   "metadata": {},
   "outputs": [
    {
     "data": {
      "text/plain": [
       "[0.4849213473, 304.4393886804, 0.0700067459]"
      ]
     },
     "execution_count": 34,
     "metadata": {},
     "output_type": "execute_result"
    }
   ],
   "source": [
    "agg['score_clus'][7]"
   ]
  },
  {
   "cell_type": "code",
   "execution_count": 35,
   "metadata": {},
   "outputs": [
    {
     "data": {
      "text/plain": [
       "[0.4852407856, 293.735512511, 0.070010377]"
      ]
     },
     "execution_count": 35,
     "metadata": {},
     "output_type": "execute_result"
    }
   ],
   "source": [
    "kmeans['score_clus'][7]"
   ]
  },
  {
   "cell_type": "code",
   "execution_count": 36,
   "metadata": {},
   "outputs": [
    {
     "data": {
      "text/plain": [
       "[0.38626511680000003, 497.867607775, 0.1200608809]"
      ]
     },
     "execution_count": 36,
     "metadata": {},
     "output_type": "execute_result"
    }
   ],
   "source": [
    "kmedoids['score_clus'][7]"
   ]
  }
 ],
 "metadata": {
  "kernelspec": {
   "display_name": "dep",
   "language": "python",
   "name": "python3"
  },
  "language_info": {
   "codemirror_mode": {
    "name": "ipython",
    "version": 3
   },
   "file_extension": ".py",
   "mimetype": "text/x-python",
   "name": "python",
   "nbconvert_exporter": "python",
   "pygments_lexer": "ipython3",
   "version": "3.7.9"
  },
  "orig_nbformat": 4,
  "vscode": {
   "interpreter": {
    "hash": "664b26e0d1747e1cc1ef4417ec7df69a4d6f546c4d3b76a8f963d470387fc9f7"
   }
  }
 },
 "nbformat": 4,
 "nbformat_minor": 2
}
