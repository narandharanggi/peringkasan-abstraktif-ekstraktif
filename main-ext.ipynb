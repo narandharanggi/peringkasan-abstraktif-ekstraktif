{
  "cells": [
    {
      "cell_type": "code",
      "execution_count": 1,
      "metadata": {
        "id": "SkQhYsFade1u"
      },
      "outputs": [
        {
          "name": "stderr",
          "output_type": "stream",
          "text": [
            "[nltk_data] Downloading package punkt to\n",
            "[nltk_data]     C:\\Users\\Admin\\AppData\\Roaming\\nltk_data...\n",
            "[nltk_data]   Package punkt is already up-to-date!\n",
            "[nltk_data] Downloading package stopwords to\n",
            "[nltk_data]     C:\\Users\\Admin\\AppData\\Roaming\\nltk_data...\n",
            "[nltk_data]   Package stopwords is already up-to-date!\n"
          ]
        }
      ],
      "source": [
        "import pandas as pd\n",
        "import json\n",
        "import nltk\n",
        "from nltk.tokenize import sent_tokenize, word_tokenize\n",
        "nltk.download('punkt')\n",
        "import numpy as np\n",
        "from transformers import BertModel, BertTokenizer\n",
        "import torch\n",
        "from tqdm import tqdm\n",
        "\n",
        "#clustering\n",
        "from sklearn.decomposition import PCA\n",
        "from sklearn_extra.cluster import KMedoids\n",
        "from sklearn.cluster import KMeans\n",
        "from sklearn.cluster import AgglomerativeClustering\n",
        "import numpy as np\n",
        "from sklearn.cluster import DBSCAN\n",
        "from sklearn.metrics import silhouette_score\n",
        "from sklearn.metrics import davies_bouldin_score\n",
        "from yellowbrick.cluster import KElbowVisualizer\n",
        "from sklearn import metrics\n",
        "from sklearn.metrics import calinski_harabasz_score\n",
        "from functools import reduce\n",
        "\n",
        "#ext\n",
        "import math\n",
        "import yake\n",
        "from nltk.corpus import stopwords\n",
        "import re\n",
        "from Sastrawi.Stemmer.StemmerFactory import StemmerFactory\n",
        "from Sastrawi.StopWordRemover.StopWordRemoverFactory import StopWordRemoverFactory\n",
        "import itertools\n",
        "nltk.download('stopwords')\n",
        "from numpy import exp\n",
        "from vaderSentiment.vaderSentiment import SentimentIntensityAnalyzer\n",
        "from deep_translator import GoogleTranslator\n",
        "from collections import defaultdict\n",
        "import rouge\n",
        "\n",
        "#combine\n",
        "from sklearn.feature_extraction.text import CountVectorizer\n",
        "from sklearn.metrics.pairwise import cosine_similarity\n",
        "import operator\n",
        "from bert_score import score\n"
      ]
    },
    {
      "cell_type": "markdown",
      "metadata": {},
      "source": [
        "### Import Data TripAdvisor"
      ]
    },
    {
      "cell_type": "markdown",
      "metadata": {},
      "source": [
        "Data TripAdvisor yang di-*import* merupakan hasil dari pra-proses dan data disimpan menggunakan pandas pada kode di bawah ini."
      ]
    },
    {
      "cell_type": "code",
      "execution_count": 2,
      "metadata": {
        "id": "ngaEzYc6Pt-E"
      },
      "outputs": [],
      "source": [
        "ext = pd.read_csv('./sep_raw_review_revisi.csv').reset_index()\n",
        "ext = ext.drop('Unnamed: 0', axis=1)"
      ]
    },
    {
      "cell_type": "code",
      "execution_count": 3,
      "metadata": {},
      "outputs": [
        {
          "data": {
            "text/html": [
              "<div>\n",
              "<style scoped>\n",
              "    .dataframe tbody tr th:only-of-type {\n",
              "        vertical-align: middle;\n",
              "    }\n",
              "\n",
              "    .dataframe tbody tr th {\n",
              "        vertical-align: top;\n",
              "    }\n",
              "\n",
              "    .dataframe thead th {\n",
              "        text-align: right;\n",
              "    }\n",
              "</style>\n",
              "<table border=\"1\" class=\"dataframe\">\n",
              "  <thead>\n",
              "    <tr style=\"text-align: right;\">\n",
              "      <th></th>\n",
              "      <th>index</th>\n",
              "      <th>review</th>\n",
              "      <th>abstractive</th>\n",
              "      <th>kategori</th>\n",
              "      <th>review_cln</th>\n",
              "    </tr>\n",
              "  </thead>\n",
              "  <tbody>\n",
              "    <tr>\n",
              "      <th>0</th>\n",
              "      <td>0</td>\n",
              "      <td>Nice place klo lagi nyari tempat staycation d...</td>\n",
              "      <td>Hotel berada di pusat kota, dekat untuk ke sta...</td>\n",
              "      <td>labeled-hotel</td>\n",
              "      <td>nice place kalo lagi mencari tempat staycation...</td>\n",
              "    </tr>\n",
              "    <tr>\n",
              "      <th>1</th>\n",
              "      <td>1</td>\n",
              "      <td>Sangat senang bisa kembali lagi ke hotel muli...</td>\n",
              "      <td>Pelayanan sangat baik secara keseluruhan dari ...</td>\n",
              "      <td>labeled-hotel</td>\n",
              "      <td>sangat senang bisa kembali lagi ke hotel mulia...</td>\n",
              "    </tr>\n",
              "    <tr>\n",
              "      <th>2</th>\n",
              "      <td>2</td>\n",
              "      <td>Hotel nya sangat strategis, dekat kebun raya ...</td>\n",
              "      <td>Lokasi strategis karena di di dekat hotel ada ...</td>\n",
              "      <td>labeled-hotel</td>\n",
              "      <td>hotel nya sangat strategis [SEP] dekat kebun r...</td>\n",
              "    </tr>\n",
              "    <tr>\n",
              "      <th>3</th>\n",
              "      <td>3</td>\n",
              "      <td>Di kamar 1610 sangat memuaskan. Sangat bersih...</td>\n",
              "      <td>Pelayanan ramah dan memuaskan. Staf benar-bena...</td>\n",
              "      <td>labeled-hotel</td>\n",
              "      <td>di kamar 1610 sangat memuaskan [SEP] hanya saj...</td>\n",
              "    </tr>\n",
              "    <tr>\n",
              "      <th>4</th>\n",
              "      <td>4</td>\n",
              "      <td>Menginap untuk 3 malam. Begitu masuk ke kamar...</td>\n",
              "      <td>Hotel memiliki desain yang modern dan minimali...</td>\n",
              "      <td>labeled-hotel</td>\n",
              "      <td>menginap untuk 3 malam [SEP] begitu masuk ke k...</td>\n",
              "    </tr>\n",
              "  </tbody>\n",
              "</table>\n",
              "</div>"
            ],
            "text/plain": [
              "   index                                             review  \\\n",
              "0      0   Nice place klo lagi nyari tempat staycation d...   \n",
              "1      1   Sangat senang bisa kembali lagi ke hotel muli...   \n",
              "2      2   Hotel nya sangat strategis, dekat kebun raya ...   \n",
              "3      3   Di kamar 1610 sangat memuaskan. Sangat bersih...   \n",
              "4      4   Menginap untuk 3 malam. Begitu masuk ke kamar...   \n",
              "\n",
              "                                         abstractive       kategori  \\\n",
              "0  Hotel berada di pusat kota, dekat untuk ke sta...  labeled-hotel   \n",
              "1  Pelayanan sangat baik secara keseluruhan dari ...  labeled-hotel   \n",
              "2  Lokasi strategis karena di di dekat hotel ada ...  labeled-hotel   \n",
              "3  Pelayanan ramah dan memuaskan. Staf benar-bena...  labeled-hotel   \n",
              "4  Hotel memiliki desain yang modern dan minimali...  labeled-hotel   \n",
              "\n",
              "                                          review_cln  \n",
              "0  nice place kalo lagi mencari tempat staycation...  \n",
              "1  sangat senang bisa kembali lagi ke hotel mulia...  \n",
              "2  hotel nya sangat strategis [SEP] dekat kebun r...  \n",
              "3  di kamar 1610 sangat memuaskan [SEP] hanya saj...  \n",
              "4  menginap untuk 3 malam [SEP] begitu masuk ke k...  "
            ]
          },
          "execution_count": 3,
          "metadata": {},
          "output_type": "execute_result"
        }
      ],
      "source": [
        "ext.head()"
      ]
    },
    {
      "cell_type": "markdown",
      "metadata": {},
      "source": [
        "Selanjutnya data disimpan dalam bentuk *dictionary* untuk memudahkan proses selanjutnya."
      ]
    },
    {
      "cell_type": "code",
      "execution_count": 4,
      "metadata": {
        "id": "mhiOnfZxRHPB"
      },
      "outputs": [],
      "source": [
        "doc = []\n",
        "for i in range(len(ext)):\n",
        "  doc.append({\n",
        "      'index' : ext['index'],\n",
        "      'sentence' : ext['review_cln'][i].split('[SEP]')\n",
        "  })"
      ]
    },
    {
      "cell_type": "markdown",
      "metadata": {},
      "source": [
        "### Embedding Kalimat Menggunakan Model BERT"
      ]
    },
    {
      "cell_type": "markdown",
      "metadata": {},
      "source": [
        "Tahapan pertama melakukan inisialisasi tokenisasi dan model yang digunakan untuk BERT. Panjang token sejumlah 512 sesuai dengan panjang maksimal model BERT"
      ]
    },
    {
      "cell_type": "code",
      "execution_count": 5,
      "metadata": {
        "colab": {
          "base_uri": "https://localhost:8080/",
          "height": 472,
          "referenced_widgets": [
            "4be14b6c06484e81b27ff6037e0cf6d6",
            "2b4497ae837f4a189eb6d4417ad89e75",
            "dba9105655d2481792e3014e807c898b",
            "266767b70836438e9bb88ee735630f32",
            "a5b60caf3cd346b4b8f3e579491a9308",
            "bd116334d76e4852a431a66256a78529",
            "7463fad492e1493aa5f7cf068e9daf55",
            "f6daf36c32bf4110b78eb54410426f7c",
            "f27f2b929fd146a8b422fcaa015538fd",
            "a2774c7c14444dd08f8ace5a8dceaa0c",
            "87e428317bb8474fa11e6c37d5b75b40",
            "78037e0c74704367b93f7efdb08e809c",
            "e9a54168ba30484bb60129af6e5f8e87",
            "5fb0ab078eac4da0bb169dac9a3421ac",
            "f9d423a6571b4e1a9f2e18a0eef05339",
            "bc746a33ca564728a6662fd29a19d6ba",
            "83a8c323fa9941d397ba6a5615a99447",
            "f95215701d474868bf916f6cd924cc2a",
            "75a8f7c95bcb4aa481d85ac24e1f7691",
            "ec9884653da040d79c9ad509ab29c9b7",
            "45cfad50a7534f9891ca77129a52c7cf",
            "2b3668c934a34d5396e055945869e98c",
            "b880c330a2e7493c95bf615cb9d3d637",
            "2f82a20b247449daa4022d8dd53d191a",
            "9c53316b470e4a138c152cbb15b21523",
            "47ecd3e321e94677a442719041c6b913",
            "98455ed7736242f48f9fc1dd1bed7708",
            "304821c2634b48fba54ee6674753139c",
            "e776ebd5f4f4469ba5c9b25d7e31271f",
            "d62339a649c2461cac5197d6872f1648",
            "b7f0c634b5ee4fe49c511ecc7a372e05",
            "89d97e9b522d4c8db350677cc80aa245",
            "b5cf75d6feb04c409102d916e5df0d08",
            "3dc653dea45b43a8af4a8cc6465296f8",
            "d8a325bab6614e77883c38fef02e4656",
            "bc43aec051894367a4c7315a17de6f4f",
            "3f05a146178f42c58649c3a982d52045",
            "b25d92cb8a9e443cb65af8b757068c7f",
            "da08724530f841019f3613edc9c04cd5",
            "53eeaa837ed14550ad5477d192dcf48e",
            "de434a0f836449d98d2e658088484137",
            "94023189ea1642a9b39d03bcbdd4082e",
            "8cce4df8034047789f602f6b85fe9aef",
            "5c358226c8194d62bf48c46f33d52059",
            "617372fb36f240c7a5474668b8a43f8e",
            "7d468ecd579a46689b96703fe095fa11",
            "83fdf8d2e3964557abf41017523f6399",
            "5e48ebf08bc0496183a75b4885c3839e",
            "d43a0c483f074a77ad860dd4bbe5304b",
            "eeec3c6260434c42b02d86a7c28b3882",
            "ace71e7265db453ead6ac08370a41a40",
            "19f9e4fcb78043baa7ed547aab4e608e",
            "219e82fb165f483ea55b1271ffd4be47",
            "c735741be19a4a2c914cdbe6916264c5",
            "117059a18edb465ca4b05cdf8b448168"
          ]
        },
        "id": "DVwr4edKt3m_",
        "outputId": "c0a1216e-6a2d-4e88-e037-8f6a6321566d"
      },
      "outputs": [],
      "source": [
        "tokenizer = BertTokenizer.from_pretrained('indobenchmark/indobert-base-p1', padding=\"max_length\", truncation=True, max_length=512)\n",
        "model = BertModel.from_pretrained('indobenchmark/indobert-base-p1', output_hidden_states = True)"
      ]
    },
    {
      "cell_type": "markdown",
      "metadata": {},
      "source": [
        "Pembuatan fungsi untuk menyimpan *hidden layer* sebagai embedding kalimat dari model BERT"
      ]
    },
    {
      "cell_type": "code",
      "execution_count": 6,
      "metadata": {
        "id": "BIx1Byd6t3m_"
      },
      "outputs": [],
      "source": [
        "# Inisialisasi awal untuk gpu, jumlah hidden layer terakhir untuk digabung menjadi satu vektor, dan pooling strategy\n",
        "use_gpu = False \n",
        "n_combined_hidden_states = 2\n",
        "pooling_mode = 1 \n",
        "if use_gpu:\n",
        "    model.to('cuda')\n",
        "\n",
        "# Mengambil hidden layer model BERT\n",
        "def sentence2bert_hidden_states(sentence, tokenizer, model, use_gpu = True):\n",
        "    indexed_tokens = tokenizer.encode(sentence)\n",
        "    tokens_tensor = torch.tensor([indexed_tokens])\n",
        "    if use_gpu:\n",
        "        tokens_tensor = tokens_tensor.to('cuda')\n",
        "    with torch.no_grad():\n",
        "        outputs = model(tokens_tensor)        \n",
        "    hidden_states = outputs[2]\n",
        "    hidden_states = torch.stack(hidden_states, dim=0)\n",
        "    hidden_states = torch.squeeze(hidden_states, dim=1)\n",
        "    hidden_states = hidden_states.permute(1,0,2)    \n",
        "    return hidden_states, indexed_tokens\n",
        "\n",
        "# Menggabungkan hidden layer \n",
        "def combine_hidden_states(hidden_states, n_summands):\n",
        "    n = hidden_states.shape[0]    \n",
        "    assert n_summands <= hidden_states.shape[1]    \n",
        "    combined = np.empty((hidden_states.shape[0],hidden_states.shape[2]))\n",
        "    for i in range(n):\n",
        "        combined[i,:] = torch.sum(hidden_states[i][-n_summands:], dim=0).cpu()[:]\n",
        "    return combined\n",
        "\n",
        "# Melakukan proses embedding token\n",
        "def sentence2token_embeddings(sentence, tokenizer, model, use_gpu = True, n_combined_hidden_states = 4):\n",
        "    hidden_states, indexed_tokens = sentence2bert_hidden_states(sentence, tokenizer, model, use_gpu)\n",
        "    token_embeddings = combine_hidden_states(hidden_states, n_combined_hidden_states)\n",
        "    return token_embeddings, indexed_tokens\n",
        "\n",
        "# Melakukan proses embedding kalimat menggunakan mean\n",
        "def sentence2embedding(sentence, tokenizer, model, use_gpu = True, n_combined_hidden_states = 4, pooling_mode = 0):\n",
        "    token_embeddings, indexed_tokens = sentence2token_embeddings(sentence, tokenizer, model, use_gpu, n_combined_hidden_states)\n",
        "    if pooling_mode == 0:\n",
        "        return token_embeddings[0]\n",
        "    else:\n",
        "        return np.mean(token_embeddings, axis = 0)\n",
        "\n",
        "# Menyimpan kalimat dan hasil embedding kalimatnya\n",
        "def text2sentence_embeddings(text_sentences, tokenizer, model, use_gpu = True, n_combined_hidden_states = 2, pooling_mode = 0):\n",
        "    n_text_sentences = len(text_sentences)\n",
        "    text_embeddings = np.empty((n_text_sentences, model.config.hidden_size))\n",
        "    for i in range(n_text_sentences):\n",
        "        text_embeddings[i,:] = sentence2embedding(text_sentences[i], tokenizer, model, use_gpu, n_combined_hidden_states, pooling_mode)[:]\n",
        "    return text_embeddings\n",
        "\n",
        "def sentence_embeddings(data):\n",
        "  text_embeddings = text2sentence_embeddings(data, \n",
        "                                                tokenizer, \n",
        "                                                model, \n",
        "                                                use_gpu, \n",
        "                                                n_combined_hidden_states, \n",
        "                                                pooling_mode)\n",
        "  return text_embeddings"
      ]
    },
    {
      "attachments": {},
      "cell_type": "markdown",
      "metadata": {},
      "source": [
        "### Metode Clustering untuk Penghapusan Topik yang Tidak Penting"
      ]
    },
    {
      "cell_type": "markdown",
      "metadata": {},
      "source": [
        "Pemilihan metode clustering berdasarkan nilai Silhouette Coefficient (SC), Davies Bouldin Index (DBI), dan Halinksi Harabaz (HB). Berikut fungsi untuk ketiga metode evaluasi unsupervised"
      ]
    },
    {
      "cell_type": "code",
      "execution_count": 9,
      "metadata": {
        "id": "Cvz4MkOeCMQa"
      },
      "outputs": [],
      "source": [
        "def dbi (model_c, embedding, k_max):\n",
        "  if model_c == 'Agglomerative':\n",
        "    model = AgglomerativeClustering(k_max).fit(embedding)\n",
        "  elif model_c =='KMeans':\n",
        "    model = KMeans(k_max).fit(embedding)\n",
        "  else:\n",
        "    model = KMedoids(k_max, init='k-medoids++').fit(embedding)\n",
        "\n",
        "  dbi = davies_bouldin_score(embedding, model.labels_)\n",
        "\n",
        "  return dbi"
      ]
    },
    {
      "cell_type": "code",
      "execution_count": 11,
      "metadata": {
        "id": "o80Bqe4NCTae"
      },
      "outputs": [],
      "source": [
        "def chi(model, embedding, k_max):\n",
        "  if model=='Agglomerative':\n",
        "    model = AgglomerativeClustering(k_max).fit(embedding)\n",
        "  elif model=='KMeans':\n",
        "    model = KMeans(n_clusters=k_max).fit(embedding)\n",
        "  else:\n",
        "    model = KMedoids(k_max, init='k-medoids++').fit(embedding)\n",
        "\n",
        "  chi = calinski_harabasz_score(embedding, model.labels_)\n",
        "  \n",
        "  return chi"
      ]
    },
    {
      "cell_type": "markdown",
      "metadata": {},
      "source": [
        "Metode Silhouette juga digunakan untuk menghitung jumlah klaster optimal"
      ]
    },
    {
      "cell_type": "code",
      "execution_count": 185,
      "metadata": {
        "id": "l_776KXUCN-8"
      },
      "outputs": [],
      "source": [
        "def get_silhouette (model_c, embedding, k_max):\n",
        "  silhouette = {}\n",
        "\n",
        "  for k in range(2, k_max):\n",
        "    if model_c =='Agglomerative':\n",
        "      model = AgglomerativeClustering(n_clusters=k).fit(embedding)\n",
        "    elif model_c =='KMeans':\n",
        "      model = KMeans(n_clusters=k).fit(embedding)\n",
        "    else:\n",
        "      model = KMedoids(n_clusters=k, init='k-medoids++').fit(embedding)\n",
        "    silhouette[k] = silhouette_score(embedding, model.labels_)\n",
        "\n",
        "  max_value = max(silhouette.values())\n",
        "  max_index = max(silhouette, key=silhouette.get)\n",
        "\n",
        "  return max_index, max_value"
      ]
    },
    {
      "cell_type": "markdown",
      "metadata": {},
      "source": [
        "Metode Elbow digunakan untuk menghitung jumlah klaster optimal. Dari metode Silhouette dan Elbow akan digunakan jumlah klaster tertinggi"
      ]
    },
    {
      "cell_type": "code",
      "execution_count": 192,
      "metadata": {
        "id": "naL2WepVCRRU"
      },
      "outputs": [],
      "source": [
        "def elbow(model_c, embedding, k_max):\n",
        "  if model_c=='Agglomerative':\n",
        "    elb_visualizer = KElbowVisualizer(AgglomerativeClustering(), k=(2,k_max), timings=False).fit(embedding)\n",
        "  elif model_c=='KMeans':\n",
        "    elb_visualizer = KElbowVisualizer(KMeans(), k=(2,k_max), timings=False).fit(embedding)\n",
        "  else:\n",
        "    elb_visualizer = KElbowVisualizer(KMedoids(init='k-medoids++'), k=(2,k_max), timings=False).fit(embedding)\n",
        "\n",
        "  max_index = elb_visualizer.elbow_value_\n",
        "  max_value = elb_visualizer.elbow_score_\n",
        "  \n",
        "  return max_index, max_value"
      ]
    },
    {
      "cell_type": "markdown",
      "metadata": {},
      "source": [
        "Tahapan awal dilakukan pengurangan dimensi menggunakan PCA karena pada saat menggunakan dimensi asli dari model BERT yaitu 729 menghasilkan jumlah klaster yang lebih banyak. Hal ini akan menyebabkan metode clustering lebih sensitif terhadap pengelompokkan kalimatnya."
      ]
    },
    {
      "cell_type": "markdown",
      "metadata": {},
      "source": [
        "Tahapan berikutnya mencari jumlah klaster optimal menggunakan silhouette dan elbow, dimana jumlah klaster tertinggi akan digunakan sebagai inisialisasi jumlah klaster untuk metode clustering."
      ]
    },
    {
      "cell_type": "code",
      "execution_count": 200,
      "metadata": {
        "id": "O7VklE4OCWkg"
      },
      "outputs": [],
      "source": [
        "def n_clustering(model_c, embeddingr, k_max):\n",
        "    pca = PCA(n_components=2)\n",
        "    embedding = pca.fit_transform(embeddingr)\n",
        "    clus = []\n",
        "\n",
        "    ss, score_s = get_silhouette(model_c, embedding, k_max)\n",
        "    el, score_e = elbow(model_c, embedding, k_max)\n",
        "\n",
        "    clus = [ss, el]\n",
        "            \n",
        "    print(clus)\n",
        "    clus.sort(reverse=True)\n",
        "    clus_opt = {x:clus.count(x) for x in clus}\n",
        "    index_max = max(clus_opt, key=clus_opt.get)\n",
        "    print(index_max)\n",
        "    \n",
        "    score_chi = chi(model_c, embedding, index_max)\n",
        "    score_dbi = dbi(model_c, embedding, index_max)\n",
        "    alscore = [score_s, score_chi, score_dbi]\n",
        "    \n",
        "    return index_max, alscore\n",
        "\n",
        "def clustering(model_c, embedding,n_cluster):\n",
        "    if model_c =='Agglomerative':\n",
        "      clus = AgglomerativeClustering(n_clusters=n_cluster).fit_predict(embedding)\n",
        "    elif model_c =='KMeans':\n",
        "      clus = KMeans(n_clusters=n_cluster).fit_predict(embedding)\n",
        "    else:\n",
        "      clus = KMedoids(n_clusters=n_cluster, init='k-medoids++').fit_predict(embedding)\n",
        "\n",
        "    return clus"
      ]
    },
    {
      "cell_type": "markdown",
      "metadata": {},
      "source": [
        "Pencarian jumlah klaster optimal dilakukan dari rentang 2 sampai 10. Penentuan jumlah maksimal berdasarkan penelitian sebelumnya [Cahyaningtyas dkk., 2021](https://doi.org/10.22219/kinetik.v6i3.1300) dimana topik yang muncul dalam ulasan tidak lebih dari 10."
      ]
    },
    {
      "cell_type": "markdown",
      "metadata": {},
      "source": [
        "Pada file perbandingan_clustering.ipynb telah dilakukan proses pencarian metode clustering maksimal untuk Data TripAdvisor sehingga pada fungsi di bawah hanya melakukan eksekusi program untuk metode terbaik yaitu K-Means "
      ]
    },
    {
      "cell_type": "code",
      "execution_count": 206,
      "metadata": {
        "id": "Bry-VQkcCZCn"
      },
      "outputs": [],
      "source": [
        "def clustering_sent(model_c, data, cls_max=False):\n",
        "    data_ext = {}\n",
        "\n",
        "    for d in range(len(data)):\n",
        "        y = data[d]['sentence']\n",
        "        embedding = sentence_embeddings(y)\n",
        "        tmp_txt = []\n",
        "        tmp_clus = []\n",
        "\n",
        "        k_max = 10\n",
        "        \n",
        "        print('data '+str(d))\n",
        "        cls, score = n_clustering(model_c, embedding, k_max)\n",
        "        agg = clustering(model_c, embedding,cls)\n",
        "\n",
        "        for i in range(len(y)):\n",
        "            tmp_txt.append(y[i])\n",
        "            tmp_clus.append(agg[i])\n",
        "        \n",
        "        data_ext[d] = {}\n",
        "        data_ext[d]['text'] = tmp_txt\n",
        "        data_ext[d]['cluster'] = tmp_clus\n",
        "        data_ext[d]['score_clus'] = score\n",
        "\n",
        "    return data_ext"
      ]
    },
    {
      "cell_type": "code",
      "execution_count": 252,
      "metadata": {
        "colab": {
          "base_uri": "https://localhost:8080/",
          "height": 1000
        },
        "id": "7O-99yp-CcEy",
        "outputId": "ba4cfd6e-36e6-4587-b4af-e4f9c581faf6"
      },
      "outputs": [
        {
          "name": "stdout",
          "output_type": "stream",
          "text": [
            "data 0\n",
            "[4, 4]\n",
            "4\n",
            "data 1\n",
            "[4, 4]\n",
            "4\n",
            "data 2\n",
            "[9, 5]\n",
            "9\n",
            "data 3\n",
            "[5, 5]\n",
            "5\n",
            "data 4\n",
            "[9, 4]\n",
            "9\n",
            "data 5\n",
            "[3, 3]\n",
            "3\n",
            "data 6\n",
            "[3, 4]\n",
            "4\n",
            "data 7\n",
            "[8, 4]\n",
            "8\n",
            "data 8\n",
            "[6, 4]\n",
            "6\n",
            "data 9\n",
            "[2, 4]\n",
            "4\n",
            "data 10\n",
            "[6, 5]\n",
            "6\n",
            "data 11\n",
            "[3, 4]\n",
            "4\n",
            "data 12\n",
            "[8, 4]\n",
            "8\n",
            "data 13\n",
            "[6, 4]\n",
            "6\n",
            "data 14\n",
            "[3, 3]\n",
            "3\n",
            "data 15\n",
            "[4, 4]\n",
            "4\n",
            "data 16\n",
            "[8, 4]\n",
            "8\n",
            "data 17\n",
            "[3, 4]\n",
            "4\n",
            "data 18\n",
            "[3, 4]\n",
            "4\n",
            "data 19\n",
            "[2, 4]\n",
            "4\n",
            "data 20\n",
            "[6, 5]\n",
            "6\n",
            "data 21\n",
            "[4, 4]\n",
            "4\n",
            "data 22\n",
            "[3, 4]\n",
            "4\n",
            "data 23\n",
            "[3, 3]\n",
            "3\n",
            "data 24\n",
            "[4, 4]\n",
            "4\n",
            "data 25\n",
            "[3, 4]\n",
            "4\n",
            "data 26\n",
            "[9, 5]\n",
            "9\n",
            "data 27\n",
            "[6, 5]\n",
            "6\n",
            "data 28\n",
            "[2, 4]\n",
            "4\n",
            "data 29\n",
            "[7, 4]\n",
            "7\n",
            "data 30\n",
            "[3, 4]\n",
            "4\n",
            "data 31\n",
            "[2, 4]\n",
            "4\n",
            "data 32\n",
            "[9, 4]\n",
            "9\n",
            "data 33\n",
            "[9, 4]\n",
            "9\n",
            "data 34\n",
            "[3, 4]\n",
            "4\n",
            "data 35\n",
            "[5, 4]\n",
            "5\n",
            "data 36\n",
            "[3, 3]\n",
            "3\n",
            "data 37\n",
            "[3, 3]\n",
            "3\n",
            "data 38\n",
            "[7, 5]\n",
            "7\n",
            "data 39\n",
            "[2, 4]\n",
            "4\n",
            "data 40\n",
            "[3, 4]\n",
            "4\n",
            "data 41\n",
            "[9, 4]\n",
            "9\n",
            "data 42\n",
            "[9, 3]\n",
            "9\n",
            "data 43\n",
            "[7, 4]\n",
            "7\n",
            "data 44\n",
            "[6, 4]\n",
            "6\n",
            "data 45\n",
            "[3, 4]\n",
            "4\n",
            "data 46\n",
            "[5, 4]\n",
            "5\n",
            "data 47\n",
            "[3, 4]\n",
            "4\n",
            "data 48\n",
            "[3, 4]\n",
            "4\n",
            "data 49\n",
            "[6, 4]\n",
            "6\n",
            "data 50\n",
            "[2, 4]\n",
            "4\n",
            "data 51\n",
            "[3, 4]\n",
            "4\n",
            "data 52\n",
            "[3, 4]\n",
            "4\n",
            "data 53\n",
            "[4, 4]\n",
            "4\n",
            "data 54\n",
            "[7, 4]\n",
            "7\n",
            "data 55\n",
            "[7, 4]\n",
            "7\n",
            "data 56\n",
            "[3, 4]\n",
            "4\n",
            "data 57\n",
            "[3, 4]\n",
            "4\n",
            "data 58\n",
            "[3, 3]\n",
            "3\n",
            "data 59\n",
            "[2, 4]\n",
            "4\n",
            "data 60\n",
            "[8, 4]\n",
            "8\n",
            "data 61\n",
            "[3, 4]\n",
            "4\n",
            "data 62\n",
            "[4, 4]\n",
            "4\n",
            "data 63\n",
            "[3, 4]\n",
            "4\n",
            "data 64\n",
            "[3, 4]\n",
            "4\n",
            "data 65\n",
            "[9, 4]\n",
            "9\n",
            "data 66\n",
            "[2, 4]\n",
            "4\n",
            "data 67\n",
            "[8, 4]\n",
            "8\n",
            "data 68\n",
            "[3, 4]\n",
            "4\n",
            "data 69\n",
            "[9, 5]\n",
            "9\n",
            "data 70\n",
            "[8, 4]\n",
            "8\n",
            "data 71\n",
            "[2, 4]\n",
            "4\n",
            "data 72\n",
            "[3, 3]\n",
            "3\n",
            "data 73\n",
            "[3, 4]\n",
            "4\n",
            "data 74\n",
            "[6, 4]\n",
            "6\n",
            "data 75\n",
            "[5, 4]\n",
            "5\n",
            "data 76\n",
            "[3, 4]\n",
            "4\n",
            "data 77\n",
            "[3, 3]\n",
            "3\n",
            "data 78\n",
            "[5, 5]\n",
            "5\n",
            "data 79\n",
            "[3, 4]\n",
            "4\n",
            "data 80\n",
            "[3, 4]\n",
            "4\n",
            "data 81\n",
            "[6, 4]\n",
            "6\n",
            "data 82\n",
            "[2, 4]\n",
            "4\n",
            "data 83\n",
            "[4, 4]\n",
            "4\n",
            "data 84\n",
            "[3, 4]\n",
            "4\n",
            "data 85\n",
            "[3, 4]\n",
            "4\n",
            "data 86\n",
            "[3, 4]\n",
            "4\n",
            "data 87\n",
            "[3, 4]\n",
            "4\n",
            "data 88\n",
            "[5, 5]\n",
            "5\n",
            "data 89\n",
            "[7, 4]\n",
            "7\n",
            "data 90\n",
            "[4, 4]\n",
            "4\n",
            "data 91\n",
            "[3, 4]\n",
            "4\n",
            "data 92\n",
            "[2, 4]\n",
            "4\n",
            "data 93\n",
            "[4, 4]\n",
            "4\n",
            "data 94\n",
            "[3, 4]\n",
            "4\n",
            "data 95\n",
            "[9, 4]\n",
            "9\n",
            "data 96\n",
            "[5, 4]\n",
            "5\n",
            "data 97\n",
            "[3, 3]\n",
            "3\n",
            "data 98\n",
            "[9, 4]\n",
            "9\n",
            "data 99\n",
            "[4, 4]\n",
            "4\n",
            "data 100\n",
            "[5, 4]\n",
            "5\n",
            "data 101\n",
            "[6, 4]\n",
            "6\n",
            "data 102\n",
            "[3, 4]\n",
            "4\n",
            "data 103\n",
            "[7, 3]\n",
            "7\n",
            "data 104\n",
            "[3, 4]\n",
            "4\n",
            "data 105\n",
            "[4, 4]\n",
            "4\n",
            "data 106\n",
            "[3, 4]\n",
            "4\n",
            "data 107\n",
            "[3, 3]\n",
            "3\n",
            "data 108\n",
            "[3, 3]\n",
            "3\n",
            "data 109\n",
            "[2, 4]\n",
            "4\n",
            "data 110\n",
            "[6, 4]\n",
            "6\n",
            "data 111\n",
            "[3, 4]\n",
            "4\n",
            "data 112\n",
            "[9, 4]\n",
            "9\n",
            "data 113\n",
            "[9, 5]\n",
            "9\n",
            "data 114\n",
            "[3, 4]\n",
            "4\n",
            "data 115\n",
            "[8, 4]\n",
            "8\n",
            "data 116\n",
            "[3, 4]\n",
            "4\n",
            "data 117\n",
            "[3, 4]\n",
            "4\n",
            "data 118\n",
            "[3, 3]\n",
            "3\n",
            "data 119\n",
            "[3, 4]\n",
            "4\n",
            "data 120\n",
            "[3, 4]\n",
            "4\n",
            "data 121\n",
            "[3, 4]\n",
            "4\n",
            "data 122\n",
            "[9, 3]\n",
            "9\n",
            "data 123\n",
            "[3, 4]\n",
            "4\n",
            "data 124\n",
            "[4, 4]\n",
            "4\n",
            "data 125\n",
            "[3, 4]\n",
            "4\n",
            "data 126\n",
            "[3, 4]\n",
            "4\n",
            "data 127\n",
            "[3, 3]\n",
            "3\n",
            "data 128\n",
            "[9, 4]\n",
            "9\n",
            "data 129\n",
            "[5, 5]\n",
            "5\n",
            "data 130\n",
            "[6, 4]\n",
            "6\n",
            "data 131\n",
            "[3, 4]\n",
            "4\n",
            "data 132\n",
            "[3, 3]\n",
            "3\n",
            "data 133\n",
            "[3, 3]\n",
            "3\n",
            "data 134\n",
            "[3, 3]\n",
            "3\n",
            "data 135\n",
            "[6, 4]\n",
            "6\n",
            "data 136\n",
            "[3, 3]\n",
            "3\n",
            "data 137\n",
            "[5, 4]\n",
            "5\n",
            "data 138\n",
            "[9, 5]\n",
            "9\n",
            "data 139\n",
            "[3, 4]\n",
            "4\n",
            "data 140\n",
            "[2, 4]\n",
            "4\n",
            "data 141\n",
            "[6, 4]\n",
            "6\n",
            "data 142\n",
            "[3, 4]\n",
            "4\n",
            "data 143\n",
            "[4, 4]\n",
            "4\n",
            "data 144\n",
            "[9, 5]\n",
            "9\n",
            "data 145\n",
            "[5, 5]\n",
            "5\n",
            "data 146\n",
            "[5, 5]\n",
            "5\n",
            "data 147\n",
            "[3, 4]\n",
            "4\n",
            "data 148\n",
            "[7, 4]\n",
            "7\n",
            "data 149\n",
            "[3, 3]\n",
            "3\n",
            "data 150\n",
            "[3, 4]\n",
            "4\n",
            "data 151\n",
            "[3, 4]\n",
            "4\n",
            "data 152\n",
            "[6, 4]\n",
            "6\n",
            "data 153\n",
            "[9, 4]\n",
            "9\n",
            "data 154\n",
            "[3, 5]\n",
            "5\n",
            "data 155\n",
            "[3, 4]\n",
            "4\n",
            "data 156\n",
            "[3, 4]\n",
            "4\n",
            "data 157\n",
            "[5, 4]\n",
            "5\n",
            "data 158\n",
            "[3, 3]\n",
            "3\n",
            "data 159\n",
            "[3, 4]\n",
            "4\n",
            "data 160\n",
            "[3, 4]\n",
            "4\n",
            "data 161\n",
            "[9, 4]\n",
            "9\n",
            "data 162\n",
            "[3, 4]\n",
            "4\n",
            "data 163\n",
            "[8, 4]\n",
            "8\n",
            "data 164\n",
            "[2, 4]\n",
            "4\n",
            "data 165\n",
            "[4, 4]\n",
            "4\n",
            "data 166\n",
            "[3, 4]\n",
            "4\n",
            "data 167\n",
            "[3, 4]\n",
            "4\n",
            "data 168\n",
            "[3, 4]\n",
            "4\n",
            "data 169\n",
            "[6, 4]\n",
            "6\n",
            "data 170\n",
            "[3, 4]\n",
            "4\n",
            "data 171\n",
            "[7, 4]\n",
            "7\n",
            "data 172\n",
            "[3, 4]\n",
            "4\n",
            "data 173\n",
            "[9, 4]\n",
            "9\n",
            "data 174\n",
            "[3, 5]\n",
            "5\n",
            "data 175\n",
            "[4, 4]\n",
            "4\n",
            "data 176\n",
            "[8, 4]\n",
            "8\n",
            "data 177\n",
            "[3, 4]\n",
            "4\n",
            "data 178\n",
            "[5, 4]\n",
            "5\n",
            "data 179\n",
            "[4, 4]\n",
            "4\n",
            "data 180\n",
            "[9, 4]\n",
            "9\n",
            "data 181\n",
            "[4, 4]\n",
            "4\n",
            "data 182\n",
            "[3, 4]\n",
            "4\n",
            "data 183\n",
            "[3, 4]\n",
            "4\n",
            "data 184\n",
            "[7, 4]\n",
            "7\n",
            "data 185\n",
            "[8, 4]\n",
            "8\n",
            "data 186\n",
            "[3, 3]\n",
            "3\n",
            "data 187\n",
            "[3, 4]\n",
            "4\n",
            "data 188\n",
            "[3, 4]\n",
            "4\n",
            "data 189\n",
            "[5, 4]\n",
            "5\n",
            "data 190\n",
            "[2, 4]\n",
            "4\n",
            "data 191\n",
            "[2, 4]\n",
            "4\n",
            "data 192\n",
            "[4, 4]\n",
            "4\n",
            "data 193\n",
            "[6, 4]\n",
            "6\n",
            "data 194\n",
            "[3, 3]\n",
            "3\n",
            "data 195\n",
            "[2, 4]\n",
            "4\n",
            "data 196\n",
            "[4, 4]\n",
            "4\n",
            "data 197\n",
            "[3, 4]\n",
            "4\n",
            "data 198\n",
            "[3, 4]\n",
            "4\n",
            "data 199\n",
            "[8, 3]\n",
            "8\n",
            "data 200\n",
            "[3, 4]\n",
            "4\n",
            "data 201\n",
            "[3, 3]\n",
            "3\n",
            "data 202\n",
            "[3, 3]\n",
            "3\n",
            "data 203\n",
            "[9, 4]\n",
            "9\n",
            "data 204\n",
            "[7, 4]\n",
            "7\n",
            "data 205\n",
            "[8, 4]\n",
            "8\n",
            "data 206\n",
            "[3, 3]\n",
            "3\n",
            "data 207\n",
            "[2, 4]\n",
            "4\n",
            "data 208\n",
            "[3, 4]\n",
            "4\n",
            "data 209\n",
            "[3, 3]\n",
            "3\n",
            "data 210\n",
            "[7, 4]\n",
            "7\n",
            "data 211\n",
            "[3, 4]\n",
            "4\n",
            "data 212\n",
            "[9, 4]\n",
            "9\n",
            "data 213\n",
            "[3, 4]\n",
            "4\n",
            "data 214\n",
            "[7, 4]\n",
            "7\n",
            "data 215\n",
            "[8, 4]\n",
            "8\n",
            "data 216\n",
            "[9, 3]\n",
            "9\n",
            "data 217\n",
            "[4, 4]\n",
            "4\n",
            "data 218\n",
            "[2, 4]\n",
            "4\n",
            "data 219\n",
            "[3, 4]\n",
            "4\n",
            "data 220\n",
            "[3, 4]\n",
            "4\n",
            "data 221\n",
            "[5, 4]\n",
            "5\n",
            "data 222\n",
            "[2, 4]\n",
            "4\n",
            "data 223\n",
            "[2, 4]\n",
            "4\n",
            "data 224\n",
            "[3, 4]\n",
            "4\n",
            "data 225\n",
            "[4, 4]\n",
            "4\n",
            "data 226\n",
            "[3, 3]\n",
            "3\n",
            "data 227\n",
            "[3, 4]\n",
            "4\n",
            "data 228\n",
            "[4, 4]\n",
            "4\n",
            "data 229\n",
            "[2, 4]\n",
            "4\n",
            "data 230\n",
            "[3, 4]\n",
            "4\n",
            "data 231\n",
            "[3, 3]\n",
            "3\n",
            "data 232\n",
            "[3, 3]\n",
            "3\n",
            "data 233\n",
            "[3, 3]\n",
            "3\n",
            "data 234\n",
            "[3, 4]\n",
            "4\n",
            "data 235\n",
            "[3, 4]\n",
            "4\n",
            "data 236\n",
            "[5, 5]\n",
            "5\n",
            "data 237\n",
            "[2, 4]\n",
            "4\n",
            "data 238\n",
            "[5, 5]\n",
            "5\n",
            "data 239\n",
            "[5, 4]\n",
            "5\n",
            "data 240\n",
            "[2, 4]\n",
            "4\n",
            "data 241\n",
            "[9, 4]\n",
            "9\n",
            "data 242\n",
            "[6, 5]\n",
            "6\n",
            "data 243\n",
            "[3, 4]\n",
            "4\n",
            "data 244\n",
            "[3, 4]\n",
            "4\n",
            "data 245\n",
            "[6, 5]\n",
            "6\n",
            "data 246\n",
            "[3, 4]\n",
            "4\n",
            "data 247\n",
            "[3, 4]\n",
            "4\n",
            "data 248\n",
            "[3, 3]\n",
            "3\n",
            "data 249\n",
            "[5, 4]\n",
            "5\n",
            "data 250\n",
            "[2, 4]\n",
            "4\n",
            "data 251\n",
            "[3, 4]\n",
            "4\n",
            "data 252\n",
            "[3, 4]\n",
            "4\n",
            "data 253\n",
            "[2, 4]\n",
            "4\n",
            "data 254\n",
            "[2, 4]\n",
            "4\n",
            "data 255\n",
            "[3, 4]\n",
            "4\n",
            "data 256\n",
            "[8, 4]\n",
            "8\n",
            "data 257\n",
            "[4, 4]\n",
            "4\n",
            "data 258\n",
            "[3, 4]\n",
            "4\n",
            "data 259\n",
            "[3, 4]\n",
            "4\n",
            "data 260\n",
            "[9, 4]\n",
            "9\n",
            "data 261\n",
            "[4, 4]\n",
            "4\n",
            "data 262\n",
            "[5, 5]\n",
            "5\n",
            "data 263\n",
            "[4, 4]\n",
            "4\n",
            "data 264\n",
            "[8, 4]\n",
            "8\n",
            "data 265\n",
            "[9, 5]\n",
            "9\n",
            "data 266\n",
            "[2, 4]\n",
            "4\n",
            "data 267\n",
            "[9, 4]\n",
            "9\n",
            "data 268\n",
            "[5, 4]\n",
            "5\n",
            "data 269\n",
            "[8, 5]\n",
            "8\n",
            "data 270\n",
            "[3, 3]\n",
            "3\n",
            "data 271\n",
            "[3, 4]\n",
            "4\n",
            "data 272\n",
            "[8, 4]\n",
            "8\n",
            "data 273\n",
            "[7, 5]\n",
            "7\n",
            "data 274\n",
            "[6, 4]\n",
            "6\n",
            "data 275\n",
            "[4, 3]\n",
            "4\n",
            "data 276\n",
            "[7, 4]\n",
            "7\n",
            "data 277\n",
            "[3, 4]\n",
            "4\n",
            "data 278\n",
            "[3, 3]\n",
            "3\n",
            "data 279\n",
            "[6, 5]\n",
            "6\n",
            "data 280\n",
            "[3, 4]\n",
            "4\n",
            "data 281\n",
            "[3, 4]\n",
            "4\n",
            "data 282\n",
            "[4, 4]\n",
            "4\n",
            "data 283\n",
            "[3, 4]\n",
            "4\n",
            "data 284\n",
            "[6, 4]\n",
            "6\n",
            "data 285\n",
            "[4, 4]\n",
            "4\n",
            "data 286\n",
            "[2, 4]\n",
            "4\n",
            "data 287\n",
            "[2, 5]\n",
            "5\n",
            "data 288\n",
            "[3, 4]\n",
            "4\n",
            "data 289\n",
            "[2, 4]\n",
            "4\n",
            "data 290\n",
            "[3, 3]\n",
            "3\n",
            "data 291\n",
            "[3, 4]\n",
            "4\n",
            "data 292\n",
            "[2, 4]\n",
            "4\n",
            "data 293\n",
            "[6, 5]\n",
            "6\n",
            "data 294\n",
            "[3, 4]\n",
            "4\n",
            "data 295\n",
            "[4, 4]\n",
            "4\n",
            "data 296\n",
            "[4, 4]\n",
            "4\n",
            "data 297\n",
            "[3, 4]\n",
            "4\n",
            "data 298\n",
            "[3, 4]\n",
            "4\n",
            "data 299\n",
            "[8, 5]\n",
            "8\n"
          ]
        },
        {
          "data": {
            "image/png": "[encoded data removed]",
            "text/plain": [
              "<Figure size 800x550 with 1 Axes>"
            ]
          },
          "metadata": {},
          "output_type": "display_data"
        }
      ],
      "source": [
        "model_c = 'KMeans'\n",
        "data_ext = clustering_sent(model_c, doc)"
      ]
    },
    {
      "cell_type": "markdown",
      "metadata": {},
      "source": [
        "Setelah dilakukan proses *clustering*, hasil klaster dapat disimpan pada json dengan kode di bawah ini."
      ]
    },
    {
      "cell_type": "code",
      "execution_count": 347,
      "metadata": {},
      "outputs": [],
      "source": [
        "with open(\"./juti/result_tripadvisor/file-uploads/clustering-kmeans2.json\",\"w\") as f:\n",
        "    json.dump(data_ext,f, default=int)"
      ]
    },
    {
      "cell_type": "markdown",
      "metadata": {},
      "source": [
        "Meng-*import* hasil *clustering* yang sudah disimpan sebelumnya."
      ]
    },
    {
      "cell_type": "code",
      "execution_count": 35,
      "metadata": {},
      "outputs": [],
      "source": [
        "f= open(\"./clustering-kmeans.json\")\n",
        "data_ext = json.load(f)"
      ]
    },
    {
      "attachments": {},
      "cell_type": "markdown",
      "metadata": {},
      "source": [
        "### Tahapan Ekstraktif Menggunakan Kombinasi Fitur: Relevansi, Keterbaruan Informasi/*Novelty*, Posisi, dan *Sentiment-keyword* (RKiPS) "
      ]
    },
    {
      "cell_type": "markdown",
      "metadata": {},
      "source": [
        "**Fitur Relevansi** didapatkan dari kedekatan kalimat dengan centroid. Fitur ini menunjukkan bahwa nilai yang tinggi memiliki kedekatan informasi dengan topik utama. Kedekatan antara kalimat dengan centroid dilakukan berdasarkan perhitungan cosine similarity."
      ]
    },
    {
      "cell_type": "code",
      "execution_count": 15,
      "metadata": {
        "id": "91PmgAZXt3nA"
      },
      "outputs": [],
      "source": [
        "# Fungsi untuk menghitung cosine similarity\n",
        "def cosine(u, v):\n",
        "  return np.dot(u, v) / (np.linalg.norm(u) * np.linalg.norm(v))"
      ]
    },
    {
      "cell_type": "code",
      "execution_count": 16,
      "metadata": {
        "id": "sFmR9QnGBf30"
      },
      "outputs": [],
      "source": [
        "# Fungsi untuk menghitung relevansi dengan menggunakan parameter centroid dan embedding kalimat\n",
        "def content_relevance(centroid,hypothesis_embeddings):\n",
        "  d = {}\n",
        "  for sentence,embed in hypothesis_embeddings.items():\n",
        "    d[sentence] = cosine(centroid,embed)\n",
        "    \n",
        "  return d"
      ]
    },
    {
      "cell_type": "markdown",
      "metadata": {},
      "source": [
        "**Fitur keterbaruan informasi/*Novelty*** digunakan mendapatkan informasi baru dan mengurangi redundansi dari ringkasan. Fitur ini berdasarkan nilai *threshold* untuk menghitung suatu kalimat apakah memiliki informasi baru atau tidak. Suatu kalimat akan dibandingkan dengan kalimat lain pada dokumen yang sama untuk melihat kedekatan antar kalimatnya. Terdapat 3 kondisi untuk fitur keterbaruan informasi/*novelty* antara lain:\n",
        "1. Apabila suatu kalimat memiliki kedekatan antar kalimat lainnya yang rendah dibandingkan nilai *threshold* maka kalimat tersebut memiliki nilai *novelty* yang tinggi yaitu 1.\n",
        "2. Apabila suatu kalimat memiliki kedekatan antar kalimat lainnya yang lebih tinggi dibandingkan nilai *treshold* maka terdapat kondisi berikutnya yang perlu dicek yaitu apabila kalimat memiliki nilai relevansi yang tinggi dibandingkan dengan kalimat lainnya yang ada di dokumen tersebut maka memiliki nilai *novelty* yang tinggi yaitu 1.\n",
        "3. Apabila tidak memenuhi kondisi diatas maka memiliki nilai -> 1-max_similarity."
      ]
    },
    {
      "cell_type": "code",
      "execution_count": 160,
      "metadata": {
        "id": "m4pp_pbOBhje"
      },
      "outputs": [],
      "source": [
        "# Fungsi untuk menghitung keterbaruan informasi/novelty dengan menggunakan parameter nilai relevansi dan embedding kalimat\n",
        "def sentence_novelty(content_relevance_score,hypothesis_embeddings):\n",
        "  novel_sentences = {}\n",
        "  TAU = 0.95\n",
        "  for sent1,embed1 in hypothesis_embeddings.items():\n",
        "    max_similarity = 0\n",
        "    for sent2,embed2 in hypothesis_embeddings.items():\n",
        "      if sent1!=sent2 and cosine(embed1,embed2)>max_similarity:\n",
        "          max_similarity = cosine(embed1,embed2)\n",
        "\n",
        "    # Kondisi 1\n",
        "    if max_similarity<TAU:\n",
        "      novel_sentences[sent1] = 1\n",
        "\n",
        "    # Kondisi 2\n",
        "    elif max_similarity>TAU:\n",
        "      if content_relevance_score[sent1]>content_relevance_score[sent2]:\n",
        "        novel_sentences[sent1] = 1\n",
        "      else:\n",
        "        novel_sentences[sent1] = 1-max_similarity\n",
        "\n",
        "    # Kondisi 3\n",
        "    else:\n",
        "      novel_sentences[sent1] = 1-max_similarity\n",
        "\n",
        "  return novel_sentences"
      ]
    },
    {
      "cell_type": "markdown",
      "metadata": {},
      "source": [
        "**Fitur posisi** menerapkan konsep bahwa kalimat pada posisi pertama memiliki nilai yang lebih tinggi dibandingkan kalimat yang jauh dari posisi pertama."
      ]
    },
    {
      "cell_type": "code",
      "execution_count": 18,
      "metadata": {
        "id": "z81tlUfRE0fi"
      },
      "outputs": [],
      "source": [
        "def sentence_position(hypothesis):\n",
        "  score_sent = {}\n",
        "  for i,sent in enumerate(hypothesis):\n",
        "      score_sent[sent] = max(0.5,math.exp(-(i+1)/(len(hypothesis)**(1/3))))\n",
        "  \n",
        "  return score_sent"
      ]
    },
    {
      "cell_type": "markdown",
      "metadata": {},
      "source": [
        "**Fitur *sentiment-keyword*** terdiri dari *sentiment* yang digunakan untuk mendapatkan nilai opini dari sebuah kalimat yang berfungsi untuk menilai sebuah topik bahasan, sedangkan *keyword* untuk mendapatkan nilai penting berupa *n-gram* pada sebuah dokumen."
      ]
    },
    {
      "cell_type": "code",
      "execution_count": 19,
      "metadata": {
        "colab": {
          "base_uri": "https://localhost:8080/"
        },
        "id": "6u4G-RHHBk_w",
        "outputId": "b054e540-7792-4f66-84ae-339395d5c1c8"
      },
      "outputs": [],
      "source": [
        "# Fungsi untuk mengekstraksi keyword menggunakan model YAKE\n",
        "def keyword_extractor(text):\n",
        "    kword = []\n",
        "    kw_extractor = yake.KeywordExtractor()\n",
        "    keywords = kw_extractor.extract_keywords(text)\n",
        "    \n",
        "    for kw in range(len(keywords)):\n",
        "        kword.append(keywords[kw])\n",
        "    \n",
        "    keywords = sorted(kword,key=lambda x:(-x[1],x[0]))\n",
        "\n",
        "    return keywords"
      ]
    },
    {
      "cell_type": "markdown",
      "metadata": {},
      "source": [
        "Pada bagian *keyword* diawali dengan penghapusan *stopwords* agar mengurangi *keyword* yang memiliki kata-kata yang tidak penting seperti kata hubung. Kemudian model Yake akan mengekstraksi keyword berdasarkan dokumen. Kalimat-kalimat yang memiliki atau terdiri dari kata *keyword* maka akan dihitung sebagai fitur *keyword*, dimana nilai setiap *keyword* dihasilkan dari model Yake. Nilai-nilai *keyword* yang telah terkumpul akan dijumlahkan sehingga suatu kalimat akan memiliki nilai akhir untuk *keyword*."
      ]
    },
    {
      "cell_type": "code",
      "execution_count": 20,
      "metadata": {
        "colab": {
          "base_uri": "https://localhost:8080/"
        },
        "id": "r2Fz20weFUUL",
        "outputId": "b94b58a2-f5c5-4815-f10b-ff5b1f1d62dc"
      },
      "outputs": [],
      "source": [
        "# Fungsi untuk menghapus stopwords untuk proses ekstraksi keyword\n",
        "def remove_stop_words(text):\n",
        "    stop_factory = stopwords.words('indonesian')\n",
        "    clean_words = []\n",
        "    text = word_tokenize(text)\n",
        "    for word in text:\n",
        "        if word not in stop_factory:\n",
        "            clean_words.append(word)\n",
        "    return \" \".join(clean_words)\n",
        "\n",
        "def stem_process(text):\n",
        "  factory = StemmerFactory()\n",
        "  stemmer = factory.create_stemmer()\n",
        "  return stemmer.stem(text)\n",
        "\n",
        "def key_clean_process(text, stem=False):\n",
        "    text = remove_stop_words(text)\n",
        "    if stem==True:\n",
        "      text = stem_process(text)\n",
        "    return text"
      ]
    },
    {
      "cell_type": "code",
      "execution_count": 21,
      "metadata": {
        "id": "FL6xtGGwE6yw"
      },
      "outputs": [],
      "source": [
        "# Proses ekstraksi keyword dengan fungsi yang telah dibuat sebelumnya\n",
        "data_k = []\n",
        "for d in range(len(doc)):\n",
        "  clean_ = ' '.join(doc[d]['sentence'])\n",
        "  clean_ = key_clean_process(clean_)\n",
        "  data_k.append(clean_)\n",
        "\n",
        "data_key = {}\n",
        "for i in range(len(data_k)):\n",
        "  data_key[i] = (keyword_extractor(data_k[i]))"
      ]
    },
    {
      "cell_type": "code",
      "execution_count": 230,
      "metadata": {},
      "outputs": [
        {
          "data": {
            "text/plain": [
              "'kolam renang nya'"
            ]
          },
          "execution_count": 230,
          "metadata": {},
          "output_type": "execute_result"
        }
      ],
      "source": [
        "# Contoh hasil keyword dari dokumen dengan indeks i=0\n",
        "data_key[0]"
      ]
    },
    {
      "cell_type": "code",
      "execution_count": 348,
      "metadata": {
        "colab": {
          "base_uri": "https://localhost:8080/"
        },
        "id": "m2-2D3NTzjtF",
        "outputId": "2ddee3c3-77e6-4766-89d0-a57e92b588d6"
      },
      "outputs": [],
      "source": [
        "# Menyimpan keyword yang telah diekstraksi\n",
        "with open(\"./juti/result_tripadvisor/file-uploads/keyword2.json\",\"w\") as f:\n",
        "    json.dump(data_key,f, default=int)"
      ]
    },
    {
      "cell_type": "markdown",
      "metadata": {},
      "source": [
        "Pada bagian *sentiment* didapatkan nilai dari model VADER yang memiliki leksikon Bahasa Inggris. Oleh karena itu, penerapan VADER pada Bahasa Indonesia diawali dengan menerjemahkan dokumen Bahasa Indonesia ke Bahasa Inggris dengan menggunakan *library* \"deep_translator\""
      ]
    },
    {
      "cell_type": "code",
      "execution_count": 237,
      "metadata": {
        "id": "klHlygCcFi7J"
      },
      "outputs": [],
      "source": [
        "# Fungsi untuk mendapatkan nilai sentiment menggunakan model VADER\n",
        "vader_sentiment = SentimentIntensityAnalyzer()\n",
        "def vader_sentiment_scores(text):\n",
        "  score = vader_sentiment.polarity_scores(text)\n",
        "  return score['compound']\n",
        "\n",
        "def prediksiSentiment(kalimat):\n",
        "    # Penerjemah Bahasa Indonesia ke Bahasa Inggris\n",
        "    translated = GoogleTranslator(source='auto', target='en').translate(kalimat)\n",
        "    wordlist = len(word_tokenize(kalimat))\n",
        "    val = abs(vader_sentiment_scores(translated)/wordlist)\n",
        "    return val"
      ]
    },
    {
      "cell_type": "code",
      "execution_count": 238,
      "metadata": {
        "id": "nrbb34WyFlFA"
      },
      "outputs": [],
      "source": [
        "def normalization_sen(text, keyword):\n",
        "  lprob = []\n",
        "  for i,sent in enumerate(text):\n",
        "    val = prediksiSentiment(sent)\n",
        "    \n",
        "    nk = []\n",
        "    for k in range(len(keyword)):\n",
        "      split_keyword = keyword[k][0].split()\n",
        "      for sk in split_keyword:\n",
        "        if sk in sent:\n",
        "          nk.append(keyword[k][1]) \n",
        "    key = np.sum(nk)\n",
        "        \n",
        "    prob = key + val\n",
        "    lprob.append(prob)\n",
        "\n",
        "  score_sent = {}\n",
        "  for i,sent in enumerate(text):\n",
        "    score_sent[sent] = lprob[i]\n",
        "  \n",
        "  return score_sent"
      ]
    },
    {
      "attachments": {},
      "cell_type": "markdown",
      "metadata": {},
      "source": [
        "Penggabungan kombinasi fitur yang telah dijelaskan di atas serta perhitungan nilai akhir dengan perkalian bobot untuk setiap fitur, dimana bobot *alpha* dikalikan dengan fitur relevansi, bobot *beta* dikalikan dengan fitur keterbaruan informasi/*novelty*, bobot *gamma* dikalikan dengan fitur posisi, dan bobot *teta* dikalikan dengan fitur *sentiment-keyword*."
      ]
    },
    {
      "cell_type": "markdown",
      "metadata": {},
      "source": [
        "Bagian ini juga merupakan proses lanjutan untuk penhapusan topik yang tidak penting dari hasil *clustering*. Pada variabel after_clus adalah dokumen baru setelah penghapusan topik tidak penting dengan ketentuan jumlah anggota klaster lebih dari 2."
      ]
    },
    {
      "cell_type": "code",
      "execution_count": 253,
      "metadata": {},
      "outputs": [
        {
          "name": "stderr",
          "output_type": "stream",
          "text": [
            "100%|██████████| 300/300 [1:25:03<00:00, 17.01s/it]\n"
          ]
        }
      ],
      "source": [
        "def total_score(alpha, beta, gamma, teta, content_relevance_score, sentence_novelty_score, sentiment, sentence_pos):\n",
        "  final_score = {}\n",
        "  for sent in content_relevance_score:\n",
        "    final_score[sent] = (alpha*content_relevance_score[sent])+(beta*sentence_novelty_score[sent])+(gamma*sentence_pos[sent])+(teta*sentiment[sent])\n",
        "  final_score = {k: v for k, v in sorted(final_score.items(), key=lambda item: item[1],reverse=True)}\n",
        "      \n",
        "  return final_score\n",
        "\n",
        "def convert_to_embeddings(alpha, beta, gamma, teta, text_sentences, text_embeddings, keyword, sentence_pos):\n",
        "  hypothesis_embeddings = {}\n",
        "  sum = 0\n",
        "  index = 0\n",
        "\n",
        "  for sent in text_sentences:\n",
        "    var = text_embeddings[index]\n",
        "    sum += var\n",
        "    hypothesis_embeddings[sent] = var\n",
        "    index += 1\n",
        "\n",
        "  centroid = sum/len(text_sentences)\n",
        "  \n",
        "  content_relevance_score = content_relevance(centroid,hypothesis_embeddings)\n",
        "  sentence_novelty_score = sentence_novelty(content_relevance_score,hypothesis_embeddings)\n",
        "  phrasa_score = normalization_sen(text_sentences, keyword)\n",
        "  return total_score(alpha, beta, gamma, teta, content_relevance_score, sentence_novelty_score, phrasa_score, sentence_pos)\n",
        "\n",
        "def iter_ext(data, data_pos, alpha, beta, gamma, teta):\n",
        "    extractive = []\n",
        "    result_dict = defaultdict(list)\n",
        "\n",
        "    for index,v in tqdm(data.items()):\n",
        "\n",
        "        datapoint_length = {x:data[index]['cluster'].count(x) for x in data[index]['cluster']}\n",
        "        sentence_pos = sentence_position(data_pos[int(index)]['sentence'])\n",
        "        after_clus = []\n",
        "        for c in range(len(datapoint_length)):\n",
        "            txt = []\n",
        "\n",
        "            for t in range (len(data[index]['text'])):\n",
        "                if data[index]['cluster'][t] == c:\n",
        "                    txt.append(data[index]['text'][t])\n",
        "\n",
        "            if len(txt) > 2:\n",
        "               after_clus.extend(txt)\n",
        "               \n",
        "        text_embeddings = sentence_embeddings(after_clus)\n",
        "        predicted_summary = convert_to_embeddings(alpha, beta, gamma, teta, after_clus, text_embeddings, data_key[int(index)], sentence_pos) \n",
        "        result_dict[index].append(predicted_summary)\n",
        "\n",
        "    return result_dict\n",
        "\n",
        "extract_skp = iter_ext(data_ext, doc, 0.5, 0.2, 0.2, 0.1)"
      ]
    },
    {
      "cell_type": "code",
      "execution_count": 345,
      "metadata": {},
      "outputs": [],
      "source": [
        "with open(\"./juti/result_tripadvisor/file-uploads/skoring-rkips2.json\",\"w\") as f:\n",
        "    json.dump(extract_skp,f, default=int)"
      ]
    },
    {
      "cell_type": "code",
      "execution_count": 22,
      "metadata": {},
      "outputs": [],
      "source": [
        "import json\n",
        "f= open(r\"../main/extract_skp_2.json\")\n",
        "extract_skp = json.load(f)"
      ]
    },
    {
      "cell_type": "code",
      "execution_count": 281,
      "metadata": {},
      "outputs": [],
      "source": [
        "def summary2(text):\n",
        "    extractive = []\n",
        "    for dc,v in text.items():\n",
        "        tmp_ext = []\n",
        "        val_cls = [v for v in text[dc][0].values()]\n",
        "        key_cls = [k for k in text[dc][0].keys()]\n",
        "        for vc in range(len(val_cls)):\n",
        "          if len(word_tokenize(' '.join(tmp_ext))) <= 90:\n",
        "            tmp_ext.append(key_cls[vc])\n",
        "            \n",
        "        extractive.append('\\n'.join(tmp_ext))\n",
        "    return extractive"
      ]
    },
    {
      "cell_type": "code",
      "execution_count": 282,
      "metadata": {},
      "outputs": [],
      "source": [
        "acsum = []\n",
        "for smm in range(len(ext['abstractive'])):\n",
        "  acsum.append(ext['abstractive'][smm].replace('.','.\\n'))"
      ]
    },
    {
      "cell_type": "code",
      "execution_count": 15,
      "metadata": {},
      "outputs": [
        {
          "ename": "NameError",
          "evalue": "name 'summary2' is not defined",
          "output_type": "error",
          "traceback": [
            "\u001b[1;31m---------------------------------------------------------------------------\u001b[0m",
            "\u001b[1;31mNameError\u001b[0m                                 Traceback (most recent call last)",
            "\u001b[1;32m~\\AppData\\Local\\Temp\\ipykernel_15340\\1388170648.py\u001b[0m in \u001b[0;36m<module>\u001b[1;34m\u001b[0m\n\u001b[0;32m      8\u001b[0m                            \u001b[0mweight_factor\u001b[0m\u001b[1;33m=\u001b[0m\u001b[1;36m1.2\u001b[0m\u001b[1;33m,\u001b[0m\u001b[1;33m\u001b[0m\u001b[1;33m\u001b[0m\u001b[0m\n\u001b[0;32m      9\u001b[0m                            stemming=False)\n\u001b[1;32m---> 10\u001b[1;33m \u001b[0mraw_ext1\u001b[0m \u001b[1;33m=\u001b[0m \u001b[0msummary2\u001b[0m\u001b[1;33m(\u001b[0m\u001b[0mextract_skp\u001b[0m\u001b[1;33m)\u001b[0m\u001b[1;33m\u001b[0m\u001b[1;33m\u001b[0m\u001b[0m\n\u001b[0m\u001b[0;32m     11\u001b[0m \u001b[0mscores\u001b[0m \u001b[1;33m=\u001b[0m \u001b[0mevaluator\u001b[0m\u001b[1;33m.\u001b[0m\u001b[0mget_scores\u001b[0m\u001b[1;33m(\u001b[0m\u001b[0mraw_ext1\u001b[0m\u001b[1;33m,\u001b[0m \u001b[0macsum\u001b[0m\u001b[1;33m)\u001b[0m\u001b[1;33m\u001b[0m\u001b[1;33m\u001b[0m\u001b[0m\n\u001b[0;32m     12\u001b[0m \u001b[0mscores\u001b[0m\u001b[1;33m\u001b[0m\u001b[1;33m\u001b[0m\u001b[0m\n",
            "\u001b[1;31mNameError\u001b[0m: name 'summary2' is not defined"
          ]
        }
      ],
      "source": [
        "evaluator = rouge.Rouge(metrics=['rouge-n', 'rouge-l'],\n",
        "                           max_n=2,\n",
        "                           limit_length=True,\n",
        "                           length_limit=100,\n",
        "                           length_limit_type='words',\n",
        "                           apply_avg=True,\n",
        "                           alpha=0.5, # Default F1_score\n",
        "                           weight_factor=1.2,\n",
        "                           stemming=False)\n",
        "raw_ext1 = summary2(extract_skp)\n",
        "scores = evaluator.get_scores(raw_ext1, acsum)\n",
        "scores"
      ]
    },
    {
      "attachments": {},
      "cell_type": "markdown",
      "metadata": {},
      "source": [
        "CLUSTERING+3FITUR"
      ]
    },
    {
      "cell_type": "code",
      "execution_count": 29,
      "metadata": {},
      "outputs": [
        {
          "name": "stderr",
          "output_type": "stream",
          "text": [
            "  0%|          | 0/300 [00:00<?, ?it/s]"
          ]
        },
        {
          "name": "stdout",
          "output_type": "stream",
          "text": [
            "data ke 0\n"
          ]
        },
        {
          "name": "stderr",
          "output_type": "stream",
          "text": [
            "  0%|          | 1/300 [00:01<06:20,  1.27s/it]"
          ]
        },
        {
          "name": "stdout",
          "output_type": "stream",
          "text": [
            "data ke 1\n"
          ]
        },
        {
          "name": "stderr",
          "output_type": "stream",
          "text": [
            "  1%|          | 2/300 [00:02<05:46,  1.16s/it]"
          ]
        },
        {
          "name": "stdout",
          "output_type": "stream",
          "text": [
            "data ke 2\n"
          ]
        },
        {
          "name": "stderr",
          "output_type": "stream",
          "text": [
            "  1%|          | 3/300 [00:03<06:50,  1.38s/it]"
          ]
        },
        {
          "name": "stdout",
          "output_type": "stream",
          "text": [
            "data ke 3\n"
          ]
        },
        {
          "name": "stderr",
          "output_type": "stream",
          "text": [
            "  1%|▏         | 4/300 [00:05<06:32,  1.33s/it]"
          ]
        },
        {
          "name": "stdout",
          "output_type": "stream",
          "text": [
            "data ke 4\n"
          ]
        },
        {
          "name": "stderr",
          "output_type": "stream",
          "text": [
            "  2%|▏         | 5/300 [00:06<06:34,  1.34s/it]"
          ]
        },
        {
          "name": "stdout",
          "output_type": "stream",
          "text": [
            "data ke 5\n"
          ]
        },
        {
          "name": "stderr",
          "output_type": "stream",
          "text": [
            "  2%|▏         | 6/300 [00:08<06:52,  1.40s/it]"
          ]
        },
        {
          "name": "stdout",
          "output_type": "stream",
          "text": [
            "data ke 6\n"
          ]
        },
        {
          "name": "stderr",
          "output_type": "stream",
          "text": [
            "  2%|▏         | 7/300 [00:09<06:54,  1.42s/it]"
          ]
        },
        {
          "name": "stdout",
          "output_type": "stream",
          "text": [
            "data ke 7\n"
          ]
        },
        {
          "name": "stderr",
          "output_type": "stream",
          "text": [
            "  3%|▎         | 8/300 [00:10<06:49,  1.40s/it]"
          ]
        },
        {
          "name": "stdout",
          "output_type": "stream",
          "text": [
            "data ke 8\n"
          ]
        },
        {
          "name": "stderr",
          "output_type": "stream",
          "text": [
            "  3%|▎         | 9/300 [00:12<06:33,  1.35s/it]"
          ]
        },
        {
          "name": "stdout",
          "output_type": "stream",
          "text": [
            "data ke 9\n"
          ]
        },
        {
          "name": "stderr",
          "output_type": "stream",
          "text": [
            "  3%|▎         | 10/300 [00:13<06:49,  1.41s/it]"
          ]
        },
        {
          "name": "stdout",
          "output_type": "stream",
          "text": [
            "data ke 10\n"
          ]
        },
        {
          "name": "stderr",
          "output_type": "stream",
          "text": [
            "  4%|▎         | 11/300 [00:15<07:21,  1.53s/it]"
          ]
        },
        {
          "name": "stdout",
          "output_type": "stream",
          "text": [
            "data ke 11\n"
          ]
        },
        {
          "name": "stderr",
          "output_type": "stream",
          "text": [
            "  4%|▍         | 12/300 [00:17<08:12,  1.71s/it]"
          ]
        },
        {
          "name": "stdout",
          "output_type": "stream",
          "text": [
            "data ke 12\n"
          ]
        },
        {
          "name": "stderr",
          "output_type": "stream",
          "text": [
            "  4%|▍         | 13/300 [00:18<07:20,  1.54s/it]"
          ]
        },
        {
          "name": "stdout",
          "output_type": "stream",
          "text": [
            "data ke 13\n"
          ]
        },
        {
          "name": "stderr",
          "output_type": "stream",
          "text": [
            "  5%|▍         | 14/300 [00:20<07:41,  1.61s/it]"
          ]
        },
        {
          "name": "stdout",
          "output_type": "stream",
          "text": [
            "data ke 14\n"
          ]
        },
        {
          "name": "stderr",
          "output_type": "stream",
          "text": [
            "  5%|▌         | 15/300 [00:22<08:08,  1.71s/it]"
          ]
        },
        {
          "name": "stdout",
          "output_type": "stream",
          "text": [
            "data ke 15\n"
          ]
        },
        {
          "name": "stderr",
          "output_type": "stream",
          "text": [
            "  5%|▌         | 16/300 [00:23<07:22,  1.56s/it]"
          ]
        },
        {
          "name": "stdout",
          "output_type": "stream",
          "text": [
            "data ke 16\n"
          ]
        },
        {
          "name": "stderr",
          "output_type": "stream",
          "text": [
            "  6%|▌         | 17/300 [00:25<07:22,  1.57s/it]"
          ]
        },
        {
          "name": "stdout",
          "output_type": "stream",
          "text": [
            "data ke 17\n"
          ]
        },
        {
          "name": "stderr",
          "output_type": "stream",
          "text": [
            "  6%|▌         | 18/300 [00:26<07:26,  1.58s/it]"
          ]
        },
        {
          "name": "stdout",
          "output_type": "stream",
          "text": [
            "data ke 18\n"
          ]
        },
        {
          "name": "stderr",
          "output_type": "stream",
          "text": [
            "  6%|▋         | 19/300 [00:28<07:43,  1.65s/it]"
          ]
        },
        {
          "name": "stdout",
          "output_type": "stream",
          "text": [
            "data ke 19\n"
          ]
        },
        {
          "name": "stderr",
          "output_type": "stream",
          "text": [
            "  7%|▋         | 20/300 [00:30<07:24,  1.59s/it]"
          ]
        },
        {
          "name": "stdout",
          "output_type": "stream",
          "text": [
            "data ke 20\n"
          ]
        },
        {
          "name": "stderr",
          "output_type": "stream",
          "text": [
            "  7%|▋         | 21/300 [00:31<07:08,  1.54s/it]"
          ]
        },
        {
          "name": "stdout",
          "output_type": "stream",
          "text": [
            "data ke 21\n"
          ]
        },
        {
          "name": "stderr",
          "output_type": "stream",
          "text": [
            "  7%|▋         | 22/300 [00:32<06:10,  1.33s/it]"
          ]
        },
        {
          "name": "stdout",
          "output_type": "stream",
          "text": [
            "data ke 22\n"
          ]
        },
        {
          "name": "stderr",
          "output_type": "stream",
          "text": [
            "  8%|▊         | 23/300 [00:33<05:49,  1.26s/it]"
          ]
        },
        {
          "name": "stdout",
          "output_type": "stream",
          "text": [
            "data ke 23\n"
          ]
        },
        {
          "name": "stderr",
          "output_type": "stream",
          "text": [
            "  8%|▊         | 24/300 [00:35<06:20,  1.38s/it]"
          ]
        },
        {
          "name": "stdout",
          "output_type": "stream",
          "text": [
            "data ke 24\n"
          ]
        },
        {
          "name": "stderr",
          "output_type": "stream",
          "text": [
            "  8%|▊         | 25/300 [00:36<06:13,  1.36s/it]"
          ]
        },
        {
          "name": "stdout",
          "output_type": "stream",
          "text": [
            "data ke 25\n"
          ]
        },
        {
          "name": "stderr",
          "output_type": "stream",
          "text": [
            "  9%|▊         | 26/300 [00:38<06:23,  1.40s/it]"
          ]
        },
        {
          "name": "stdout",
          "output_type": "stream",
          "text": [
            "data ke 26\n"
          ]
        },
        {
          "name": "stderr",
          "output_type": "stream",
          "text": [
            "  9%|▉         | 27/300 [00:39<06:12,  1.36s/it]"
          ]
        },
        {
          "name": "stdout",
          "output_type": "stream",
          "text": [
            "data ke 27\n"
          ]
        },
        {
          "name": "stderr",
          "output_type": "stream",
          "text": [
            "  9%|▉         | 28/300 [00:41<06:41,  1.48s/it]"
          ]
        },
        {
          "name": "stdout",
          "output_type": "stream",
          "text": [
            "data ke 28\n"
          ]
        },
        {
          "name": "stderr",
          "output_type": "stream",
          "text": [
            " 10%|▉         | 29/300 [00:42<07:05,  1.57s/it]"
          ]
        },
        {
          "name": "stdout",
          "output_type": "stream",
          "text": [
            "data ke 29\n"
          ]
        },
        {
          "name": "stderr",
          "output_type": "stream",
          "text": [
            " 10%|█         | 30/300 [00:44<07:03,  1.57s/it]"
          ]
        },
        {
          "name": "stdout",
          "output_type": "stream",
          "text": [
            "data ke 30\n"
          ]
        },
        {
          "name": "stderr",
          "output_type": "stream",
          "text": [
            " 10%|█         | 31/300 [00:45<06:57,  1.55s/it]"
          ]
        },
        {
          "name": "stdout",
          "output_type": "stream",
          "text": [
            "data ke 31\n"
          ]
        },
        {
          "name": "stderr",
          "output_type": "stream",
          "text": [
            " 11%|█         | 32/300 [00:47<07:04,  1.58s/it]"
          ]
        },
        {
          "name": "stdout",
          "output_type": "stream",
          "text": [
            "data ke 32\n"
          ]
        },
        {
          "name": "stderr",
          "output_type": "stream",
          "text": [
            " 11%|█         | 33/300 [00:49<07:11,  1.62s/it]"
          ]
        },
        {
          "name": "stdout",
          "output_type": "stream",
          "text": [
            "data ke 33\n"
          ]
        },
        {
          "name": "stderr",
          "output_type": "stream",
          "text": [
            " 11%|█▏        | 34/300 [00:50<07:09,  1.62s/it]"
          ]
        },
        {
          "name": "stdout",
          "output_type": "stream",
          "text": [
            "data ke 34\n"
          ]
        },
        {
          "name": "stderr",
          "output_type": "stream",
          "text": [
            " 12%|█▏        | 35/300 [00:52<07:24,  1.68s/it]"
          ]
        },
        {
          "name": "stdout",
          "output_type": "stream",
          "text": [
            "data ke 35\n"
          ]
        },
        {
          "name": "stderr",
          "output_type": "stream",
          "text": [
            " 12%|█▏        | 36/300 [00:54<07:10,  1.63s/it]"
          ]
        },
        {
          "name": "stdout",
          "output_type": "stream",
          "text": [
            "data ke 36\n"
          ]
        },
        {
          "name": "stderr",
          "output_type": "stream",
          "text": [
            " 12%|█▏        | 37/300 [00:55<07:19,  1.67s/it]"
          ]
        },
        {
          "name": "stdout",
          "output_type": "stream",
          "text": [
            "data ke 37\n"
          ]
        },
        {
          "name": "stderr",
          "output_type": "stream",
          "text": [
            " 13%|█▎        | 38/300 [00:57<07:09,  1.64s/it]"
          ]
        },
        {
          "name": "stdout",
          "output_type": "stream",
          "text": [
            "data ke 38\n"
          ]
        },
        {
          "name": "stderr",
          "output_type": "stream",
          "text": [
            " 13%|█▎        | 39/300 [00:59<07:27,  1.72s/it]"
          ]
        },
        {
          "name": "stdout",
          "output_type": "stream",
          "text": [
            "data ke 39\n"
          ]
        },
        {
          "name": "stderr",
          "output_type": "stream",
          "text": [
            " 13%|█▎        | 40/300 [01:00<06:55,  1.60s/it]"
          ]
        },
        {
          "name": "stdout",
          "output_type": "stream",
          "text": [
            "data ke 40\n"
          ]
        },
        {
          "name": "stderr",
          "output_type": "stream",
          "text": [
            " 14%|█▎        | 41/300 [01:02<07:20,  1.70s/it]"
          ]
        },
        {
          "name": "stdout",
          "output_type": "stream",
          "text": [
            "data ke 41\n"
          ]
        },
        {
          "name": "stderr",
          "output_type": "stream",
          "text": [
            " 14%|█▍        | 42/300 [01:04<07:32,  1.75s/it]"
          ]
        },
        {
          "name": "stdout",
          "output_type": "stream",
          "text": [
            "data ke 42\n"
          ]
        },
        {
          "name": "stderr",
          "output_type": "stream",
          "text": [
            " 14%|█▍        | 43/300 [01:06<07:22,  1.72s/it]"
          ]
        },
        {
          "name": "stdout",
          "output_type": "stream",
          "text": [
            "data ke 43\n"
          ]
        },
        {
          "name": "stderr",
          "output_type": "stream",
          "text": [
            " 15%|█▍        | 44/300 [01:07<06:54,  1.62s/it]"
          ]
        },
        {
          "name": "stdout",
          "output_type": "stream",
          "text": [
            "data ke 44\n"
          ]
        },
        {
          "name": "stderr",
          "output_type": "stream",
          "text": [
            " 15%|█▌        | 45/300 [01:08<06:27,  1.52s/it]"
          ]
        },
        {
          "name": "stdout",
          "output_type": "stream",
          "text": [
            "data ke 45\n"
          ]
        },
        {
          "name": "stderr",
          "output_type": "stream",
          "text": [
            " 15%|█▌        | 46/300 [01:10<06:33,  1.55s/it]"
          ]
        },
        {
          "name": "stdout",
          "output_type": "stream",
          "text": [
            "data ke 46\n"
          ]
        },
        {
          "name": "stderr",
          "output_type": "stream",
          "text": [
            " 16%|█▌        | 47/300 [01:11<06:21,  1.51s/it]"
          ]
        },
        {
          "name": "stdout",
          "output_type": "stream",
          "text": [
            "data ke 47\n"
          ]
        },
        {
          "name": "stderr",
          "output_type": "stream",
          "text": [
            " 16%|█▌        | 48/300 [01:13<06:17,  1.50s/it]"
          ]
        },
        {
          "name": "stdout",
          "output_type": "stream",
          "text": [
            "data ke 48\n"
          ]
        },
        {
          "name": "stderr",
          "output_type": "stream",
          "text": [
            " 16%|█▋        | 49/300 [01:14<05:46,  1.38s/it]"
          ]
        },
        {
          "name": "stdout",
          "output_type": "stream",
          "text": [
            "data ke 49\n"
          ]
        },
        {
          "name": "stderr",
          "output_type": "stream",
          "text": [
            " 17%|█▋        | 50/300 [01:15<05:35,  1.34s/it]"
          ]
        },
        {
          "name": "stdout",
          "output_type": "stream",
          "text": [
            "data ke 50\n"
          ]
        },
        {
          "name": "stderr",
          "output_type": "stream",
          "text": [
            " 17%|█▋        | 51/300 [01:17<05:39,  1.36s/it]"
          ]
        },
        {
          "name": "stdout",
          "output_type": "stream",
          "text": [
            "data ke 51\n"
          ]
        },
        {
          "name": "stderr",
          "output_type": "stream",
          "text": [
            " 17%|█▋        | 52/300 [01:18<05:45,  1.39s/it]"
          ]
        },
        {
          "name": "stdout",
          "output_type": "stream",
          "text": [
            "data ke 52\n"
          ]
        },
        {
          "name": "stderr",
          "output_type": "stream",
          "text": [
            " 18%|█▊        | 53/300 [01:19<05:31,  1.34s/it]"
          ]
        },
        {
          "name": "stdout",
          "output_type": "stream",
          "text": [
            "data ke 53\n"
          ]
        },
        {
          "name": "stderr",
          "output_type": "stream",
          "text": [
            " 18%|█▊        | 54/300 [01:21<05:28,  1.34s/it]"
          ]
        },
        {
          "name": "stdout",
          "output_type": "stream",
          "text": [
            "data ke 54\n"
          ]
        },
        {
          "name": "stderr",
          "output_type": "stream",
          "text": [
            " 18%|█▊        | 55/300 [01:22<05:54,  1.45s/it]"
          ]
        },
        {
          "name": "stdout",
          "output_type": "stream",
          "text": [
            "data ke 55\n"
          ]
        },
        {
          "name": "stderr",
          "output_type": "stream",
          "text": [
            " 19%|█▊        | 56/300 [01:24<05:55,  1.46s/it]"
          ]
        },
        {
          "name": "stdout",
          "output_type": "stream",
          "text": [
            "data ke 56\n"
          ]
        },
        {
          "name": "stderr",
          "output_type": "stream",
          "text": [
            " 19%|█▉        | 57/300 [01:25<06:04,  1.50s/it]"
          ]
        },
        {
          "name": "stdout",
          "output_type": "stream",
          "text": [
            "data ke 57\n"
          ]
        },
        {
          "name": "stderr",
          "output_type": "stream",
          "text": [
            " 19%|█▉        | 58/300 [01:27<06:14,  1.55s/it]"
          ]
        },
        {
          "name": "stdout",
          "output_type": "stream",
          "text": [
            "data ke 58\n"
          ]
        },
        {
          "name": "stderr",
          "output_type": "stream",
          "text": [
            " 20%|█▉        | 59/300 [01:29<06:04,  1.51s/it]"
          ]
        },
        {
          "name": "stdout",
          "output_type": "stream",
          "text": [
            "data ke 59\n"
          ]
        },
        {
          "name": "stderr",
          "output_type": "stream",
          "text": [
            " 20%|██        | 60/300 [01:30<06:00,  1.50s/it]"
          ]
        },
        {
          "name": "stdout",
          "output_type": "stream",
          "text": [
            "data ke 60\n"
          ]
        },
        {
          "name": "stderr",
          "output_type": "stream",
          "text": [
            " 20%|██        | 61/300 [01:32<06:31,  1.64s/it]"
          ]
        },
        {
          "name": "stdout",
          "output_type": "stream",
          "text": [
            "data ke 61\n"
          ]
        },
        {
          "name": "stderr",
          "output_type": "stream",
          "text": [
            " 21%|██        | 62/300 [01:34<06:48,  1.72s/it]"
          ]
        },
        {
          "name": "stdout",
          "output_type": "stream",
          "text": [
            "data ke 62\n"
          ]
        },
        {
          "name": "stderr",
          "output_type": "stream",
          "text": [
            " 21%|██        | 63/300 [01:36<06:57,  1.76s/it]"
          ]
        },
        {
          "name": "stdout",
          "output_type": "stream",
          "text": [
            "data ke 63\n"
          ]
        },
        {
          "name": "stderr",
          "output_type": "stream",
          "text": [
            " 21%|██▏       | 64/300 [01:38<07:16,  1.85s/it]"
          ]
        },
        {
          "name": "stdout",
          "output_type": "stream",
          "text": [
            "data ke 64\n"
          ]
        },
        {
          "name": "stderr",
          "output_type": "stream",
          "text": [
            " 22%|██▏       | 65/300 [01:39<06:33,  1.68s/it]"
          ]
        },
        {
          "name": "stdout",
          "output_type": "stream",
          "text": [
            "data ke 65\n"
          ]
        },
        {
          "name": "stderr",
          "output_type": "stream",
          "text": [
            " 22%|██▏       | 66/300 [01:41<06:34,  1.68s/it]"
          ]
        },
        {
          "name": "stdout",
          "output_type": "stream",
          "text": [
            "data ke 66\n"
          ]
        },
        {
          "name": "stderr",
          "output_type": "stream",
          "text": [
            " 22%|██▏       | 67/300 [01:42<06:20,  1.63s/it]"
          ]
        },
        {
          "name": "stdout",
          "output_type": "stream",
          "text": [
            "data ke 67\n"
          ]
        },
        {
          "name": "stderr",
          "output_type": "stream",
          "text": [
            " 23%|██▎       | 68/300 [01:44<06:12,  1.61s/it]"
          ]
        },
        {
          "name": "stdout",
          "output_type": "stream",
          "text": [
            "data ke 68\n"
          ]
        },
        {
          "name": "stderr",
          "output_type": "stream",
          "text": [
            " 23%|██▎       | 69/300 [01:45<05:36,  1.46s/it]"
          ]
        },
        {
          "name": "stdout",
          "output_type": "stream",
          "text": [
            "data ke 69\n"
          ]
        },
        {
          "name": "stderr",
          "output_type": "stream",
          "text": [
            " 23%|██▎       | 70/300 [01:46<05:25,  1.42s/it]"
          ]
        },
        {
          "name": "stdout",
          "output_type": "stream",
          "text": [
            "data ke 70\n"
          ]
        },
        {
          "name": "stderr",
          "output_type": "stream",
          "text": [
            " 24%|██▎       | 71/300 [01:48<05:37,  1.47s/it]"
          ]
        },
        {
          "name": "stdout",
          "output_type": "stream",
          "text": [
            "data ke 71\n"
          ]
        },
        {
          "name": "stderr",
          "output_type": "stream",
          "text": [
            " 24%|██▍       | 72/300 [01:49<05:28,  1.44s/it]"
          ]
        },
        {
          "name": "stdout",
          "output_type": "stream",
          "text": [
            "data ke 72\n"
          ]
        },
        {
          "name": "stderr",
          "output_type": "stream",
          "text": [
            " 24%|██▍       | 73/300 [01:51<05:40,  1.50s/it]"
          ]
        },
        {
          "name": "stdout",
          "output_type": "stream",
          "text": [
            "data ke 73\n"
          ]
        },
        {
          "name": "stderr",
          "output_type": "stream",
          "text": [
            " 25%|██▍       | 74/300 [01:52<05:46,  1.54s/it]"
          ]
        },
        {
          "name": "stdout",
          "output_type": "stream",
          "text": [
            "data ke 74\n"
          ]
        },
        {
          "name": "stderr",
          "output_type": "stream",
          "text": [
            " 25%|██▌       | 75/300 [01:54<05:31,  1.47s/it]"
          ]
        },
        {
          "name": "stdout",
          "output_type": "stream",
          "text": [
            "data ke 75\n"
          ]
        },
        {
          "name": "stderr",
          "output_type": "stream",
          "text": [
            " 25%|██▌       | 76/300 [01:55<05:36,  1.50s/it]"
          ]
        },
        {
          "name": "stdout",
          "output_type": "stream",
          "text": [
            "data ke 76\n"
          ]
        },
        {
          "name": "stderr",
          "output_type": "stream",
          "text": [
            " 26%|██▌       | 77/300 [01:56<04:53,  1.32s/it]"
          ]
        },
        {
          "name": "stdout",
          "output_type": "stream",
          "text": [
            "data ke 77\n"
          ]
        },
        {
          "name": "stderr",
          "output_type": "stream",
          "text": [
            " 26%|██▌       | 78/300 [01:57<04:41,  1.27s/it]"
          ]
        },
        {
          "name": "stdout",
          "output_type": "stream",
          "text": [
            "data ke 78\n"
          ]
        },
        {
          "name": "stderr",
          "output_type": "stream",
          "text": [
            " 26%|██▋       | 79/300 [01:58<04:11,  1.14s/it]"
          ]
        },
        {
          "name": "stdout",
          "output_type": "stream",
          "text": [
            "data ke 79\n"
          ]
        },
        {
          "name": "stderr",
          "output_type": "stream",
          "text": [
            " 27%|██▋       | 80/300 [02:00<04:42,  1.29s/it]"
          ]
        },
        {
          "name": "stdout",
          "output_type": "stream",
          "text": [
            "data ke 80\n"
          ]
        },
        {
          "name": "stderr",
          "output_type": "stream",
          "text": [
            " 27%|██▋       | 81/300 [02:01<04:36,  1.26s/it]"
          ]
        },
        {
          "name": "stdout",
          "output_type": "stream",
          "text": [
            "data ke 81\n"
          ]
        },
        {
          "name": "stderr",
          "output_type": "stream",
          "text": [
            " 27%|██▋       | 82/300 [02:03<05:04,  1.40s/it]"
          ]
        },
        {
          "name": "stdout",
          "output_type": "stream",
          "text": [
            "data ke 82\n"
          ]
        },
        {
          "name": "stderr",
          "output_type": "stream",
          "text": [
            " 28%|██▊       | 83/300 [02:04<04:52,  1.35s/it]"
          ]
        },
        {
          "name": "stdout",
          "output_type": "stream",
          "text": [
            "data ke 83\n"
          ]
        },
        {
          "name": "stderr",
          "output_type": "stream",
          "text": [
            " 28%|██▊       | 84/300 [02:06<05:02,  1.40s/it]"
          ]
        },
        {
          "name": "stdout",
          "output_type": "stream",
          "text": [
            "data ke 84\n"
          ]
        },
        {
          "name": "stderr",
          "output_type": "stream",
          "text": [
            " 28%|██▊       | 85/300 [02:07<05:09,  1.44s/it]"
          ]
        },
        {
          "name": "stdout",
          "output_type": "stream",
          "text": [
            "data ke 85\n"
          ]
        },
        {
          "name": "stderr",
          "output_type": "stream",
          "text": [
            " 29%|██▊       | 86/300 [02:09<05:38,  1.58s/it]"
          ]
        },
        {
          "name": "stdout",
          "output_type": "stream",
          "text": [
            "data ke 86\n"
          ]
        },
        {
          "name": "stderr",
          "output_type": "stream",
          "text": [
            " 29%|██▉       | 87/300 [02:10<05:04,  1.43s/it]"
          ]
        },
        {
          "name": "stdout",
          "output_type": "stream",
          "text": [
            "data ke 87\n"
          ]
        },
        {
          "name": "stderr",
          "output_type": "stream",
          "text": [
            " 29%|██▉       | 88/300 [02:12<05:32,  1.57s/it]"
          ]
        },
        {
          "name": "stdout",
          "output_type": "stream",
          "text": [
            "data ke 88\n"
          ]
        },
        {
          "name": "stderr",
          "output_type": "stream",
          "text": [
            " 30%|██▉       | 89/300 [02:13<05:06,  1.45s/it]"
          ]
        },
        {
          "name": "stdout",
          "output_type": "stream",
          "text": [
            "data ke 89\n"
          ]
        },
        {
          "name": "stderr",
          "output_type": "stream",
          "text": [
            " 30%|███       | 90/300 [02:15<05:06,  1.46s/it]"
          ]
        },
        {
          "name": "stdout",
          "output_type": "stream",
          "text": [
            "data ke 90\n"
          ]
        },
        {
          "name": "stderr",
          "output_type": "stream",
          "text": [
            " 30%|███       | 91/300 [02:16<05:14,  1.50s/it]"
          ]
        },
        {
          "name": "stdout",
          "output_type": "stream",
          "text": [
            "data ke 91\n"
          ]
        },
        {
          "name": "stderr",
          "output_type": "stream",
          "text": [
            " 31%|███       | 92/300 [02:18<05:42,  1.64s/it]"
          ]
        },
        {
          "name": "stdout",
          "output_type": "stream",
          "text": [
            "data ke 92\n"
          ]
        },
        {
          "name": "stderr",
          "output_type": "stream",
          "text": [
            " 31%|███       | 93/300 [02:20<05:27,  1.58s/it]"
          ]
        },
        {
          "name": "stdout",
          "output_type": "stream",
          "text": [
            "data ke 93\n"
          ]
        },
        {
          "name": "stderr",
          "output_type": "stream",
          "text": [
            " 31%|███▏      | 94/300 [02:21<04:59,  1.45s/it]"
          ]
        },
        {
          "name": "stdout",
          "output_type": "stream",
          "text": [
            "data ke 94\n"
          ]
        },
        {
          "name": "stderr",
          "output_type": "stream",
          "text": [
            " 32%|███▏      | 95/300 [02:22<04:55,  1.44s/it]"
          ]
        },
        {
          "name": "stdout",
          "output_type": "stream",
          "text": [
            "data ke 95\n"
          ]
        },
        {
          "name": "stderr",
          "output_type": "stream",
          "text": [
            " 32%|███▏      | 96/300 [02:24<05:09,  1.52s/it]"
          ]
        },
        {
          "name": "stdout",
          "output_type": "stream",
          "text": [
            "data ke 96\n"
          ]
        },
        {
          "name": "stderr",
          "output_type": "stream",
          "text": [
            " 32%|███▏      | 97/300 [02:25<05:07,  1.51s/it]"
          ]
        },
        {
          "name": "stdout",
          "output_type": "stream",
          "text": [
            "data ke 97\n"
          ]
        },
        {
          "name": "stderr",
          "output_type": "stream",
          "text": [
            " 33%|███▎      | 98/300 [02:27<05:01,  1.49s/it]"
          ]
        },
        {
          "name": "stdout",
          "output_type": "stream",
          "text": [
            "data ke 98\n"
          ]
        },
        {
          "name": "stderr",
          "output_type": "stream",
          "text": [
            " 33%|███▎      | 99/300 [02:29<05:16,  1.57s/it]"
          ]
        },
        {
          "name": "stdout",
          "output_type": "stream",
          "text": [
            "data ke 99\n"
          ]
        },
        {
          "name": "stderr",
          "output_type": "stream",
          "text": [
            " 33%|███▎      | 100/300 [02:30<04:56,  1.48s/it]"
          ]
        },
        {
          "name": "stdout",
          "output_type": "stream",
          "text": [
            "data ke 100\n"
          ]
        },
        {
          "name": "stderr",
          "output_type": "stream",
          "text": [
            " 34%|███▎      | 101/300 [02:31<04:37,  1.40s/it]"
          ]
        },
        {
          "name": "stdout",
          "output_type": "stream",
          "text": [
            "data ke 101\n"
          ]
        },
        {
          "name": "stderr",
          "output_type": "stream",
          "text": [
            " 34%|███▍      | 102/300 [02:33<05:00,  1.52s/it]"
          ]
        },
        {
          "name": "stdout",
          "output_type": "stream",
          "text": [
            "data ke 102\n"
          ]
        },
        {
          "name": "stderr",
          "output_type": "stream",
          "text": [
            " 34%|███▍      | 103/300 [02:34<04:44,  1.45s/it]"
          ]
        },
        {
          "name": "stdout",
          "output_type": "stream",
          "text": [
            "data ke 103\n"
          ]
        },
        {
          "name": "stderr",
          "output_type": "stream",
          "text": [
            " 35%|███▍      | 104/300 [02:35<04:14,  1.30s/it]"
          ]
        },
        {
          "name": "stdout",
          "output_type": "stream",
          "text": [
            "data ke 104\n"
          ]
        },
        {
          "name": "stderr",
          "output_type": "stream",
          "text": [
            " 35%|███▌      | 105/300 [02:36<03:58,  1.22s/it]"
          ]
        },
        {
          "name": "stdout",
          "output_type": "stream",
          "text": [
            "data ke 105\n"
          ]
        },
        {
          "name": "stderr",
          "output_type": "stream",
          "text": [
            " 35%|███▌      | 106/300 [02:37<03:59,  1.24s/it]"
          ]
        },
        {
          "name": "stdout",
          "output_type": "stream",
          "text": [
            "data ke 106\n"
          ]
        },
        {
          "name": "stderr",
          "output_type": "stream",
          "text": [
            " 36%|███▌      | 107/300 [02:39<04:18,  1.34s/it]"
          ]
        },
        {
          "name": "stdout",
          "output_type": "stream",
          "text": [
            "data ke 107\n"
          ]
        },
        {
          "name": "stderr",
          "output_type": "stream",
          "text": [
            " 36%|███▌      | 108/300 [02:40<04:16,  1.34s/it]"
          ]
        },
        {
          "name": "stdout",
          "output_type": "stream",
          "text": [
            "data ke 108\n"
          ]
        },
        {
          "name": "stderr",
          "output_type": "stream",
          "text": [
            " 36%|███▋      | 109/300 [02:42<04:37,  1.45s/it]"
          ]
        },
        {
          "name": "stdout",
          "output_type": "stream",
          "text": [
            "data ke 109\n"
          ]
        },
        {
          "name": "stderr",
          "output_type": "stream",
          "text": [
            " 37%|███▋      | 110/300 [02:44<05:05,  1.61s/it]"
          ]
        },
        {
          "name": "stdout",
          "output_type": "stream",
          "text": [
            "data ke 110\n"
          ]
        },
        {
          "name": "stderr",
          "output_type": "stream",
          "text": [
            " 37%|███▋      | 111/300 [02:45<04:35,  1.46s/it]"
          ]
        },
        {
          "name": "stdout",
          "output_type": "stream",
          "text": [
            "data ke 111\n"
          ]
        },
        {
          "name": "stderr",
          "output_type": "stream",
          "text": [
            " 37%|███▋      | 112/300 [02:47<04:39,  1.49s/it]"
          ]
        },
        {
          "name": "stdout",
          "output_type": "stream",
          "text": [
            "data ke 112\n"
          ]
        },
        {
          "name": "stderr",
          "output_type": "stream",
          "text": [
            " 38%|███▊      | 113/300 [02:48<04:07,  1.32s/it]"
          ]
        },
        {
          "name": "stdout",
          "output_type": "stream",
          "text": [
            "data ke 113\n"
          ]
        },
        {
          "name": "stderr",
          "output_type": "stream",
          "text": [
            " 38%|███▊      | 114/300 [02:49<04:00,  1.29s/it]"
          ]
        },
        {
          "name": "stdout",
          "output_type": "stream",
          "text": [
            "data ke 114\n"
          ]
        },
        {
          "name": "stderr",
          "output_type": "stream",
          "text": [
            " 38%|███▊      | 115/300 [02:50<04:17,  1.39s/it]"
          ]
        },
        {
          "name": "stdout",
          "output_type": "stream",
          "text": [
            "data ke 115\n"
          ]
        },
        {
          "name": "stderr",
          "output_type": "stream",
          "text": [
            " 39%|███▊      | 116/300 [02:53<04:54,  1.60s/it]"
          ]
        },
        {
          "name": "stdout",
          "output_type": "stream",
          "text": [
            "data ke 116\n"
          ]
        },
        {
          "name": "stderr",
          "output_type": "stream",
          "text": [
            " 39%|███▉      | 117/300 [02:54<04:49,  1.58s/it]"
          ]
        },
        {
          "name": "stdout",
          "output_type": "stream",
          "text": [
            "data ke 117\n"
          ]
        },
        {
          "name": "stderr",
          "output_type": "stream",
          "text": [
            " 39%|███▉      | 118/300 [02:56<04:53,  1.61s/it]"
          ]
        },
        {
          "name": "stdout",
          "output_type": "stream",
          "text": [
            "data ke 118\n"
          ]
        },
        {
          "name": "stderr",
          "output_type": "stream",
          "text": [
            " 40%|███▉      | 119/300 [02:57<04:20,  1.44s/it]"
          ]
        },
        {
          "name": "stdout",
          "output_type": "stream",
          "text": [
            "data ke 119\n"
          ]
        },
        {
          "name": "stderr",
          "output_type": "stream",
          "text": [
            " 40%|████      | 120/300 [02:58<04:06,  1.37s/it]"
          ]
        },
        {
          "name": "stdout",
          "output_type": "stream",
          "text": [
            "data ke 120\n"
          ]
        },
        {
          "name": "stderr",
          "output_type": "stream",
          "text": [
            " 40%|████      | 121/300 [03:00<04:20,  1.46s/it]"
          ]
        },
        {
          "name": "stdout",
          "output_type": "stream",
          "text": [
            "data ke 121\n"
          ]
        },
        {
          "name": "stderr",
          "output_type": "stream",
          "text": [
            " 41%|████      | 122/300 [03:01<04:01,  1.36s/it]"
          ]
        },
        {
          "name": "stdout",
          "output_type": "stream",
          "text": [
            "data ke 122\n"
          ]
        },
        {
          "name": "stderr",
          "output_type": "stream",
          "text": [
            " 41%|████      | 123/300 [03:02<03:41,  1.25s/it]"
          ]
        },
        {
          "name": "stdout",
          "output_type": "stream",
          "text": [
            "data ke 123\n"
          ]
        },
        {
          "name": "stderr",
          "output_type": "stream",
          "text": [
            " 41%|████▏     | 124/300 [03:04<04:10,  1.42s/it]"
          ]
        },
        {
          "name": "stdout",
          "output_type": "stream",
          "text": [
            "data ke 124\n"
          ]
        },
        {
          "name": "stderr",
          "output_type": "stream",
          "text": [
            " 42%|████▏     | 125/300 [03:05<04:11,  1.44s/it]"
          ]
        },
        {
          "name": "stdout",
          "output_type": "stream",
          "text": [
            "data ke 125\n"
          ]
        },
        {
          "name": "stderr",
          "output_type": "stream",
          "text": [
            " 42%|████▏     | 126/300 [03:07<04:15,  1.47s/it]"
          ]
        },
        {
          "name": "stdout",
          "output_type": "stream",
          "text": [
            "data ke 126\n"
          ]
        },
        {
          "name": "stderr",
          "output_type": "stream",
          "text": [
            " 42%|████▏     | 127/300 [03:08<04:00,  1.39s/it]"
          ]
        },
        {
          "name": "stdout",
          "output_type": "stream",
          "text": [
            "data ke 127\n"
          ]
        },
        {
          "name": "stderr",
          "output_type": "stream",
          "text": [
            " 43%|████▎     | 128/300 [03:08<03:17,  1.15s/it]"
          ]
        },
        {
          "name": "stdout",
          "output_type": "stream",
          "text": [
            "data ke 128\n"
          ]
        },
        {
          "name": "stderr",
          "output_type": "stream",
          "text": [
            " 43%|████▎     | 129/300 [03:10<03:29,  1.22s/it]"
          ]
        },
        {
          "name": "stdout",
          "output_type": "stream",
          "text": [
            "data ke 129\n"
          ]
        },
        {
          "name": "stderr",
          "output_type": "stream",
          "text": [
            " 43%|████▎     | 130/300 [03:12<03:52,  1.37s/it]"
          ]
        },
        {
          "name": "stdout",
          "output_type": "stream",
          "text": [
            "data ke 130\n"
          ]
        },
        {
          "name": "stderr",
          "output_type": "stream",
          "text": [
            " 44%|████▎     | 131/300 [03:13<03:55,  1.40s/it]"
          ]
        },
        {
          "name": "stdout",
          "output_type": "stream",
          "text": [
            "data ke 131\n"
          ]
        },
        {
          "name": "stderr",
          "output_type": "stream",
          "text": [
            " 44%|████▍     | 132/300 [03:15<04:09,  1.48s/it]"
          ]
        },
        {
          "name": "stdout",
          "output_type": "stream",
          "text": [
            "data ke 132\n"
          ]
        },
        {
          "name": "stderr",
          "output_type": "stream",
          "text": [
            " 44%|████▍     | 133/300 [03:16<04:01,  1.44s/it]"
          ]
        },
        {
          "name": "stdout",
          "output_type": "stream",
          "text": [
            "data ke 133\n"
          ]
        },
        {
          "name": "stderr",
          "output_type": "stream",
          "text": [
            " 45%|████▍     | 134/300 [03:18<04:06,  1.49s/it]"
          ]
        },
        {
          "name": "stdout",
          "output_type": "stream",
          "text": [
            "data ke 134\n"
          ]
        },
        {
          "name": "stderr",
          "output_type": "stream",
          "text": [
            " 45%|████▌     | 135/300 [03:18<03:22,  1.23s/it]"
          ]
        },
        {
          "name": "stdout",
          "output_type": "stream",
          "text": [
            "data ke 135\n"
          ]
        },
        {
          "name": "stderr",
          "output_type": "stream",
          "text": [
            " 45%|████▌     | 136/300 [03:19<03:13,  1.18s/it]"
          ]
        },
        {
          "name": "stdout",
          "output_type": "stream",
          "text": [
            "data ke 136\n"
          ]
        },
        {
          "name": "stderr",
          "output_type": "stream",
          "text": [
            " 46%|████▌     | 137/300 [03:22<04:00,  1.48s/it]"
          ]
        },
        {
          "name": "stdout",
          "output_type": "stream",
          "text": [
            "data ke 137\n"
          ]
        },
        {
          "name": "stderr",
          "output_type": "stream",
          "text": [
            " 46%|████▌     | 138/300 [03:23<04:05,  1.51s/it]"
          ]
        },
        {
          "name": "stdout",
          "output_type": "stream",
          "text": [
            "data ke 138\n"
          ]
        },
        {
          "name": "stderr",
          "output_type": "stream",
          "text": [
            " 46%|████▋     | 139/300 [03:24<03:43,  1.39s/it]"
          ]
        },
        {
          "name": "stdout",
          "output_type": "stream",
          "text": [
            "data ke 139\n"
          ]
        },
        {
          "name": "stderr",
          "output_type": "stream",
          "text": [
            " 47%|████▋     | 140/300 [03:26<04:04,  1.53s/it]"
          ]
        },
        {
          "name": "stdout",
          "output_type": "stream",
          "text": [
            "data ke 140\n"
          ]
        },
        {
          "name": "stderr",
          "output_type": "stream",
          "text": [
            " 47%|████▋     | 141/300 [03:28<04:19,  1.63s/it]"
          ]
        },
        {
          "name": "stdout",
          "output_type": "stream",
          "text": [
            "data ke 141\n"
          ]
        },
        {
          "name": "stderr",
          "output_type": "stream",
          "text": [
            " 47%|████▋     | 142/300 [03:29<04:07,  1.57s/it]"
          ]
        },
        {
          "name": "stdout",
          "output_type": "stream",
          "text": [
            "data ke 142\n"
          ]
        },
        {
          "name": "stderr",
          "output_type": "stream",
          "text": [
            " 48%|████▊     | 143/300 [03:31<04:05,  1.56s/it]"
          ]
        },
        {
          "name": "stdout",
          "output_type": "stream",
          "text": [
            "data ke 143\n"
          ]
        },
        {
          "name": "stderr",
          "output_type": "stream",
          "text": [
            " 48%|████▊     | 144/300 [03:32<03:54,  1.50s/it]"
          ]
        },
        {
          "name": "stdout",
          "output_type": "stream",
          "text": [
            "data ke 144\n"
          ]
        },
        {
          "name": "stderr",
          "output_type": "stream",
          "text": [
            " 48%|████▊     | 145/300 [03:34<03:55,  1.52s/it]"
          ]
        },
        {
          "name": "stdout",
          "output_type": "stream",
          "text": [
            "data ke 145\n"
          ]
        },
        {
          "name": "stderr",
          "output_type": "stream",
          "text": [
            " 49%|████▊     | 146/300 [03:35<03:36,  1.41s/it]"
          ]
        },
        {
          "name": "stdout",
          "output_type": "stream",
          "text": [
            "data ke 146\n"
          ]
        },
        {
          "name": "stderr",
          "output_type": "stream",
          "text": [
            " 49%|████▉     | 147/300 [03:37<03:49,  1.50s/it]"
          ]
        },
        {
          "name": "stdout",
          "output_type": "stream",
          "text": [
            "data ke 147\n"
          ]
        },
        {
          "name": "stderr",
          "output_type": "stream",
          "text": [
            " 49%|████▉     | 148/300 [03:38<03:43,  1.47s/it]"
          ]
        },
        {
          "name": "stdout",
          "output_type": "stream",
          "text": [
            "data ke 148\n"
          ]
        },
        {
          "name": "stderr",
          "output_type": "stream",
          "text": [
            " 50%|████▉     | 149/300 [03:40<04:05,  1.63s/it]"
          ]
        },
        {
          "name": "stdout",
          "output_type": "stream",
          "text": [
            "data ke 149\n"
          ]
        },
        {
          "name": "stderr",
          "output_type": "stream",
          "text": [
            " 50%|█████     | 150/300 [03:41<03:41,  1.48s/it]"
          ]
        },
        {
          "name": "stdout",
          "output_type": "stream",
          "text": [
            "data ke 150\n"
          ]
        },
        {
          "name": "stderr",
          "output_type": "stream",
          "text": [
            " 50%|█████     | 151/300 [03:43<03:51,  1.56s/it]"
          ]
        },
        {
          "name": "stdout",
          "output_type": "stream",
          "text": [
            "data ke 151\n"
          ]
        },
        {
          "name": "stderr",
          "output_type": "stream",
          "text": [
            " 51%|█████     | 152/300 [03:44<03:34,  1.45s/it]"
          ]
        },
        {
          "name": "stdout",
          "output_type": "stream",
          "text": [
            "data ke 152\n"
          ]
        },
        {
          "name": "stderr",
          "output_type": "stream",
          "text": [
            " 51%|█████     | 153/300 [03:45<03:27,  1.41s/it]"
          ]
        },
        {
          "name": "stdout",
          "output_type": "stream",
          "text": [
            "data ke 153\n"
          ]
        },
        {
          "name": "stderr",
          "output_type": "stream",
          "text": [
            " 51%|█████▏    | 154/300 [03:47<03:15,  1.34s/it]"
          ]
        },
        {
          "name": "stdout",
          "output_type": "stream",
          "text": [
            "data ke 154\n"
          ]
        },
        {
          "name": "stderr",
          "output_type": "stream",
          "text": [
            " 52%|█████▏    | 155/300 [03:48<03:19,  1.37s/it]"
          ]
        },
        {
          "name": "stdout",
          "output_type": "stream",
          "text": [
            "data ke 155\n"
          ]
        },
        {
          "name": "stderr",
          "output_type": "stream",
          "text": [
            " 52%|█████▏    | 156/300 [03:50<03:40,  1.53s/it]"
          ]
        },
        {
          "name": "stdout",
          "output_type": "stream",
          "text": [
            "data ke 156\n"
          ]
        },
        {
          "name": "stderr",
          "output_type": "stream",
          "text": [
            " 52%|█████▏    | 157/300 [03:52<03:45,  1.58s/it]"
          ]
        },
        {
          "name": "stdout",
          "output_type": "stream",
          "text": [
            "data ke 157\n"
          ]
        },
        {
          "name": "stderr",
          "output_type": "stream",
          "text": [
            " 53%|█████▎    | 158/300 [03:53<03:22,  1.42s/it]"
          ]
        },
        {
          "name": "stdout",
          "output_type": "stream",
          "text": [
            "data ke 158\n"
          ]
        },
        {
          "name": "stderr",
          "output_type": "stream",
          "text": [
            " 53%|█████▎    | 159/300 [03:54<03:15,  1.39s/it]"
          ]
        },
        {
          "name": "stdout",
          "output_type": "stream",
          "text": [
            "data ke 159\n"
          ]
        },
        {
          "name": "stderr",
          "output_type": "stream",
          "text": [
            " 53%|█████▎    | 160/300 [03:56<03:34,  1.53s/it]"
          ]
        },
        {
          "name": "stdout",
          "output_type": "stream",
          "text": [
            "data ke 160\n"
          ]
        },
        {
          "name": "stderr",
          "output_type": "stream",
          "text": [
            " 54%|█████▎    | 161/300 [03:57<03:35,  1.55s/it]"
          ]
        },
        {
          "name": "stdout",
          "output_type": "stream",
          "text": [
            "data ke 161\n"
          ]
        },
        {
          "name": "stderr",
          "output_type": "stream",
          "text": [
            " 54%|█████▍    | 162/300 [03:59<03:24,  1.48s/it]"
          ]
        },
        {
          "name": "stdout",
          "output_type": "stream",
          "text": [
            "data ke 162\n"
          ]
        },
        {
          "name": "stderr",
          "output_type": "stream",
          "text": [
            " 54%|█████▍    | 163/300 [04:01<03:42,  1.62s/it]"
          ]
        },
        {
          "name": "stdout",
          "output_type": "stream",
          "text": [
            "data ke 163\n"
          ]
        },
        {
          "name": "stderr",
          "output_type": "stream",
          "text": [
            " 55%|█████▍    | 164/300 [04:03<04:00,  1.77s/it]"
          ]
        },
        {
          "name": "stdout",
          "output_type": "stream",
          "text": [
            "data ke 164\n"
          ]
        },
        {
          "name": "stderr",
          "output_type": "stream",
          "text": [
            " 55%|█████▌    | 165/300 [04:05<04:05,  1.82s/it]"
          ]
        },
        {
          "name": "stdout",
          "output_type": "stream",
          "text": [
            "data ke 165\n"
          ]
        },
        {
          "name": "stderr",
          "output_type": "stream",
          "text": [
            " 55%|█████▌    | 166/300 [04:07<03:59,  1.79s/it]"
          ]
        },
        {
          "name": "stdout",
          "output_type": "stream",
          "text": [
            "data ke 166\n"
          ]
        },
        {
          "name": "stderr",
          "output_type": "stream",
          "text": [
            " 56%|█████▌    | 167/300 [04:08<03:29,  1.58s/it]"
          ]
        },
        {
          "name": "stdout",
          "output_type": "stream",
          "text": [
            "data ke 167\n"
          ]
        },
        {
          "name": "stderr",
          "output_type": "stream",
          "text": [
            " 56%|█████▌    | 168/300 [04:08<02:52,  1.30s/it]"
          ]
        },
        {
          "name": "stdout",
          "output_type": "stream",
          "text": [
            "data ke 168\n"
          ]
        },
        {
          "name": "stderr",
          "output_type": "stream",
          "text": [
            " 56%|█████▋    | 169/300 [04:10<02:55,  1.34s/it]"
          ]
        },
        {
          "name": "stdout",
          "output_type": "stream",
          "text": [
            "data ke 169\n"
          ]
        },
        {
          "name": "stderr",
          "output_type": "stream",
          "text": [
            " 57%|█████▋    | 170/300 [04:11<02:47,  1.29s/it]"
          ]
        },
        {
          "name": "stdout",
          "output_type": "stream",
          "text": [
            "data ke 170\n"
          ]
        },
        {
          "name": "stderr",
          "output_type": "stream",
          "text": [
            " 57%|█████▋    | 171/300 [04:13<03:10,  1.47s/it]"
          ]
        },
        {
          "name": "stdout",
          "output_type": "stream",
          "text": [
            "data ke 171\n"
          ]
        },
        {
          "name": "stderr",
          "output_type": "stream",
          "text": [
            " 57%|█████▋    | 172/300 [04:15<03:26,  1.61s/it]"
          ]
        },
        {
          "name": "stdout",
          "output_type": "stream",
          "text": [
            "data ke 172\n"
          ]
        },
        {
          "name": "stderr",
          "output_type": "stream",
          "text": [
            " 58%|█████▊    | 173/300 [04:16<03:21,  1.59s/it]"
          ]
        },
        {
          "name": "stdout",
          "output_type": "stream",
          "text": [
            "data ke 173\n"
          ]
        },
        {
          "name": "stderr",
          "output_type": "stream",
          "text": [
            " 58%|█████▊    | 174/300 [04:18<03:12,  1.53s/it]"
          ]
        },
        {
          "name": "stdout",
          "output_type": "stream",
          "text": [
            "data ke 174\n"
          ]
        },
        {
          "name": "stderr",
          "output_type": "stream",
          "text": [
            " 58%|█████▊    | 175/300 [04:19<02:50,  1.37s/it]"
          ]
        },
        {
          "name": "stdout",
          "output_type": "stream",
          "text": [
            "data ke 175\n"
          ]
        },
        {
          "name": "stderr",
          "output_type": "stream",
          "text": [
            " 59%|█████▊    | 176/300 [04:20<02:55,  1.41s/it]"
          ]
        },
        {
          "name": "stdout",
          "output_type": "stream",
          "text": [
            "data ke 176\n"
          ]
        },
        {
          "name": "stderr",
          "output_type": "stream",
          "text": [
            " 59%|█████▉    | 177/300 [04:22<03:04,  1.50s/it]"
          ]
        },
        {
          "name": "stdout",
          "output_type": "stream",
          "text": [
            "data ke 177\n"
          ]
        },
        {
          "name": "stderr",
          "output_type": "stream",
          "text": [
            " 59%|█████▉    | 178/300 [04:24<03:24,  1.68s/it]"
          ]
        },
        {
          "name": "stdout",
          "output_type": "stream",
          "text": [
            "data ke 178\n"
          ]
        },
        {
          "name": "stderr",
          "output_type": "stream",
          "text": [
            " 60%|█████▉    | 179/300 [04:25<03:06,  1.54s/it]"
          ]
        },
        {
          "name": "stdout",
          "output_type": "stream",
          "text": [
            "data ke 179\n"
          ]
        },
        {
          "name": "stderr",
          "output_type": "stream",
          "text": [
            " 60%|██████    | 180/300 [04:26<02:49,  1.42s/it]"
          ]
        },
        {
          "name": "stdout",
          "output_type": "stream",
          "text": [
            "data ke 180\n"
          ]
        },
        {
          "name": "stderr",
          "output_type": "stream",
          "text": [
            " 60%|██████    | 181/300 [04:28<02:57,  1.49s/it]"
          ]
        },
        {
          "name": "stdout",
          "output_type": "stream",
          "text": [
            "data ke 181\n"
          ]
        },
        {
          "name": "stderr",
          "output_type": "stream",
          "text": [
            " 61%|██████    | 182/300 [04:29<02:28,  1.26s/it]"
          ]
        },
        {
          "name": "stdout",
          "output_type": "stream",
          "text": [
            "data ke 182\n"
          ]
        },
        {
          "name": "stderr",
          "output_type": "stream",
          "text": [
            " 61%|██████    | 183/300 [04:30<02:30,  1.28s/it]"
          ]
        },
        {
          "name": "stdout",
          "output_type": "stream",
          "text": [
            "data ke 183\n"
          ]
        },
        {
          "name": "stderr",
          "output_type": "stream",
          "text": [
            " 61%|██████▏   | 184/300 [04:31<02:34,  1.33s/it]"
          ]
        },
        {
          "name": "stdout",
          "output_type": "stream",
          "text": [
            "data ke 184\n"
          ]
        },
        {
          "name": "stderr",
          "output_type": "stream",
          "text": [
            " 62%|██████▏   | 185/300 [04:33<02:36,  1.36s/it]"
          ]
        },
        {
          "name": "stdout",
          "output_type": "stream",
          "text": [
            "data ke 185\n"
          ]
        },
        {
          "name": "stderr",
          "output_type": "stream",
          "text": [
            " 62%|██████▏   | 186/300 [04:34<02:15,  1.19s/it]"
          ]
        },
        {
          "name": "stdout",
          "output_type": "stream",
          "text": [
            "data ke 186\n"
          ]
        },
        {
          "name": "stderr",
          "output_type": "stream",
          "text": [
            " 62%|██████▏   | 187/300 [04:34<01:56,  1.03s/it]"
          ]
        },
        {
          "name": "stdout",
          "output_type": "stream",
          "text": [
            "data ke 187\n"
          ]
        },
        {
          "name": "stderr",
          "output_type": "stream",
          "text": [
            " 63%|██████▎   | 188/300 [04:35<01:56,  1.04s/it]"
          ]
        },
        {
          "name": "stdout",
          "output_type": "stream",
          "text": [
            "data ke 188\n"
          ]
        },
        {
          "name": "stderr",
          "output_type": "stream",
          "text": [
            " 63%|██████▎   | 189/300 [04:37<02:06,  1.14s/it]"
          ]
        },
        {
          "name": "stdout",
          "output_type": "stream",
          "text": [
            "data ke 189\n"
          ]
        },
        {
          "name": "stderr",
          "output_type": "stream",
          "text": [
            " 63%|██████▎   | 190/300 [04:38<01:58,  1.08s/it]"
          ]
        },
        {
          "name": "stdout",
          "output_type": "stream",
          "text": [
            "data ke 190\n"
          ]
        },
        {
          "name": "stderr",
          "output_type": "stream",
          "text": [
            " 64%|██████▎   | 191/300 [04:38<01:47,  1.01it/s]"
          ]
        },
        {
          "name": "stdout",
          "output_type": "stream",
          "text": [
            "data ke 191\n"
          ]
        },
        {
          "name": "stderr",
          "output_type": "stream",
          "text": [
            " 64%|██████▍   | 192/300 [04:40<01:50,  1.03s/it]"
          ]
        },
        {
          "name": "stdout",
          "output_type": "stream",
          "text": [
            "data ke 192\n"
          ]
        },
        {
          "name": "stderr",
          "output_type": "stream",
          "text": [
            " 64%|██████▍   | 193/300 [04:41<02:10,  1.22s/it]"
          ]
        },
        {
          "name": "stdout",
          "output_type": "stream",
          "text": [
            "data ke 193\n"
          ]
        },
        {
          "name": "stderr",
          "output_type": "stream",
          "text": [
            " 65%|██████▍   | 194/300 [04:42<01:54,  1.08s/it]"
          ]
        },
        {
          "name": "stdout",
          "output_type": "stream",
          "text": [
            "data ke 194\n"
          ]
        },
        {
          "name": "stderr",
          "output_type": "stream",
          "text": [
            " 65%|██████▌   | 195/300 [04:43<01:47,  1.02s/it]"
          ]
        },
        {
          "name": "stdout",
          "output_type": "stream",
          "text": [
            "data ke 195\n"
          ]
        },
        {
          "name": "stderr",
          "output_type": "stream",
          "text": [
            " 65%|██████▌   | 196/300 [04:44<01:49,  1.05s/it]"
          ]
        },
        {
          "name": "stdout",
          "output_type": "stream",
          "text": [
            "data ke 196\n"
          ]
        },
        {
          "name": "stderr",
          "output_type": "stream",
          "text": [
            " 66%|██████▌   | 197/300 [04:45<01:31,  1.12it/s]"
          ]
        },
        {
          "name": "stdout",
          "output_type": "stream",
          "text": [
            "data ke 197\n"
          ]
        },
        {
          "name": "stderr",
          "output_type": "stream",
          "text": [
            " 66%|██████▌   | 198/300 [04:46<01:41,  1.01it/s]"
          ]
        },
        {
          "name": "stdout",
          "output_type": "stream",
          "text": [
            "data ke 198\n"
          ]
        },
        {
          "name": "stderr",
          "output_type": "stream",
          "text": [
            " 66%|██████▋   | 199/300 [04:47<01:59,  1.18s/it]"
          ]
        },
        {
          "name": "stdout",
          "output_type": "stream",
          "text": [
            "data ke 199\n"
          ]
        },
        {
          "name": "stderr",
          "output_type": "stream",
          "text": [
            " 67%|██████▋   | 200/300 [04:48<01:54,  1.15s/it]"
          ]
        },
        {
          "name": "stdout",
          "output_type": "stream",
          "text": [
            "data ke 200\n"
          ]
        },
        {
          "name": "stderr",
          "output_type": "stream",
          "text": [
            " 67%|██████▋   | 201/300 [04:50<01:54,  1.16s/it]"
          ]
        },
        {
          "name": "stdout",
          "output_type": "stream",
          "text": [
            "data ke 201\n"
          ]
        },
        {
          "name": "stderr",
          "output_type": "stream",
          "text": [
            " 67%|██████▋   | 202/300 [04:51<01:53,  1.16s/it]"
          ]
        },
        {
          "name": "stdout",
          "output_type": "stream",
          "text": [
            "data ke 202\n"
          ]
        },
        {
          "name": "stderr",
          "output_type": "stream",
          "text": [
            " 68%|██████▊   | 203/300 [04:52<02:02,  1.27s/it]"
          ]
        },
        {
          "name": "stdout",
          "output_type": "stream",
          "text": [
            "data ke 203\n"
          ]
        },
        {
          "name": "stderr",
          "output_type": "stream",
          "text": [
            " 68%|██████▊   | 204/300 [04:54<01:58,  1.23s/it]"
          ]
        },
        {
          "name": "stdout",
          "output_type": "stream",
          "text": [
            "data ke 204\n"
          ]
        },
        {
          "name": "stderr",
          "output_type": "stream",
          "text": [
            " 68%|██████▊   | 205/300 [04:55<02:09,  1.37s/it]"
          ]
        },
        {
          "name": "stdout",
          "output_type": "stream",
          "text": [
            "data ke 205\n"
          ]
        },
        {
          "name": "stderr",
          "output_type": "stream",
          "text": [
            " 69%|██████▊   | 206/300 [04:56<02:04,  1.32s/it]"
          ]
        },
        {
          "name": "stdout",
          "output_type": "stream",
          "text": [
            "data ke 206\n"
          ]
        },
        {
          "name": "stderr",
          "output_type": "stream",
          "text": [
            " 69%|██████▉   | 207/300 [04:58<01:57,  1.27s/it]"
          ]
        },
        {
          "name": "stdout",
          "output_type": "stream",
          "text": [
            "data ke 207\n"
          ]
        },
        {
          "name": "stderr",
          "output_type": "stream",
          "text": [
            " 69%|██████▉   | 208/300 [04:59<01:57,  1.28s/it]"
          ]
        },
        {
          "name": "stdout",
          "output_type": "stream",
          "text": [
            "data ke 208\n"
          ]
        },
        {
          "name": "stderr",
          "output_type": "stream",
          "text": [
            " 70%|██████▉   | 209/300 [05:00<02:01,  1.33s/it]"
          ]
        },
        {
          "name": "stdout",
          "output_type": "stream",
          "text": [
            "data ke 209\n"
          ]
        },
        {
          "name": "stderr",
          "output_type": "stream",
          "text": [
            " 70%|███████   | 210/300 [05:02<02:02,  1.36s/it]"
          ]
        },
        {
          "name": "stdout",
          "output_type": "stream",
          "text": [
            "data ke 210\n"
          ]
        },
        {
          "name": "stderr",
          "output_type": "stream",
          "text": [
            " 70%|███████   | 211/300 [05:03<02:11,  1.47s/it]"
          ]
        },
        {
          "name": "stdout",
          "output_type": "stream",
          "text": [
            "data ke 211\n"
          ]
        },
        {
          "name": "stderr",
          "output_type": "stream",
          "text": [
            " 71%|███████   | 212/300 [05:05<02:05,  1.42s/it]"
          ]
        },
        {
          "name": "stdout",
          "output_type": "stream",
          "text": [
            "data ke 212\n"
          ]
        },
        {
          "name": "stderr",
          "output_type": "stream",
          "text": [
            " 71%|███████   | 213/300 [05:06<02:03,  1.42s/it]"
          ]
        },
        {
          "name": "stdout",
          "output_type": "stream",
          "text": [
            "data ke 213\n"
          ]
        },
        {
          "name": "stderr",
          "output_type": "stream",
          "text": [
            " 71%|███████▏  | 214/300 [05:07<01:58,  1.38s/it]"
          ]
        },
        {
          "name": "stdout",
          "output_type": "stream",
          "text": [
            "data ke 214\n"
          ]
        },
        {
          "name": "stderr",
          "output_type": "stream",
          "text": [
            " 72%|███████▏  | 215/300 [05:09<02:09,  1.52s/it]"
          ]
        },
        {
          "name": "stdout",
          "output_type": "stream",
          "text": [
            "data ke 215\n"
          ]
        },
        {
          "name": "stderr",
          "output_type": "stream",
          "text": [
            " 72%|███████▏  | 216/300 [05:11<02:04,  1.48s/it]"
          ]
        },
        {
          "name": "stdout",
          "output_type": "stream",
          "text": [
            "data ke 216\n"
          ]
        },
        {
          "name": "stderr",
          "output_type": "stream",
          "text": [
            " 72%|███████▏  | 217/300 [05:12<02:08,  1.55s/it]"
          ]
        },
        {
          "name": "stdout",
          "output_type": "stream",
          "text": [
            "data ke 217\n"
          ]
        },
        {
          "name": "stderr",
          "output_type": "stream",
          "text": [
            " 73%|███████▎  | 218/300 [05:14<02:03,  1.50s/it]"
          ]
        },
        {
          "name": "stdout",
          "output_type": "stream",
          "text": [
            "data ke 218\n"
          ]
        },
        {
          "name": "stderr",
          "output_type": "stream",
          "text": [
            " 73%|███████▎  | 219/300 [05:15<02:02,  1.51s/it]"
          ]
        },
        {
          "name": "stdout",
          "output_type": "stream",
          "text": [
            "data ke 219\n"
          ]
        },
        {
          "name": "stderr",
          "output_type": "stream",
          "text": [
            " 73%|███████▎  | 220/300 [05:17<01:59,  1.49s/it]"
          ]
        },
        {
          "name": "stdout",
          "output_type": "stream",
          "text": [
            "data ke 220\n"
          ]
        },
        {
          "name": "stderr",
          "output_type": "stream",
          "text": [
            " 74%|███████▎  | 221/300 [05:18<02:02,  1.55s/it]"
          ]
        },
        {
          "name": "stdout",
          "output_type": "stream",
          "text": [
            "data ke 221\n"
          ]
        },
        {
          "name": "stderr",
          "output_type": "stream",
          "text": [
            " 74%|███████▍  | 222/300 [05:20<01:59,  1.54s/it]"
          ]
        },
        {
          "name": "stdout",
          "output_type": "stream",
          "text": [
            "data ke 222\n"
          ]
        },
        {
          "name": "stderr",
          "output_type": "stream",
          "text": [
            " 74%|███████▍  | 223/300 [05:22<02:00,  1.57s/it]"
          ]
        },
        {
          "name": "stdout",
          "output_type": "stream",
          "text": [
            "data ke 223\n"
          ]
        },
        {
          "name": "stderr",
          "output_type": "stream",
          "text": [
            " 75%|███████▍  | 224/300 [05:23<02:01,  1.59s/it]"
          ]
        },
        {
          "name": "stdout",
          "output_type": "stream",
          "text": [
            "data ke 224\n"
          ]
        },
        {
          "name": "stderr",
          "output_type": "stream",
          "text": [
            " 75%|███████▌  | 225/300 [05:25<01:52,  1.49s/it]"
          ]
        },
        {
          "name": "stdout",
          "output_type": "stream",
          "text": [
            "data ke 225\n"
          ]
        },
        {
          "name": "stderr",
          "output_type": "stream",
          "text": [
            " 75%|███████▌  | 226/300 [05:26<01:50,  1.50s/it]"
          ]
        },
        {
          "name": "stdout",
          "output_type": "stream",
          "text": [
            "data ke 226\n"
          ]
        },
        {
          "name": "stderr",
          "output_type": "stream",
          "text": [
            " 76%|███████▌  | 227/300 [05:27<01:35,  1.31s/it]"
          ]
        },
        {
          "name": "stdout",
          "output_type": "stream",
          "text": [
            "data ke 227\n"
          ]
        },
        {
          "name": "stderr",
          "output_type": "stream",
          "text": [
            " 76%|███████▌  | 228/300 [05:28<01:32,  1.28s/it]"
          ]
        },
        {
          "name": "stdout",
          "output_type": "stream",
          "text": [
            "data ke 228\n"
          ]
        },
        {
          "name": "stderr",
          "output_type": "stream",
          "text": [
            " 76%|███████▋  | 229/300 [05:29<01:22,  1.16s/it]"
          ]
        },
        {
          "name": "stdout",
          "output_type": "stream",
          "text": [
            "data ke 229\n"
          ]
        },
        {
          "name": "stderr",
          "output_type": "stream",
          "text": [
            " 77%|███████▋  | 230/300 [05:30<01:14,  1.06s/it]"
          ]
        },
        {
          "name": "stdout",
          "output_type": "stream",
          "text": [
            "data ke 230\n"
          ]
        },
        {
          "name": "stderr",
          "output_type": "stream",
          "text": [
            " 77%|███████▋  | 231/300 [05:31<01:12,  1.06s/it]"
          ]
        },
        {
          "name": "stdout",
          "output_type": "stream",
          "text": [
            "data ke 231\n"
          ]
        },
        {
          "name": "stderr",
          "output_type": "stream",
          "text": [
            " 77%|███████▋  | 232/300 [05:32<01:11,  1.05s/it]"
          ]
        },
        {
          "name": "stdout",
          "output_type": "stream",
          "text": [
            "data ke 232\n"
          ]
        },
        {
          "name": "stderr",
          "output_type": "stream",
          "text": [
            " 78%|███████▊  | 233/300 [05:33<01:10,  1.06s/it]"
          ]
        },
        {
          "name": "stdout",
          "output_type": "stream",
          "text": [
            "data ke 233\n"
          ]
        },
        {
          "name": "stderr",
          "output_type": "stream",
          "text": [
            " 78%|███████▊  | 234/300 [05:35<01:18,  1.19s/it]"
          ]
        },
        {
          "name": "stdout",
          "output_type": "stream",
          "text": [
            "data ke 234\n"
          ]
        },
        {
          "name": "stderr",
          "output_type": "stream",
          "text": [
            " 78%|███████▊  | 235/300 [05:36<01:15,  1.16s/it]"
          ]
        },
        {
          "name": "stdout",
          "output_type": "stream",
          "text": [
            "data ke 235\n"
          ]
        },
        {
          "name": "stderr",
          "output_type": "stream",
          "text": [
            " 79%|███████▊  | 236/300 [05:37<01:13,  1.15s/it]"
          ]
        },
        {
          "name": "stdout",
          "output_type": "stream",
          "text": [
            "data ke 236\n"
          ]
        },
        {
          "name": "stderr",
          "output_type": "stream",
          "text": [
            " 79%|███████▉  | 237/300 [05:37<01:01,  1.03it/s]"
          ]
        },
        {
          "name": "stdout",
          "output_type": "stream",
          "text": [
            "data ke 237\n"
          ]
        },
        {
          "name": "stderr",
          "output_type": "stream",
          "text": [
            " 79%|███████▉  | 238/300 [05:38<00:57,  1.08it/s]"
          ]
        },
        {
          "name": "stdout",
          "output_type": "stream",
          "text": [
            "data ke 238\n"
          ]
        },
        {
          "name": "stderr",
          "output_type": "stream",
          "text": [
            " 80%|███████▉  | 239/300 [05:40<01:09,  1.14s/it]"
          ]
        },
        {
          "name": "stdout",
          "output_type": "stream",
          "text": [
            "data ke 239\n"
          ]
        },
        {
          "name": "stderr",
          "output_type": "stream",
          "text": [
            " 80%|████████  | 240/300 [05:41<01:11,  1.19s/it]"
          ]
        },
        {
          "name": "stdout",
          "output_type": "stream",
          "text": [
            "data ke 240\n"
          ]
        },
        {
          "name": "stderr",
          "output_type": "stream",
          "text": [
            " 80%|████████  | 241/300 [05:42<01:06,  1.13s/it]"
          ]
        },
        {
          "name": "stdout",
          "output_type": "stream",
          "text": [
            "data ke 241\n"
          ]
        },
        {
          "name": "stderr",
          "output_type": "stream",
          "text": [
            " 81%|████████  | 242/300 [05:44<01:11,  1.24s/it]"
          ]
        },
        {
          "name": "stdout",
          "output_type": "stream",
          "text": [
            "data ke 242\n"
          ]
        },
        {
          "name": "stderr",
          "output_type": "stream",
          "text": [
            " 81%|████████  | 243/300 [05:44<01:05,  1.14s/it]"
          ]
        },
        {
          "name": "stdout",
          "output_type": "stream",
          "text": [
            "data ke 243\n"
          ]
        },
        {
          "name": "stderr",
          "output_type": "stream",
          "text": [
            " 81%|████████▏ | 244/300 [05:46<01:13,  1.31s/it]"
          ]
        },
        {
          "name": "stdout",
          "output_type": "stream",
          "text": [
            "data ke 244\n"
          ]
        },
        {
          "name": "stderr",
          "output_type": "stream",
          "text": [
            " 82%|████████▏ | 245/300 [05:47<01:12,  1.31s/it]"
          ]
        },
        {
          "name": "stdout",
          "output_type": "stream",
          "text": [
            "data ke 245\n"
          ]
        },
        {
          "name": "stderr",
          "output_type": "stream",
          "text": [
            " 82%|████████▏ | 246/300 [05:49<01:07,  1.25s/it]"
          ]
        },
        {
          "name": "stdout",
          "output_type": "stream",
          "text": [
            "data ke 246\n"
          ]
        },
        {
          "name": "stderr",
          "output_type": "stream",
          "text": [
            " 82%|████████▏ | 247/300 [05:50<01:10,  1.33s/it]"
          ]
        },
        {
          "name": "stdout",
          "output_type": "stream",
          "text": [
            "data ke 247\n"
          ]
        },
        {
          "name": "stderr",
          "output_type": "stream",
          "text": [
            " 83%|████████▎ | 248/300 [05:51<00:58,  1.12s/it]"
          ]
        },
        {
          "name": "stdout",
          "output_type": "stream",
          "text": [
            "data ke 248\n"
          ]
        },
        {
          "name": "stderr",
          "output_type": "stream",
          "text": [
            " 83%|████████▎ | 249/300 [05:52<00:57,  1.13s/it]"
          ]
        },
        {
          "name": "stdout",
          "output_type": "stream",
          "text": [
            "data ke 249\n"
          ]
        },
        {
          "name": "stderr",
          "output_type": "stream",
          "text": [
            " 83%|████████▎ | 250/300 [05:53<00:53,  1.07s/it]"
          ]
        },
        {
          "name": "stdout",
          "output_type": "stream",
          "text": [
            "data ke 250\n"
          ]
        },
        {
          "name": "stderr",
          "output_type": "stream",
          "text": [
            " 84%|████████▎ | 251/300 [05:54<00:57,  1.18s/it]"
          ]
        },
        {
          "name": "stdout",
          "output_type": "stream",
          "text": [
            "data ke 251\n"
          ]
        },
        {
          "name": "stderr",
          "output_type": "stream",
          "text": [
            " 84%|████████▍ | 252/300 [05:56<00:58,  1.23s/it]"
          ]
        },
        {
          "name": "stdout",
          "output_type": "stream",
          "text": [
            "data ke 252\n"
          ]
        },
        {
          "name": "stderr",
          "output_type": "stream",
          "text": [
            " 84%|████████▍ | 253/300 [05:58<01:08,  1.45s/it]"
          ]
        },
        {
          "name": "stdout",
          "output_type": "stream",
          "text": [
            "data ke 253\n"
          ]
        },
        {
          "name": "stderr",
          "output_type": "stream",
          "text": [
            " 85%|████████▍ | 254/300 [05:58<00:57,  1.24s/it]"
          ]
        },
        {
          "name": "stdout",
          "output_type": "stream",
          "text": [
            "data ke 254\n"
          ]
        },
        {
          "name": "stderr",
          "output_type": "stream",
          "text": [
            " 85%|████████▌ | 255/300 [05:59<00:55,  1.23s/it]"
          ]
        },
        {
          "name": "stdout",
          "output_type": "stream",
          "text": [
            "data ke 255\n"
          ]
        },
        {
          "name": "stderr",
          "output_type": "stream",
          "text": [
            " 85%|████████▌ | 256/300 [06:01<00:52,  1.20s/it]"
          ]
        },
        {
          "name": "stdout",
          "output_type": "stream",
          "text": [
            "data ke 256\n"
          ]
        },
        {
          "name": "stderr",
          "output_type": "stream",
          "text": [
            " 86%|████████▌ | 257/300 [06:02<00:58,  1.37s/it]"
          ]
        },
        {
          "name": "stdout",
          "output_type": "stream",
          "text": [
            "data ke 257\n"
          ]
        },
        {
          "name": "stderr",
          "output_type": "stream",
          "text": [
            " 86%|████████▌ | 258/300 [06:04<00:54,  1.31s/it]"
          ]
        },
        {
          "name": "stdout",
          "output_type": "stream",
          "text": [
            "data ke 258\n"
          ]
        },
        {
          "name": "stderr",
          "output_type": "stream",
          "text": [
            " 86%|████████▋ | 259/300 [06:05<00:53,  1.29s/it]"
          ]
        },
        {
          "name": "stdout",
          "output_type": "stream",
          "text": [
            "data ke 259\n"
          ]
        },
        {
          "name": "stderr",
          "output_type": "stream",
          "text": [
            " 87%|████████▋ | 260/300 [06:06<00:55,  1.39s/it]"
          ]
        },
        {
          "name": "stdout",
          "output_type": "stream",
          "text": [
            "data ke 260\n"
          ]
        },
        {
          "name": "stderr",
          "output_type": "stream",
          "text": [
            " 87%|████████▋ | 261/300 [06:07<00:48,  1.25s/it]"
          ]
        },
        {
          "name": "stdout",
          "output_type": "stream",
          "text": [
            "data ke 261\n"
          ]
        },
        {
          "name": "stderr",
          "output_type": "stream",
          "text": [
            " 87%|████████▋ | 262/300 [06:08<00:38,  1.02s/it]"
          ]
        },
        {
          "name": "stdout",
          "output_type": "stream",
          "text": [
            "data ke 262\n"
          ]
        },
        {
          "name": "stderr",
          "output_type": "stream",
          "text": [
            " 88%|████████▊ | 263/300 [06:09<00:36,  1.02it/s]"
          ]
        },
        {
          "name": "stdout",
          "output_type": "stream",
          "text": [
            "data ke 263\n"
          ]
        },
        {
          "name": "stderr",
          "output_type": "stream",
          "text": [
            " 88%|████████▊ | 264/300 [06:10<00:43,  1.21s/it]"
          ]
        },
        {
          "name": "stdout",
          "output_type": "stream",
          "text": [
            "data ke 264\n"
          ]
        },
        {
          "name": "stderr",
          "output_type": "stream",
          "text": [
            " 88%|████████▊ | 265/300 [06:12<00:43,  1.25s/it]"
          ]
        },
        {
          "name": "stdout",
          "output_type": "stream",
          "text": [
            "data ke 265\n"
          ]
        },
        {
          "name": "stderr",
          "output_type": "stream",
          "text": [
            " 89%|████████▊ | 266/300 [06:13<00:39,  1.16s/it]"
          ]
        },
        {
          "name": "stdout",
          "output_type": "stream",
          "text": [
            "data ke 266\n"
          ]
        },
        {
          "name": "stderr",
          "output_type": "stream",
          "text": [
            " 89%|████████▉ | 267/300 [06:15<00:50,  1.54s/it]"
          ]
        },
        {
          "name": "stdout",
          "output_type": "stream",
          "text": [
            "data ke 267\n"
          ]
        },
        {
          "name": "stderr",
          "output_type": "stream",
          "text": [
            " 89%|████████▉ | 268/300 [06:17<00:48,  1.51s/it]"
          ]
        },
        {
          "name": "stdout",
          "output_type": "stream",
          "text": [
            "data ke 268\n"
          ]
        },
        {
          "name": "stderr",
          "output_type": "stream",
          "text": [
            " 90%|████████▉ | 269/300 [06:17<00:37,  1.22s/it]"
          ]
        },
        {
          "name": "stdout",
          "output_type": "stream",
          "text": [
            "data ke 269\n"
          ]
        },
        {
          "name": "stderr",
          "output_type": "stream",
          "text": [
            " 90%|█████████ | 270/300 [06:19<00:37,  1.26s/it]"
          ]
        },
        {
          "name": "stdout",
          "output_type": "stream",
          "text": [
            "data ke 270\n"
          ]
        },
        {
          "name": "stderr",
          "output_type": "stream",
          "text": [
            " 90%|█████████ | 271/300 [06:20<00:38,  1.33s/it]"
          ]
        },
        {
          "name": "stdout",
          "output_type": "stream",
          "text": [
            "data ke 271\n"
          ]
        },
        {
          "name": "stderr",
          "output_type": "stream",
          "text": [
            " 91%|█████████ | 272/300 [06:21<00:33,  1.21s/it]"
          ]
        },
        {
          "name": "stdout",
          "output_type": "stream",
          "text": [
            "data ke 272\n"
          ]
        },
        {
          "name": "stderr",
          "output_type": "stream",
          "text": [
            " 91%|█████████ | 273/300 [06:22<00:34,  1.29s/it]"
          ]
        },
        {
          "name": "stdout",
          "output_type": "stream",
          "text": [
            "data ke 273\n"
          ]
        },
        {
          "name": "stderr",
          "output_type": "stream",
          "text": [
            " 91%|█████████▏| 274/300 [06:24<00:32,  1.23s/it]"
          ]
        },
        {
          "name": "stdout",
          "output_type": "stream",
          "text": [
            "data ke 274\n"
          ]
        },
        {
          "name": "stderr",
          "output_type": "stream",
          "text": [
            " 92%|█████████▏| 275/300 [06:25<00:29,  1.19s/it]"
          ]
        },
        {
          "name": "stdout",
          "output_type": "stream",
          "text": [
            "data ke 275\n"
          ]
        },
        {
          "name": "stderr",
          "output_type": "stream",
          "text": [
            " 92%|█████████▏| 276/300 [06:26<00:29,  1.22s/it]"
          ]
        },
        {
          "name": "stdout",
          "output_type": "stream",
          "text": [
            "data ke 276\n"
          ]
        },
        {
          "name": "stderr",
          "output_type": "stream",
          "text": [
            " 92%|█████████▏| 277/300 [06:27<00:28,  1.23s/it]"
          ]
        },
        {
          "name": "stdout",
          "output_type": "stream",
          "text": [
            "data ke 277\n"
          ]
        },
        {
          "name": "stderr",
          "output_type": "stream",
          "text": [
            " 93%|█████████▎| 278/300 [06:28<00:23,  1.08s/it]"
          ]
        },
        {
          "name": "stdout",
          "output_type": "stream",
          "text": [
            "data ke 278\n"
          ]
        },
        {
          "name": "stderr",
          "output_type": "stream",
          "text": [
            " 93%|█████████▎| 279/300 [06:30<00:27,  1.30s/it]"
          ]
        },
        {
          "name": "stdout",
          "output_type": "stream",
          "text": [
            "data ke 279\n"
          ]
        },
        {
          "name": "stderr",
          "output_type": "stream",
          "text": [
            " 93%|█████████▎| 280/300 [06:31<00:26,  1.32s/it]"
          ]
        },
        {
          "name": "stdout",
          "output_type": "stream",
          "text": [
            "data ke 280\n"
          ]
        },
        {
          "name": "stderr",
          "output_type": "stream",
          "text": [
            " 94%|█████████▎| 281/300 [06:33<00:25,  1.35s/it]"
          ]
        },
        {
          "name": "stdout",
          "output_type": "stream",
          "text": [
            "data ke 281\n"
          ]
        },
        {
          "name": "stderr",
          "output_type": "stream",
          "text": [
            " 94%|█████████▍| 282/300 [06:33<00:21,  1.19s/it]"
          ]
        },
        {
          "name": "stdout",
          "output_type": "stream",
          "text": [
            "data ke 282\n"
          ]
        },
        {
          "name": "stderr",
          "output_type": "stream",
          "text": [
            " 94%|█████████▍| 283/300 [06:35<00:24,  1.44s/it]"
          ]
        },
        {
          "name": "stdout",
          "output_type": "stream",
          "text": [
            "data ke 283\n"
          ]
        },
        {
          "name": "stderr",
          "output_type": "stream",
          "text": [
            " 95%|█████████▍| 284/300 [06:37<00:24,  1.51s/it]"
          ]
        },
        {
          "name": "stdout",
          "output_type": "stream",
          "text": [
            "data ke 284\n"
          ]
        },
        {
          "name": "stderr",
          "output_type": "stream",
          "text": [
            " 95%|█████████▌| 285/300 [06:38<00:22,  1.47s/it]"
          ]
        },
        {
          "name": "stdout",
          "output_type": "stream",
          "text": [
            "data ke 285\n"
          ]
        },
        {
          "name": "stderr",
          "output_type": "stream",
          "text": [
            " 95%|█████████▌| 286/300 [06:40<00:20,  1.49s/it]"
          ]
        },
        {
          "name": "stdout",
          "output_type": "stream",
          "text": [
            "data ke 286\n"
          ]
        },
        {
          "name": "stderr",
          "output_type": "stream",
          "text": [
            " 96%|█████████▌| 287/300 [06:41<00:19,  1.48s/it]"
          ]
        },
        {
          "name": "stdout",
          "output_type": "stream",
          "text": [
            "data ke 287\n"
          ]
        },
        {
          "name": "stderr",
          "output_type": "stream",
          "text": [
            " 96%|█████████▌| 288/300 [06:43<00:18,  1.52s/it]"
          ]
        },
        {
          "name": "stdout",
          "output_type": "stream",
          "text": [
            "data ke 288\n"
          ]
        },
        {
          "name": "stderr",
          "output_type": "stream",
          "text": [
            " 96%|█████████▋| 289/300 [06:44<00:16,  1.46s/it]"
          ]
        },
        {
          "name": "stdout",
          "output_type": "stream",
          "text": [
            "data ke 289\n"
          ]
        },
        {
          "name": "stderr",
          "output_type": "stream",
          "text": [
            " 97%|█████████▋| 290/300 [06:46<00:14,  1.41s/it]"
          ]
        },
        {
          "name": "stdout",
          "output_type": "stream",
          "text": [
            "data ke 290\n"
          ]
        },
        {
          "name": "stderr",
          "output_type": "stream",
          "text": [
            " 97%|█████████▋| 291/300 [06:47<00:12,  1.43s/it]"
          ]
        },
        {
          "name": "stdout",
          "output_type": "stream",
          "text": [
            "data ke 291\n"
          ]
        },
        {
          "name": "stderr",
          "output_type": "stream",
          "text": [
            " 97%|█████████▋| 292/300 [06:48<00:10,  1.37s/it]"
          ]
        },
        {
          "name": "stdout",
          "output_type": "stream",
          "text": [
            "data ke 292\n"
          ]
        },
        {
          "name": "stderr",
          "output_type": "stream",
          "text": [
            " 98%|█████████▊| 293/300 [06:50<00:09,  1.37s/it]"
          ]
        },
        {
          "name": "stdout",
          "output_type": "stream",
          "text": [
            "data ke 293\n"
          ]
        },
        {
          "name": "stderr",
          "output_type": "stream",
          "text": [
            " 98%|█████████▊| 294/300 [06:51<00:07,  1.27s/it]"
          ]
        },
        {
          "name": "stdout",
          "output_type": "stream",
          "text": [
            "data ke 294\n"
          ]
        },
        {
          "name": "stderr",
          "output_type": "stream",
          "text": [
            " 98%|█████████▊| 295/300 [06:52<00:06,  1.30s/it]"
          ]
        },
        {
          "name": "stdout",
          "output_type": "stream",
          "text": [
            "data ke 295\n"
          ]
        },
        {
          "name": "stderr",
          "output_type": "stream",
          "text": [
            " 99%|█████████▊| 296/300 [06:53<00:04,  1.06s/it]"
          ]
        },
        {
          "name": "stdout",
          "output_type": "stream",
          "text": [
            "data ke 296\n"
          ]
        },
        {
          "name": "stderr",
          "output_type": "stream",
          "text": [
            " 99%|█████████▉| 297/300 [06:54<00:03,  1.25s/it]"
          ]
        },
        {
          "name": "stdout",
          "output_type": "stream",
          "text": [
            "data ke 297\n"
          ]
        },
        {
          "name": "stderr",
          "output_type": "stream",
          "text": [
            " 99%|█████████▉| 298/300 [06:56<00:02,  1.29s/it]"
          ]
        },
        {
          "name": "stdout",
          "output_type": "stream",
          "text": [
            "data ke 298\n"
          ]
        },
        {
          "name": "stderr",
          "output_type": "stream",
          "text": [
            "100%|█████████▉| 299/300 [06:57<00:01,  1.18s/it]"
          ]
        },
        {
          "name": "stdout",
          "output_type": "stream",
          "text": [
            "data ke 299\n"
          ]
        },
        {
          "name": "stderr",
          "output_type": "stream",
          "text": [
            "100%|██████████| 300/300 [06:58<00:00,  1.39s/it]\n"
          ]
        }
      ],
      "source": [
        "def total_score(alpha, beta, gamma, content_relevance_score, sentence_novelty_score, position_score):\n",
        "  final_score = {}\n",
        "  for sent in content_relevance_score:\n",
        "    final_score[sent] = alpha*content_relevance_score[sent]+beta*sentence_novelty_score[sent]+gamma*position_score[sent]\n",
        "  final_score = {k: v for k, v in sorted(final_score.items(), key=lambda item: item[1],reverse=True)}\n",
        "      \n",
        "  return final_score\n",
        "\n",
        "def convert_to_embeddings(alpha, beta, gamma, text_sentences, text_embeddings):\n",
        "  hypothesis_embeddings = {}\n",
        "  sum = 0\n",
        "  index = 0\n",
        "\n",
        "  for sent in text_sentences:\n",
        "    var = text_embeddings[index]\n",
        "    sum += var\n",
        "    hypothesis_embeddings[sent] = var\n",
        "    index += 1\n",
        "\n",
        "  centroid = sum/len(text_sentences)\n",
        "  \n",
        "  content_relevance_score = content_relevance(centroid,hypothesis_embeddings)\n",
        "  sentence_novelty_score = sentence_novelty(content_relevance_score,hypothesis_embeddings)\n",
        "  position_score = sentence_position(text_sentences)\n",
        "  return total_score(alpha, beta, gamma, content_relevance_score, sentence_novelty_score, position_score)\n",
        "\n",
        "def iter_ext(data):\n",
        "    extractive = []\n",
        "    index = 0\n",
        "    \n",
        "    result_dict = defaultdict(list)\n",
        "\n",
        "    for i in tqdm(range(len(data))):\n",
        "        total = 0\n",
        "        print('data ke ' + str(i))\n",
        "        text_embeddings = sentence_embeddings(data[i]['sentence'])\n",
        "        predicted_summary = convert_to_embeddings(0.6, 0.2, 0.2, data[i]['sentence'], text_embeddings) \n",
        "          \n",
        "        result_dict[i].append(predicted_summary)\n",
        "\n",
        "    return result_dict\n",
        "\n",
        "extract_p = iter_ext(doc)"
      ]
    },
    {
      "cell_type": "code",
      "execution_count": 344,
      "metadata": {},
      "outputs": [],
      "source": [
        "with open(\"./juti/result_tripadvisor/file-uploads/skoring-rkip2.json\",\"w\") as f:\n",
        "    json.dump(extract_p,f, default=int)"
      ]
    },
    {
      "cell_type": "code",
      "execution_count": 28,
      "metadata": {},
      "outputs": [],
      "source": [
        "import json\n",
        "f= open(r\"../main/extract_p.json\")\n",
        "extract_p = json.load(f)"
      ]
    },
    {
      "cell_type": "code",
      "execution_count": 284,
      "metadata": {},
      "outputs": [
        {
          "data": {
            "text/plain": [
              "{'rouge-2': {'f': 0.06770161077120225,\n",
              "  'p': 0.05175546864675708,\n",
              "  'r': 0.10377812749120068},\n",
              " 'rouge-1': {'f': 0.2793907696331645,\n",
              "  'p': 0.21292131573920287,\n",
              "  'r': 0.43152485399361995},\n",
              " 'rouge-l': {'f': 0.3289068045183421,\n",
              "  'p': 0.25930698497805327,\n",
              "  'r': 0.46889303378649744}}"
            ]
          },
          "execution_count": 284,
          "metadata": {},
          "output_type": "execute_result"
        }
      ],
      "source": [
        "raw_ext2 = summary2(extract_p)\n",
        "scores = evaluator.get_scores(raw_ext2, acsum)\n",
        "scores"
      ]
    },
    {
      "cell_type": "code",
      "execution_count": 285,
      "metadata": {},
      "outputs": [
        {
          "data": {
            "text/plain": [
              "[' menu dinner boxnya pun sangat enak untuk sarapan masih diantar ke kamar dengan 6 menu pilihan yang diberikan front office ',\n",
              " 'menginap untuk 3 malam ',\n",
              " ' saya dan pasangan puas dengan fasilitas kamar mandi beserta toilet nya ',\n",
              " ' untuk menu sarapan yang diantar ke kamar ',\n",
              " ' dengan desain yang modern dan minimalis kamar yang saya tempati terbilang luas dengan harga yang kompetitif untuk hotel smart budget ',\n",
              " ' cita rasa makanan di restonya juga lumayan enak dengan harga yang terjangkau ',\n",
              " ' jika mencari wisata kuliner hotel ini kurang cocok karena makanan kaki lima warung juga sangat sulit ditemukan mini market hanya ada 1 seminggu yang lalu kami check ini dan kami memberikan masukan memgenai kebersihan kamar ']"
            ]
          },
          "execution_count": 285,
          "metadata": {},
          "output_type": "execute_result"
        }
      ],
      "source": [
        "raw_ext1[4].split('\\n')"
      ]
    },
    {
      "cell_type": "code",
      "execution_count": 286,
      "metadata": {},
      "outputs": [
        {
          "data": {
            "text/plain": [
              "[' menu dinner boxnya pun sangat enak untuk sarapan masih diantar ke kamar dengan 6 menu pilihan yang diberikan front office ',\n",
              " 'menginap untuk 3 malam ',\n",
              " ' saya dan pasangan puas dengan fasilitas kamar mandi beserta toilet nya ',\n",
              " ' untuk menu sarapan yang diantar ke kamar ',\n",
              " ' dengan desain yang modern dan minimalis kamar yang saya tempati terbilang luas dengan harga yang kompetitif untuk hotel smart budget ',\n",
              " ' cita rasa makanan di restonya juga lumayan enak dengan harga yang terjangkau ',\n",
              " ' jika mencari wisata kuliner hotel ini kurang cocok karena makanan kaki lima warung juga sangat sulit ditemukan mini market hanya ada 1 seminggu yang lalu kami check ini dan kami memberikan masukan memgenai kebersihan kamar ']"
            ]
          },
          "execution_count": 286,
          "metadata": {},
          "output_type": "execute_result"
        }
      ],
      "source": [
        "raw_ext2[4].split('\\n')"
      ]
    },
    {
      "cell_type": "code",
      "execution_count": 287,
      "metadata": {},
      "outputs": [
        {
          "data": {
            "text/plain": [
              "tensor(0.5177)"
            ]
          },
          "execution_count": 287,
          "metadata": {},
          "output_type": "execute_result"
        }
      ],
      "source": [
        "from bert_score import score\n",
        "\n",
        "eP, eR, eF1 = score(raw_ext1, acsum, model_type=\"indobert-base-p1\", num_layers=12)\n",
        "eF1.mean()"
      ]
    },
    {
      "cell_type": "code",
      "execution_count": 288,
      "metadata": {},
      "outputs": [
        {
          "data": {
            "text/plain": [
              "tensor(0.5170)"
            ]
          },
          "execution_count": 288,
          "metadata": {},
          "output_type": "execute_result"
        }
      ],
      "source": [
        "eP, eR, eF1 = score(raw_ext2, acsum, model_type=\"indobert-base-p1\", num_layers=12)\n",
        "eF1.mean()"
      ]
    },
    {
      "attachments": {},
      "cell_type": "markdown",
      "metadata": {},
      "source": [
        "### Perbandingan dengan Metode Unsupervised Lainnya Pada Penelitian Sebelumnya"
      ]
    },
    {
      "cell_type": "markdown",
      "metadata": {},
      "source": [
        "Model RKiPS dibandingkan dengan metode unsupervised lainnya yaitu Textrank, Textteaser, dan BERT Ekstraktif. Berikut penjelasan singkat 3 metode tersebut.\n",
        "1. Textrank merupakan metode berbasis graf berbasis algoritma PageRank, dimana setiap kalimat direpresentasikan sebagai simpul (node) dan hubungan antar kalimat direpresentasikan sebagai tepi (edge). Setiap simpul kalimat akan diberikan bobot berdasarkan tingkatan kepentingan kalimat. Metode ini digunakan pada penelitian sebelumnya oleh [Gunawan dkk., 2019](https://doi.org/10.1109/ICISS48059.2019.8969785)\n",
        "2. Textteaser merupakan kombinasi fitur secara sintatik menggunakan metode Textteaser yang terdiri dari fitur judul, fitur posisi, dan fitur keyword. Metode ini digunakan paada penelitian sebelumnya oleh [Gunawan dkk., 2017](https://doi.org/10.1088/1757-899X/190/1/012048)\n",
        "3. BERT Ekstraktif merupakan model BERT yang digunakan untuk melakukan peringkasan teks dengan memilih kalimat-kalimat penting berdasarkan model yang sudah dilatih sebelumnya. Metode ini diusulkan oleh [Liu dkk., 2019](https://arxiv.org/abs/1903.10318)"
      ]
    },
    {
      "cell_type": "markdown",
      "metadata": {},
      "source": [
        "**TEXTRANK**"
      ]
    },
    {
      "cell_type": "code",
      "execution_count": 12,
      "metadata": {},
      "outputs": [],
      "source": [
        "from summa.summarizer import summarize\n",
        "\n",
        "prepro_textrank = []\n",
        "for i in range(len(doc)):\n",
        "    prepro_textrank.append('\\n'.join(doc[i]['sentence']))\n",
        "\n",
        "textrank_sum = []\n",
        "for tsum in range(len(doc)):\n",
        "    textrank_sum.append(summarize(prepro_textrank[tsum], words=90))\n",
        "\n",
        "scorestk = evaluator.get_scores(textrank_sum, acsum)"
      ]
    },
    {
      "cell_type": "code",
      "execution_count": 15,
      "metadata": {},
      "outputs": [
        {
          "data": {
            "text/plain": [
              "tensor(0.4891)"
            ]
          },
          "execution_count": 15,
          "metadata": {},
          "output_type": "execute_result"
        }
      ],
      "source": [
        "# BERTScore\n",
        "_, _, tkF1 = score(textrank_sum, acsum, model_type=\"indobert-base-p1\", num_layers=12)\n",
        "tkF1.mean()"
      ]
    },
    {
      "cell_type": "markdown",
      "metadata": {},
      "source": [
        "**TextTeaser**"
      ]
    },
    {
      "cell_type": "code",
      "execution_count": 9,
      "metadata": {},
      "outputs": [],
      "source": [
        "import sys\n",
        "sys.path.append('./textteasersum/textteaser/')"
      ]
    },
    {
      "cell_type": "code",
      "execution_count": 10,
      "metadata": {},
      "outputs": [],
      "source": [
        "from textteasersum.textteaser import TextTeaser\n",
        "\n",
        "def sumtextteaser(y,x):\n",
        "  tt = TextTeaser()\n",
        "\n",
        "  sentences = tt.summarize(y, x)\n",
        "  return sentences\n",
        "\n",
        "prepro_tt = []\n",
        "for i in range(len(doc)):\n",
        "    prepro_tt.append('. '.join(doc[i]['sentence']))\n",
        "\n",
        "\n",
        "title = []\n",
        "for tl in range(len(doc)):\n",
        "    title.append(doc[tl]['sentence'][0])\n",
        "\n",
        "textteaser_sum = []\n",
        "for tl in range(len(doc)):\n",
        "    textteaser_sum.append(sumtextteaser(title[tl], prepro_tt[tl]))"
      ]
    },
    {
      "cell_type": "code",
      "execution_count": 11,
      "metadata": {},
      "outputs": [],
      "source": [
        "textteaser_sum = ['\\n'.join(x) for x in textteaser_sum]\n",
        "scorestt = evaluator.get_scores(textteaser_sum, acsum)"
      ]
    },
    {
      "cell_type": "code",
      "execution_count": 16,
      "metadata": {},
      "outputs": [
        {
          "data": {
            "text/plain": [
              "tensor(0.4977)"
            ]
          },
          "execution_count": 16,
          "metadata": {},
          "output_type": "execute_result"
        }
      ],
      "source": [
        "# BERTScore\n",
        "_, _, ttF1 = score(textteaser_sum, acsum, model_type=\"indobert-base-p1\", num_layers=12)\n",
        "ttF1.mean()"
      ]
    },
    {
      "cell_type": "markdown",
      "metadata": {},
      "source": [
        "**BERT Ekstraktif**"
      ]
    },
    {
      "cell_type": "code",
      "execution_count": 22,
      "metadata": {},
      "outputs": [],
      "source": [
        "acsum = []\n",
        "for smm in range(len(ext['abstractive'])):\n",
        "  acsum.append(ext['abstractive'][smm].replace('.','.\\n'))\n",
        "\n",
        "def prepare_results(m, f):\n",
        "    return '\\t{}:\\t{}: {:5.2f}'.format(m, 'F1', 100.0 * f)\n",
        "\n",
        "def bert_result(bertscore):\n",
        "  return '\\t{}: {:5.2f}'.format('BertScore', 100.0 * bertscore)\n",
        "\n",
        "evaluator = rouge.Rouge(metrics=['rouge-n', 'rouge-l'],\n",
        "                           max_n=2,\n",
        "                           limit_length=True,\n",
        "                           length_limit=100,\n",
        "                           length_limit_type='words',\n",
        "                           apply_avg=True,\n",
        "                           alpha=0.5, # Default F1_score\n",
        "                           weight_factor=1.2,\n",
        "                           stemming=False)"
      ]
    },
    {
      "cell_type": "code",
      "execution_count": 6,
      "metadata": {},
      "outputs": [],
      "source": [
        "from summarizer import Summarizer\n",
        "from transformers import AutoConfig, AutoTokenizer, AutoModel"
      ]
    },
    {
      "cell_type": "code",
      "execution_count": 7,
      "metadata": {},
      "outputs": [],
      "source": [
        "custom_config = AutoConfig.from_pretrained('indobert-base-p1')\n",
        "custom_config.output_hidden_states=True\n",
        "custom_tokenizer = AutoTokenizer.from_pretrained('indobert-base-p1')\n",
        "custom_model = AutoModel.from_pretrained('indobert-base-p1', config=custom_config)"
      ]
    },
    {
      "cell_type": "code",
      "execution_count": 8,
      "metadata": {},
      "outputs": [],
      "source": [
        "model = Summarizer(custom_model=custom_model, custom_tokenizer=custom_tokenizer)\n",
        "prepro_bert = []\n",
        "for i in range(len(doc)):\n",
        "    prepro_bert.append('. '.join(doc[i]['sentence']))\n",
        "\n",
        "bert_sum = []\n",
        "for tsum in range(len(doc)):\n",
        "    bert_sum.append(model(prepro_bert[tsum]))\n",
        "\n",
        "scoresbs = evaluator.get_scores(bert_sum, acsum)"
      ]
    },
    {
      "cell_type": "code",
      "execution_count": 14,
      "metadata": {},
      "outputs": [
        {
          "data": {
            "text/plain": [
              "tensor(0.5172)"
            ]
          },
          "execution_count": 14,
          "metadata": {},
          "output_type": "execute_result"
        }
      ],
      "source": [
        "# BERTScore\n",
        "_, _, bertF1 = score(bert_sum, acsum, model_type=\"indobert-base-p1\", num_layers=12)\n",
        "bertF1.mean()"
      ]
    },
    {
      "cell_type": "code",
      "execution_count": 23,
      "metadata": {},
      "outputs": [
        {
          "name": "stdout",
          "output_type": "stream",
          "text": [
            "TEXTRANK\n",
            "\trouge-1:\tF1: 26.12\n",
            "\trouge-2:\tF1:  6.27\n",
            "\trouge-l:\tF1: 30.23\n",
            "\tBertScore: 48.91\n",
            "TEXTTEASER\n",
            "\trouge-1:\tF1: 23.13\n",
            "\trouge-2:\tF1:  5.31\n",
            "\trouge-l:\tF1: 27.48\n",
            "\tBertScore: 49.77\n",
            "BERTEXTRACTIVE\n",
            "\trouge-1:\tF1: 25.79\n",
            "\trouge-2:\tF1:  5.90\n",
            "\trouge-l:\tF1: 27.17\n",
            "\tBertScore: 51.72\n"
          ]
        }
      ],
      "source": [
        "print('TEXTRANK')\n",
        "for metric, results in sorted(scorestk.items(), key=lambda x: x[0]):\n",
        "        print(prepare_results(metric, results['f']))\n",
        "print(bert_result(tkF1.mean()))\n",
        "\n",
        "print('TEXTTEASER')\n",
        "for metric, results in sorted(scorestt.items(), key=lambda x: x[0]):\n",
        "        print(prepare_results(metric, results['f']))\n",
        "print(bert_result(ttF1.mean()))\n",
        "\n",
        "print('BERTEXTRACTIVE')\n",
        "for metric, results in sorted(scoresbs.items(), key=lambda x: x[0]):\n",
        "        print(prepare_results(metric, results['f']))\n",
        "print(bert_result(bertF1.mean()))"
      ]
    }
  ],
  "metadata": {
    "colab": {
      "machine_shape": "hm",
      "provenance": []
    },
    "gpuClass": "premium",
    "kernelspec": {
      "display_name": "dep",
      "language": "python",
      "name": "python3"
    },
    "language_info": {
      "codemirror_mode": {
        "name": "ipython",
        "version": 3
      },
      "file_extension": ".py",
      "mimetype": "text/x-python",
      "name": "python",
      "nbconvert_exporter": "python",
      "pygments_lexer": "ipython3",
      "version": "3.7.9"
    },
    "vscode": {
      "interpreter": {
        "hash": "126a33bd2d87dff5b00a856a5b6c4eb2599e056b3a50d57964481b88d2421f09"
      }
    },
    "widgets": {
      "application/vnd.jupyter.widget-state+json": {
        "08e6a47b3028486abd4e7433edbf7bd6": {
          "model_module": "@jupyter-widgets/controls",
          "model_module_version": "1.5.0",
          "model_name": "DescriptionStyleModel",
          "state": {
            "_model_module": "@jupyter-widgets/controls",
            "_model_module_version": "1.5.0",
            "_model_name": "DescriptionStyleModel",
            "_view_count": null,
            "_view_module": "@jupyter-widgets/base",
            "_view_module_version": "1.2.0",
            "_view_name": "StyleView",
            "description_width": ""
          }
        },
        "092736b0af4d45ce9a031f5b6f887d18": {
          "model_module": "@jupyter-widgets/controls",
          "model_module_version": "1.5.0",
          "model_name": "FloatProgressModel",
          "state": {
            "_dom_classes": [],
            "_model_module": "@jupyter-widgets/controls",
            "_model_module_version": "1.5.0",
            "_model_name": "FloatProgressModel",
            "_view_count": null,
            "_view_module": "@jupyter-widgets/controls",
            "_view_module_version": "1.5.0",
            "_view_name": "ProgressView",
            "bar_style": "success",
            "description": "",
            "description_tooltip": null,
            "layout": "IPY_MODEL_e4aab643042f49e6b9b7edacdc49d26c",
            "max": 1,
            "min": 0,
            "orientation": "horizontal",
            "style": "IPY_MODEL_3bb313662e724109a018ae37993d6c5a",
            "value": 1
          }
        },
        "117059a18edb465ca4b05cdf8b448168": {
          "model_module": "@jupyter-widgets/controls",
          "model_module_version": "1.5.0",
          "model_name": "DescriptionStyleModel",
          "state": {
            "_model_module": "@jupyter-widgets/controls",
            "_model_module_version": "1.5.0",
            "_model_name": "DescriptionStyleModel",
            "_view_count": null,
            "_view_module": "@jupyter-widgets/base",
            "_view_module_version": "1.2.0",
            "_view_name": "StyleView",
            "description_width": ""
          }
        },
        "12ee9c6baf9d4c60b3098e8d67b7f234": {
          "model_module": "@jupyter-widgets/base",
          "model_module_version": "1.2.0",
          "model_name": "LayoutModel",
          "state": {
            "_model_module": "@jupyter-widgets/base",
            "_model_module_version": "1.2.0",
            "_model_name": "LayoutModel",
            "_view_count": null,
            "_view_module": "@jupyter-widgets/base",
            "_view_module_version": "1.2.0",
            "_view_name": "LayoutView",
            "align_content": null,
            "align_items": null,
            "align_self": null,
            "border": null,
            "bottom": null,
            "display": null,
            "flex": null,
            "flex_flow": null,
            "grid_area": null,
            "grid_auto_columns": null,
            "grid_auto_flow": null,
            "grid_auto_rows": null,
            "grid_column": null,
            "grid_gap": null,
            "grid_row": null,
            "grid_template_areas": null,
            "grid_template_columns": null,
            "grid_template_rows": null,
            "height": null,
            "justify_content": null,
            "justify_items": null,
            "left": null,
            "margin": null,
            "max_height": null,
            "max_width": null,
            "min_height": null,
            "min_width": null,
            "object_fit": null,
            "object_position": null,
            "order": null,
            "overflow": null,
            "overflow_x": null,
            "overflow_y": null,
            "padding": null,
            "right": null,
            "top": null,
            "visibility": null,
            "width": null
          }
        },
        "1972369dc88543fdb254dfbea5e3637a": {
          "model_module": "@jupyter-widgets/base",
          "model_module_version": "1.2.0",
          "model_name": "LayoutModel",
          "state": {
            "_model_module": "@jupyter-widgets/base",
            "_model_module_version": "1.2.0",
            "_model_name": "LayoutModel",
            "_view_count": null,
            "_view_module": "@jupyter-widgets/base",
            "_view_module_version": "1.2.0",
            "_view_name": "LayoutView",
            "align_content": null,
            "align_items": null,
            "align_self": null,
            "border": null,
            "bottom": null,
            "display": null,
            "flex": null,
            "flex_flow": null,
            "grid_area": null,
            "grid_auto_columns": null,
            "grid_auto_flow": null,
            "grid_auto_rows": null,
            "grid_column": null,
            "grid_gap": null,
            "grid_row": null,
            "grid_template_areas": null,
            "grid_template_columns": null,
            "grid_template_rows": null,
            "height": null,
            "justify_content": null,
            "justify_items": null,
            "left": null,
            "margin": null,
            "max_height": null,
            "max_width": null,
            "min_height": null,
            "min_width": null,
            "object_fit": null,
            "object_position": null,
            "order": null,
            "overflow": null,
            "overflow_x": null,
            "overflow_y": null,
            "padding": null,
            "right": null,
            "top": null,
            "visibility": null,
            "width": null
          }
        },
        "19f9e4fcb78043baa7ed547aab4e608e": {
          "model_module": "@jupyter-widgets/base",
          "model_module_version": "1.2.0",
          "model_name": "LayoutModel",
          "state": {
            "_model_module": "@jupyter-widgets/base",
            "_model_module_version": "1.2.0",
            "_model_name": "LayoutModel",
            "_view_count": null,
            "_view_module": "@jupyter-widgets/base",
            "_view_module_version": "1.2.0",
            "_view_name": "LayoutView",
            "align_content": null,
            "align_items": null,
            "align_self": null,
            "border": null,
            "bottom": null,
            "display": null,
            "flex": null,
            "flex_flow": null,
            "grid_area": null,
            "grid_auto_columns": null,
            "grid_auto_flow": null,
            "grid_auto_rows": null,
            "grid_column": null,
            "grid_gap": null,
            "grid_row": null,
            "grid_template_areas": null,
            "grid_template_columns": null,
            "grid_template_rows": null,
            "height": null,
            "justify_content": null,
            "justify_items": null,
            "left": null,
            "margin": null,
            "max_height": null,
            "max_width": null,
            "min_height": null,
            "min_width": null,
            "object_fit": null,
            "object_position": null,
            "order": null,
            "overflow": null,
            "overflow_x": null,
            "overflow_y": null,
            "padding": null,
            "right": null,
            "top": null,
            "visibility": null,
            "width": null
          }
        },
        "1ae8ad67b84b43b3a7d3747d9ce32586": {
          "model_module": "@jupyter-widgets/controls",
          "model_module_version": "1.5.0",
          "model_name": "HBoxModel",
          "state": {
            "_dom_classes": [],
            "_model_module": "@jupyter-widgets/controls",
            "_model_module_version": "1.5.0",
            "_model_name": "HBoxModel",
            "_view_count": null,
            "_view_module": "@jupyter-widgets/controls",
            "_view_module_version": "1.5.0",
            "_view_name": "HBoxView",
            "box_style": "",
            "children": [
              "IPY_MODEL_61f1a6c67f7d4c4897bd566285fe9fb8",
              "IPY_MODEL_df9a81da24bc4da3970c902810e74016",
              "IPY_MODEL_f6de4b61a5ca4da2a202f0c85d50171f"
            ],
            "layout": "IPY_MODEL_bfe1bf9503174683b025854a9fbd6297"
          }
        },
        "1c59ea6bc43446cb98b9492c2cd8d6be": {
          "model_module": "@jupyter-widgets/controls",
          "model_module_version": "1.5.0",
          "model_name": "HBoxModel",
          "state": {
            "_dom_classes": [],
            "_model_module": "@jupyter-widgets/controls",
            "_model_module_version": "1.5.0",
            "_model_name": "HBoxModel",
            "_view_count": null,
            "_view_module": "@jupyter-widgets/controls",
            "_view_module_version": "1.5.0",
            "_view_name": "HBoxView",
            "box_style": "",
            "children": [
              "IPY_MODEL_a2438f14cf124dbdba885b2a126c81da",
              "IPY_MODEL_2016921957514151b2e8016daa4887e0",
              "IPY_MODEL_f32874ae4bab4d6ab9eca0056ae975d6"
            ],
            "layout": "IPY_MODEL_424262aa0ed54c7fa213ef12d7ae2f75"
          }
        },
        "2016921957514151b2e8016daa4887e0": {
          "model_module": "@jupyter-widgets/controls",
          "model_module_version": "1.5.0",
          "model_name": "FloatProgressModel",
          "state": {
            "_dom_classes": [],
            "_model_module": "@jupyter-widgets/controls",
            "_model_module_version": "1.5.0",
            "_model_name": "FloatProgressModel",
            "_view_count": null,
            "_view_module": "@jupyter-widgets/controls",
            "_view_module_version": "1.5.0",
            "_view_name": "ProgressView",
            "bar_style": "success",
            "description": "",
            "description_tooltip": null,
            "layout": "IPY_MODEL_3e25d0dd5a004927a376e797c9eafa17",
            "max": 1,
            "min": 0,
            "orientation": "horizontal",
            "style": "IPY_MODEL_2bea22e9c4f840958f20595975cbd871",
            "value": 1
          }
        },
        "219e82fb165f483ea55b1271ffd4be47": {
          "model_module": "@jupyter-widgets/controls",
          "model_module_version": "1.5.0",
          "model_name": "ProgressStyleModel",
          "state": {
            "_model_module": "@jupyter-widgets/controls",
            "_model_module_version": "1.5.0",
            "_model_name": "ProgressStyleModel",
            "_view_count": null,
            "_view_module": "@jupyter-widgets/base",
            "_view_module_version": "1.2.0",
            "_view_name": "StyleView",
            "bar_color": null,
            "description_width": ""
          }
        },
        "2272dc775f7e4d4b9bf0f204e22abccb": {
          "model_module": "@jupyter-widgets/base",
          "model_module_version": "1.2.0",
          "model_name": "LayoutModel",
          "state": {
            "_model_module": "@jupyter-widgets/base",
            "_model_module_version": "1.2.0",
            "_model_name": "LayoutModel",
            "_view_count": null,
            "_view_module": "@jupyter-widgets/base",
            "_view_module_version": "1.2.0",
            "_view_name": "LayoutView",
            "align_content": null,
            "align_items": null,
            "align_self": null,
            "border": null,
            "bottom": null,
            "display": null,
            "flex": null,
            "flex_flow": null,
            "grid_area": null,
            "grid_auto_columns": null,
            "grid_auto_flow": null,
            "grid_auto_rows": null,
            "grid_column": null,
            "grid_gap": null,
            "grid_row": null,
            "grid_template_areas": null,
            "grid_template_columns": null,
            "grid_template_rows": null,
            "height": null,
            "justify_content": null,
            "justify_items": null,
            "left": null,
            "margin": null,
            "max_height": null,
            "max_width": null,
            "min_height": null,
            "min_width": null,
            "object_fit": null,
            "object_position": null,
            "order": null,
            "overflow": null,
            "overflow_x": null,
            "overflow_y": null,
            "padding": null,
            "right": null,
            "top": null,
            "visibility": null,
            "width": null
          }
        },
        "266767b70836438e9bb88ee735630f32": {
          "model_module": "@jupyter-widgets/controls",
          "model_module_version": "1.5.0",
          "model_name": "HTMLModel",
          "state": {
            "_dom_classes": [],
            "_model_module": "@jupyter-widgets/controls",
            "_model_module_version": "1.5.0",
            "_model_name": "HTMLModel",
            "_view_count": null,
            "_view_module": "@jupyter-widgets/controls",
            "_view_module_version": "1.5.0",
            "_view_name": "HTMLView",
            "description": "",
            "description_tooltip": null,
            "layout": "IPY_MODEL_a2774c7c14444dd08f8ace5a8dceaa0c",
            "placeholder": "​",
            "style": "IPY_MODEL_87e428317bb8474fa11e6c37d5b75b40",
            "value": " 229k/229k [00:00&lt;00:00, 2.98MB/s]"
          }
        },
        "2b3668c934a34d5396e055945869e98c": {
          "model_module": "@jupyter-widgets/controls",
          "model_module_version": "1.5.0",
          "model_name": "DescriptionStyleModel",
          "state": {
            "_model_module": "@jupyter-widgets/controls",
            "_model_module_version": "1.5.0",
            "_model_name": "DescriptionStyleModel",
            "_view_count": null,
            "_view_module": "@jupyter-widgets/base",
            "_view_module_version": "1.2.0",
            "_view_name": "StyleView",
            "description_width": ""
          }
        },
        "2b4497ae837f4a189eb6d4417ad89e75": {
          "model_module": "@jupyter-widgets/controls",
          "model_module_version": "1.5.0",
          "model_name": "HTMLModel",
          "state": {
            "_dom_classes": [],
            "_model_module": "@jupyter-widgets/controls",
            "_model_module_version": "1.5.0",
            "_model_name": "HTMLModel",
            "_view_count": null,
            "_view_module": "@jupyter-widgets/controls",
            "_view_module_version": "1.5.0",
            "_view_name": "HTMLView",
            "description": "",
            "description_tooltip": null,
            "layout": "IPY_MODEL_bd116334d76e4852a431a66256a78529",
            "placeholder": "​",
            "style": "IPY_MODEL_7463fad492e1493aa5f7cf068e9daf55",
            "value": "Downloading (…)solve/main/vocab.txt: 100%"
          }
        },
        "2bea22e9c4f840958f20595975cbd871": {
          "model_module": "@jupyter-widgets/controls",
          "model_module_version": "1.5.0",
          "model_name": "ProgressStyleModel",
          "state": {
            "_model_module": "@jupyter-widgets/controls",
            "_model_module_version": "1.5.0",
            "_model_name": "ProgressStyleModel",
            "_view_count": null,
            "_view_module": "@jupyter-widgets/base",
            "_view_module_version": "1.2.0",
            "_view_name": "StyleView",
            "bar_color": null,
            "description_width": ""
          }
        },
        "2f82a20b247449daa4022d8dd53d191a": {
          "model_module": "@jupyter-widgets/controls",
          "model_module_version": "1.5.0",
          "model_name": "HTMLModel",
          "state": {
            "_dom_classes": [],
            "_model_module": "@jupyter-widgets/controls",
            "_model_module_version": "1.5.0",
            "_model_name": "HTMLModel",
            "_view_count": null,
            "_view_module": "@jupyter-widgets/controls",
            "_view_module_version": "1.5.0",
            "_view_name": "HTMLView",
            "description": "",
            "description_tooltip": null,
            "layout": "IPY_MODEL_304821c2634b48fba54ee6674753139c",
            "placeholder": "​",
            "style": "IPY_MODEL_e776ebd5f4f4469ba5c9b25d7e31271f",
            "value": "Downloading (…)okenizer_config.json: 100%"
          }
        },
        "304821c2634b48fba54ee6674753139c": {
          "model_module": "@jupyter-widgets/base",
          "model_module_version": "1.2.0",
          "model_name": "LayoutModel",
          "state": {
            "_model_module": "@jupyter-widgets/base",
            "_model_module_version": "1.2.0",
            "_model_name": "LayoutModel",
            "_view_count": null,
            "_view_module": "@jupyter-widgets/base",
            "_view_module_version": "1.2.0",
            "_view_name": "LayoutView",
            "align_content": null,
            "align_items": null,
            "align_self": null,
            "border": null,
            "bottom": null,
            "display": null,
            "flex": null,
            "flex_flow": null,
            "grid_area": null,
            "grid_auto_columns": null,
            "grid_auto_flow": null,
            "grid_auto_rows": null,
            "grid_column": null,
            "grid_gap": null,
            "grid_row": null,
            "grid_template_areas": null,
            "grid_template_columns": null,
            "grid_template_rows": null,
            "height": null,
            "justify_content": null,
            "justify_items": null,
            "left": null,
            "margin": null,
            "max_height": null,
            "max_width": null,
            "min_height": null,
            "min_width": null,
            "object_fit": null,
            "object_position": null,
            "order": null,
            "overflow": null,
            "overflow_x": null,
            "overflow_y": null,
            "padding": null,
            "right": null,
            "top": null,
            "visibility": null,
            "width": null
          }
        },
        "30b72c6bc37747e6934e8f98f0f7c7a7": {
          "model_module": "@jupyter-widgets/controls",
          "model_module_version": "1.5.0",
          "model_name": "HTMLModel",
          "state": {
            "_dom_classes": [],
            "_model_module": "@jupyter-widgets/controls",
            "_model_module_version": "1.5.0",
            "_model_name": "HTMLModel",
            "_view_count": null,
            "_view_module": "@jupyter-widgets/controls",
            "_view_module_version": "1.5.0",
            "_view_name": "HTMLView",
            "description": "",
            "description_tooltip": null,
            "layout": "IPY_MODEL_a41468b407ca4424b871b1403223ea6e",
            "placeholder": "​",
            "style": "IPY_MODEL_8b4b19ed60994a02b7fa40390a70b777",
            "value": "100%"
          }
        },
        "31a85698b94549d19cee9c590fa24abd": {
          "model_module": "@jupyter-widgets/base",
          "model_module_version": "1.2.0",
          "model_name": "LayoutModel",
          "state": {
            "_model_module": "@jupyter-widgets/base",
            "_model_module_version": "1.2.0",
            "_model_name": "LayoutModel",
            "_view_count": null,
            "_view_module": "@jupyter-widgets/base",
            "_view_module_version": "1.2.0",
            "_view_name": "LayoutView",
            "align_content": null,
            "align_items": null,
            "align_self": null,
            "border": null,
            "bottom": null,
            "display": null,
            "flex": null,
            "flex_flow": null,
            "grid_area": null,
            "grid_auto_columns": null,
            "grid_auto_flow": null,
            "grid_auto_rows": null,
            "grid_column": null,
            "grid_gap": null,
            "grid_row": null,
            "grid_template_areas": null,
            "grid_template_columns": null,
            "grid_template_rows": null,
            "height": null,
            "justify_content": null,
            "justify_items": null,
            "left": null,
            "margin": null,
            "max_height": null,
            "max_width": null,
            "min_height": null,
            "min_width": null,
            "object_fit": null,
            "object_position": null,
            "order": null,
            "overflow": null,
            "overflow_x": null,
            "overflow_y": null,
            "padding": null,
            "right": null,
            "top": null,
            "visibility": null,
            "width": null
          }
        },
        "3203a3ceaf7043fc8b8538319dec6510": {
          "model_module": "@jupyter-widgets/base",
          "model_module_version": "1.2.0",
          "model_name": "LayoutModel",
          "state": {
            "_model_module": "@jupyter-widgets/base",
            "_model_module_version": "1.2.0",
            "_model_name": "LayoutModel",
            "_view_count": null,
            "_view_module": "@jupyter-widgets/base",
            "_view_module_version": "1.2.0",
            "_view_name": "LayoutView",
            "align_content": null,
            "align_items": null,
            "align_self": null,
            "border": null,
            "bottom": null,
            "display": null,
            "flex": null,
            "flex_flow": null,
            "grid_area": null,
            "grid_auto_columns": null,
            "grid_auto_flow": null,
            "grid_auto_rows": null,
            "grid_column": null,
            "grid_gap": null,
            "grid_row": null,
            "grid_template_areas": null,
            "grid_template_columns": null,
            "grid_template_rows": null,
            "height": null,
            "justify_content": null,
            "justify_items": null,
            "left": null,
            "margin": null,
            "max_height": null,
            "max_width": null,
            "min_height": null,
            "min_width": null,
            "object_fit": null,
            "object_position": null,
            "order": null,
            "overflow": null,
            "overflow_x": null,
            "overflow_y": null,
            "padding": null,
            "right": null,
            "top": null,
            "visibility": null,
            "width": null
          }
        },
        "36b8b0201bf34677a141da381b345adb": {
          "model_module": "@jupyter-widgets/controls",
          "model_module_version": "1.5.0",
          "model_name": "ProgressStyleModel",
          "state": {
            "_model_module": "@jupyter-widgets/controls",
            "_model_module_version": "1.5.0",
            "_model_name": "ProgressStyleModel",
            "_view_count": null,
            "_view_module": "@jupyter-widgets/base",
            "_view_module_version": "1.2.0",
            "_view_name": "StyleView",
            "bar_color": null,
            "description_width": ""
          }
        },
        "3bb313662e724109a018ae37993d6c5a": {
          "model_module": "@jupyter-widgets/controls",
          "model_module_version": "1.5.0",
          "model_name": "ProgressStyleModel",
          "state": {
            "_model_module": "@jupyter-widgets/controls",
            "_model_module_version": "1.5.0",
            "_model_name": "ProgressStyleModel",
            "_view_count": null,
            "_view_module": "@jupyter-widgets/base",
            "_view_module_version": "1.2.0",
            "_view_name": "StyleView",
            "bar_color": null,
            "description_width": ""
          }
        },
        "3dc653dea45b43a8af4a8cc6465296f8": {
          "model_module": "@jupyter-widgets/controls",
          "model_module_version": "1.5.0",
          "model_name": "HBoxModel",
          "state": {
            "_dom_classes": [],
            "_model_module": "@jupyter-widgets/controls",
            "_model_module_version": "1.5.0",
            "_model_name": "HBoxModel",
            "_view_count": null,
            "_view_module": "@jupyter-widgets/controls",
            "_view_module_version": "1.5.0",
            "_view_name": "HBoxView",
            "box_style": "",
            "children": [
              "IPY_MODEL_d8a325bab6614e77883c38fef02e4656",
              "IPY_MODEL_bc43aec051894367a4c7315a17de6f4f",
              "IPY_MODEL_3f05a146178f42c58649c3a982d52045"
            ],
            "layout": "IPY_MODEL_b25d92cb8a9e443cb65af8b757068c7f"
          }
        },
        "3e25d0dd5a004927a376e797c9eafa17": {
          "model_module": "@jupyter-widgets/base",
          "model_module_version": "1.2.0",
          "model_name": "LayoutModel",
          "state": {
            "_model_module": "@jupyter-widgets/base",
            "_model_module_version": "1.2.0",
            "_model_name": "LayoutModel",
            "_view_count": null,
            "_view_module": "@jupyter-widgets/base",
            "_view_module_version": "1.2.0",
            "_view_name": "LayoutView",
            "align_content": null,
            "align_items": null,
            "align_self": null,
            "border": null,
            "bottom": null,
            "display": null,
            "flex": null,
            "flex_flow": null,
            "grid_area": null,
            "grid_auto_columns": null,
            "grid_auto_flow": null,
            "grid_auto_rows": null,
            "grid_column": null,
            "grid_gap": null,
            "grid_row": null,
            "grid_template_areas": null,
            "grid_template_columns": null,
            "grid_template_rows": null,
            "height": null,
            "justify_content": null,
            "justify_items": null,
            "left": null,
            "margin": null,
            "max_height": null,
            "max_width": null,
            "min_height": null,
            "min_width": null,
            "object_fit": null,
            "object_position": null,
            "order": null,
            "overflow": null,
            "overflow_x": null,
            "overflow_y": null,
            "padding": null,
            "right": null,
            "top": null,
            "visibility": null,
            "width": null
          }
        },
        "3f05a146178f42c58649c3a982d52045": {
          "model_module": "@jupyter-widgets/controls",
          "model_module_version": "1.5.0",
          "model_name": "HTMLModel",
          "state": {
            "_dom_classes": [],
            "_model_module": "@jupyter-widgets/controls",
            "_model_module_version": "1.5.0",
            "_model_name": "HTMLModel",
            "_view_count": null,
            "_view_module": "@jupyter-widgets/controls",
            "_view_module_version": "1.5.0",
            "_view_name": "HTMLView",
            "description": "",
            "description_tooltip": null,
            "layout": "IPY_MODEL_8cce4df8034047789f602f6b85fe9aef",
            "placeholder": "​",
            "style": "IPY_MODEL_5c358226c8194d62bf48c46f33d52059",
            "value": " 1.53k/1.53k [00:00&lt;00:00, 115kB/s]"
          }
        },
        "413ecdd376bc4b5abfc5fbc85c4ca3f3": {
          "model_module": "@jupyter-widgets/base",
          "model_module_version": "1.2.0",
          "model_name": "LayoutModel",
          "state": {
            "_model_module": "@jupyter-widgets/base",
            "_model_module_version": "1.2.0",
            "_model_name": "LayoutModel",
            "_view_count": null,
            "_view_module": "@jupyter-widgets/base",
            "_view_module_version": "1.2.0",
            "_view_name": "LayoutView",
            "align_content": null,
            "align_items": null,
            "align_self": null,
            "border": null,
            "bottom": null,
            "display": null,
            "flex": null,
            "flex_flow": null,
            "grid_area": null,
            "grid_auto_columns": null,
            "grid_auto_flow": null,
            "grid_auto_rows": null,
            "grid_column": null,
            "grid_gap": null,
            "grid_row": null,
            "grid_template_areas": null,
            "grid_template_columns": null,
            "grid_template_rows": null,
            "height": null,
            "justify_content": null,
            "justify_items": null,
            "left": null,
            "margin": null,
            "max_height": null,
            "max_width": null,
            "min_height": null,
            "min_width": null,
            "object_fit": null,
            "object_position": null,
            "order": null,
            "overflow": null,
            "overflow_x": null,
            "overflow_y": null,
            "padding": null,
            "right": null,
            "top": null,
            "visibility": null,
            "width": null
          }
        },
        "424262aa0ed54c7fa213ef12d7ae2f75": {
          "model_module": "@jupyter-widgets/base",
          "model_module_version": "1.2.0",
          "model_name": "LayoutModel",
          "state": {
            "_model_module": "@jupyter-widgets/base",
            "_model_module_version": "1.2.0",
            "_model_name": "LayoutModel",
            "_view_count": null,
            "_view_module": "@jupyter-widgets/base",
            "_view_module_version": "1.2.0",
            "_view_name": "LayoutView",
            "align_content": null,
            "align_items": null,
            "align_self": null,
            "border": null,
            "bottom": null,
            "display": null,
            "flex": null,
            "flex_flow": null,
            "grid_area": null,
            "grid_auto_columns": null,
            "grid_auto_flow": null,
            "grid_auto_rows": null,
            "grid_column": null,
            "grid_gap": null,
            "grid_row": null,
            "grid_template_areas": null,
            "grid_template_columns": null,
            "grid_template_rows": null,
            "height": null,
            "justify_content": null,
            "justify_items": null,
            "left": null,
            "margin": null,
            "max_height": null,
            "max_width": null,
            "min_height": null,
            "min_width": null,
            "object_fit": null,
            "object_position": null,
            "order": null,
            "overflow": null,
            "overflow_x": null,
            "overflow_y": null,
            "padding": null,
            "right": null,
            "top": null,
            "visibility": null,
            "width": null
          }
        },
        "44e8b97b6fc64a3eb1b7a6048e3d62c7": {
          "model_module": "@jupyter-widgets/controls",
          "model_module_version": "1.5.0",
          "model_name": "HTMLModel",
          "state": {
            "_dom_classes": [],
            "_model_module": "@jupyter-widgets/controls",
            "_model_module_version": "1.5.0",
            "_model_name": "HTMLModel",
            "_view_count": null,
            "_view_module": "@jupyter-widgets/controls",
            "_view_module_version": "1.5.0",
            "_view_name": "HTMLView",
            "description": "",
            "description_tooltip": null,
            "layout": "IPY_MODEL_f97cfe8032584634898fbed24daa01ad",
            "placeholder": "​",
            "style": "IPY_MODEL_8edc9daef6114c879b0d833271ef83ae",
            "value": "100%"
          }
        },
        "45cfad50a7534f9891ca77129a52c7cf": {
          "model_module": "@jupyter-widgets/base",
          "model_module_version": "1.2.0",
          "model_name": "LayoutModel",
          "state": {
            "_model_module": "@jupyter-widgets/base",
            "_model_module_version": "1.2.0",
            "_model_name": "LayoutModel",
            "_view_count": null,
            "_view_module": "@jupyter-widgets/base",
            "_view_module_version": "1.2.0",
            "_view_name": "LayoutView",
            "align_content": null,
            "align_items": null,
            "align_self": null,
            "border": null,
            "bottom": null,
            "display": null,
            "flex": null,
            "flex_flow": null,
            "grid_area": null,
            "grid_auto_columns": null,
            "grid_auto_flow": null,
            "grid_auto_rows": null,
            "grid_column": null,
            "grid_gap": null,
            "grid_row": null,
            "grid_template_areas": null,
            "grid_template_columns": null,
            "grid_template_rows": null,
            "height": null,
            "justify_content": null,
            "justify_items": null,
            "left": null,
            "margin": null,
            "max_height": null,
            "max_width": null,
            "min_height": null,
            "min_width": null,
            "object_fit": null,
            "object_position": null,
            "order": null,
            "overflow": null,
            "overflow_x": null,
            "overflow_y": null,
            "padding": null,
            "right": null,
            "top": null,
            "visibility": null,
            "width": null
          }
        },
        "46937658297e4dbf9a69f0d69e4b9264": {
          "model_module": "@jupyter-widgets/controls",
          "model_module_version": "1.5.0",
          "model_name": "DescriptionStyleModel",
          "state": {
            "_model_module": "@jupyter-widgets/controls",
            "_model_module_version": "1.5.0",
            "_model_name": "DescriptionStyleModel",
            "_view_count": null,
            "_view_module": "@jupyter-widgets/base",
            "_view_module_version": "1.2.0",
            "_view_name": "StyleView",
            "description_width": ""
          }
        },
        "47ecd3e321e94677a442719041c6b913": {
          "model_module": "@jupyter-widgets/controls",
          "model_module_version": "1.5.0",
          "model_name": "HTMLModel",
          "state": {
            "_dom_classes": [],
            "_model_module": "@jupyter-widgets/controls",
            "_model_module_version": "1.5.0",
            "_model_name": "HTMLModel",
            "_view_count": null,
            "_view_module": "@jupyter-widgets/controls",
            "_view_module_version": "1.5.0",
            "_view_name": "HTMLView",
            "description": "",
            "description_tooltip": null,
            "layout": "IPY_MODEL_89d97e9b522d4c8db350677cc80aa245",
            "placeholder": "​",
            "style": "IPY_MODEL_b5cf75d6feb04c409102d916e5df0d08",
            "value": " 2.00/2.00 [00:00&lt;00:00, 146B/s]"
          }
        },
        "4854d681b2b849bd918362dba9916c04": {
          "model_module": "@jupyter-widgets/controls",
          "model_module_version": "1.5.0",
          "model_name": "HBoxModel",
          "state": {
            "_dom_classes": [],
            "_model_module": "@jupyter-widgets/controls",
            "_model_module_version": "1.5.0",
            "_model_name": "HBoxModel",
            "_view_count": null,
            "_view_module": "@jupyter-widgets/controls",
            "_view_module_version": "1.5.0",
            "_view_name": "HBoxView",
            "box_style": "",
            "children": [
              "IPY_MODEL_b89fd476be0c4b7cb5bc959f55dcab44",
              "IPY_MODEL_092736b0af4d45ce9a031f5b6f887d18",
              "IPY_MODEL_fce894df3dc14b6983ff2869fe11bc49"
            ],
            "layout": "IPY_MODEL_3203a3ceaf7043fc8b8538319dec6510"
          }
        },
        "4a8b686a04fc4b1a80d49c76916d1112": {
          "model_module": "@jupyter-widgets/controls",
          "model_module_version": "1.5.0",
          "model_name": "DescriptionStyleModel",
          "state": {
            "_model_module": "@jupyter-widgets/controls",
            "_model_module_version": "1.5.0",
            "_model_name": "DescriptionStyleModel",
            "_view_count": null,
            "_view_module": "@jupyter-widgets/base",
            "_view_module_version": "1.2.0",
            "_view_name": "StyleView",
            "description_width": ""
          }
        },
        "4be14b6c06484e81b27ff6037e0cf6d6": {
          "model_module": "@jupyter-widgets/controls",
          "model_module_version": "1.5.0",
          "model_name": "HBoxModel",
          "state": {
            "_dom_classes": [],
            "_model_module": "@jupyter-widgets/controls",
            "_model_module_version": "1.5.0",
            "_model_name": "HBoxModel",
            "_view_count": null,
            "_view_module": "@jupyter-widgets/controls",
            "_view_module_version": "1.5.0",
            "_view_name": "HBoxView",
            "box_style": "",
            "children": [
              "IPY_MODEL_2b4497ae837f4a189eb6d4417ad89e75",
              "IPY_MODEL_dba9105655d2481792e3014e807c898b",
              "IPY_MODEL_266767b70836438e9bb88ee735630f32"
            ],
            "layout": "IPY_MODEL_a5b60caf3cd346b4b8f3e579491a9308"
          }
        },
        "4cf6cfe47c8b469fb3b7fae3194ad71a": {
          "model_module": "@jupyter-widgets/controls",
          "model_module_version": "1.5.0",
          "model_name": "DescriptionStyleModel",
          "state": {
            "_model_module": "@jupyter-widgets/controls",
            "_model_module_version": "1.5.0",
            "_model_name": "DescriptionStyleModel",
            "_view_count": null,
            "_view_module": "@jupyter-widgets/base",
            "_view_module_version": "1.2.0",
            "_view_name": "StyleView",
            "description_width": ""
          }
        },
        "53eeaa837ed14550ad5477d192dcf48e": {
          "model_module": "@jupyter-widgets/controls",
          "model_module_version": "1.5.0",
          "model_name": "DescriptionStyleModel",
          "state": {
            "_model_module": "@jupyter-widgets/controls",
            "_model_module_version": "1.5.0",
            "_model_name": "DescriptionStyleModel",
            "_view_count": null,
            "_view_module": "@jupyter-widgets/base",
            "_view_module_version": "1.2.0",
            "_view_name": "StyleView",
            "description_width": ""
          }
        },
        "5c358226c8194d62bf48c46f33d52059": {
          "model_module": "@jupyter-widgets/controls",
          "model_module_version": "1.5.0",
          "model_name": "DescriptionStyleModel",
          "state": {
            "_model_module": "@jupyter-widgets/controls",
            "_model_module_version": "1.5.0",
            "_model_name": "DescriptionStyleModel",
            "_view_count": null,
            "_view_module": "@jupyter-widgets/base",
            "_view_module_version": "1.2.0",
            "_view_name": "StyleView",
            "description_width": ""
          }
        },
        "5e48ebf08bc0496183a75b4885c3839e": {
          "model_module": "@jupyter-widgets/controls",
          "model_module_version": "1.5.0",
          "model_name": "HTMLModel",
          "state": {
            "_dom_classes": [],
            "_model_module": "@jupyter-widgets/controls",
            "_model_module_version": "1.5.0",
            "_model_name": "HTMLModel",
            "_view_count": null,
            "_view_module": "@jupyter-widgets/controls",
            "_view_module_version": "1.5.0",
            "_view_name": "HTMLView",
            "description": "",
            "description_tooltip": null,
            "layout": "IPY_MODEL_c735741be19a4a2c914cdbe6916264c5",
            "placeholder": "​",
            "style": "IPY_MODEL_117059a18edb465ca4b05cdf8b448168",
            "value": " 498M/498M [00:05&lt;00:00, 90.2MB/s]"
          }
        },
        "5fb0ab078eac4da0bb169dac9a3421ac": {
          "model_module": "@jupyter-widgets/controls",
          "model_module_version": "1.5.0",
          "model_name": "FloatProgressModel",
          "state": {
            "_dom_classes": [],
            "_model_module": "@jupyter-widgets/controls",
            "_model_module_version": "1.5.0",
            "_model_name": "FloatProgressModel",
            "_view_count": null,
            "_view_module": "@jupyter-widgets/controls",
            "_view_module_version": "1.5.0",
            "_view_name": "ProgressView",
            "bar_style": "success",
            "description": "",
            "description_tooltip": null,
            "layout": "IPY_MODEL_75a8f7c95bcb4aa481d85ac24e1f7691",
            "max": 112,
            "min": 0,
            "orientation": "horizontal",
            "style": "IPY_MODEL_ec9884653da040d79c9ad509ab29c9b7",
            "value": 112
          }
        },
        "617372fb36f240c7a5474668b8a43f8e": {
          "model_module": "@jupyter-widgets/controls",
          "model_module_version": "1.5.0",
          "model_name": "HBoxModel",
          "state": {
            "_dom_classes": [],
            "_model_module": "@jupyter-widgets/controls",
            "_model_module_version": "1.5.0",
            "_model_name": "HBoxModel",
            "_view_count": null,
            "_view_module": "@jupyter-widgets/controls",
            "_view_module_version": "1.5.0",
            "_view_name": "HBoxView",
            "box_style": "",
            "children": [
              "IPY_MODEL_7d468ecd579a46689b96703fe095fa11",
              "IPY_MODEL_83fdf8d2e3964557abf41017523f6399",
              "IPY_MODEL_5e48ebf08bc0496183a75b4885c3839e"
            ],
            "layout": "IPY_MODEL_d43a0c483f074a77ad860dd4bbe5304b"
          }
        },
        "61f1a6c67f7d4c4897bd566285fe9fb8": {
          "model_module": "@jupyter-widgets/controls",
          "model_module_version": "1.5.0",
          "model_name": "HTMLModel",
          "state": {
            "_dom_classes": [],
            "_model_module": "@jupyter-widgets/controls",
            "_model_module_version": "1.5.0",
            "_model_name": "HTMLModel",
            "_view_count": null,
            "_view_module": "@jupyter-widgets/controls",
            "_view_module_version": "1.5.0",
            "_view_name": "HTMLView",
            "description": "",
            "description_tooltip": null,
            "layout": "IPY_MODEL_2272dc775f7e4d4b9bf0f204e22abccb",
            "placeholder": "​",
            "style": "IPY_MODEL_c205363c85214652917ebbbe3e11e195",
            "value": "100%"
          }
        },
        "681cb8d346a246a9aadecbd4a05f9b0c": {
          "model_module": "@jupyter-widgets/base",
          "model_module_version": "1.2.0",
          "model_name": "LayoutModel",
          "state": {
            "_model_module": "@jupyter-widgets/base",
            "_model_module_version": "1.2.0",
            "_model_name": "LayoutModel",
            "_view_count": null,
            "_view_module": "@jupyter-widgets/base",
            "_view_module_version": "1.2.0",
            "_view_name": "LayoutView",
            "align_content": null,
            "align_items": null,
            "align_self": null,
            "border": null,
            "bottom": null,
            "display": null,
            "flex": null,
            "flex_flow": null,
            "grid_area": null,
            "grid_auto_columns": null,
            "grid_auto_flow": null,
            "grid_auto_rows": null,
            "grid_column": null,
            "grid_gap": null,
            "grid_row": null,
            "grid_template_areas": null,
            "grid_template_columns": null,
            "grid_template_rows": null,
            "height": null,
            "justify_content": null,
            "justify_items": null,
            "left": null,
            "margin": null,
            "max_height": null,
            "max_width": null,
            "min_height": null,
            "min_width": null,
            "object_fit": null,
            "object_position": null,
            "order": null,
            "overflow": null,
            "overflow_x": null,
            "overflow_y": null,
            "padding": null,
            "right": null,
            "top": null,
            "visibility": null,
            "width": null
          }
        },
        "6acb7615380e42b190e9994fc283a4db": {
          "model_module": "@jupyter-widgets/controls",
          "model_module_version": "1.5.0",
          "model_name": "ProgressStyleModel",
          "state": {
            "_model_module": "@jupyter-widgets/controls",
            "_model_module_version": "1.5.0",
            "_model_name": "ProgressStyleModel",
            "_view_count": null,
            "_view_module": "@jupyter-widgets/base",
            "_view_module_version": "1.2.0",
            "_view_name": "StyleView",
            "bar_color": null,
            "description_width": ""
          }
        },
        "7463fad492e1493aa5f7cf068e9daf55": {
          "model_module": "@jupyter-widgets/controls",
          "model_module_version": "1.5.0",
          "model_name": "DescriptionStyleModel",
          "state": {
            "_model_module": "@jupyter-widgets/controls",
            "_model_module_version": "1.5.0",
            "_model_name": "DescriptionStyleModel",
            "_view_count": null,
            "_view_module": "@jupyter-widgets/base",
            "_view_module_version": "1.2.0",
            "_view_name": "StyleView",
            "description_width": ""
          }
        },
        "75a8f7c95bcb4aa481d85ac24e1f7691": {
          "model_module": "@jupyter-widgets/base",
          "model_module_version": "1.2.0",
          "model_name": "LayoutModel",
          "state": {
            "_model_module": "@jupyter-widgets/base",
            "_model_module_version": "1.2.0",
            "_model_name": "LayoutModel",
            "_view_count": null,
            "_view_module": "@jupyter-widgets/base",
            "_view_module_version": "1.2.0",
            "_view_name": "LayoutView",
            "align_content": null,
            "align_items": null,
            "align_self": null,
            "border": null,
            "bottom": null,
            "display": null,
            "flex": null,
            "flex_flow": null,
            "grid_area": null,
            "grid_auto_columns": null,
            "grid_auto_flow": null,
            "grid_auto_rows": null,
            "grid_column": null,
            "grid_gap": null,
            "grid_row": null,
            "grid_template_areas": null,
            "grid_template_columns": null,
            "grid_template_rows": null,
            "height": null,
            "justify_content": null,
            "justify_items": null,
            "left": null,
            "margin": null,
            "max_height": null,
            "max_width": null,
            "min_height": null,
            "min_width": null,
            "object_fit": null,
            "object_position": null,
            "order": null,
            "overflow": null,
            "overflow_x": null,
            "overflow_y": null,
            "padding": null,
            "right": null,
            "top": null,
            "visibility": null,
            "width": null
          }
        },
        "777cabbb85c743d8b3652fbeb5e10b9b": {
          "model_module": "@jupyter-widgets/base",
          "model_module_version": "1.2.0",
          "model_name": "LayoutModel",
          "state": {
            "_model_module": "@jupyter-widgets/base",
            "_model_module_version": "1.2.0",
            "_model_name": "LayoutModel",
            "_view_count": null,
            "_view_module": "@jupyter-widgets/base",
            "_view_module_version": "1.2.0",
            "_view_name": "LayoutView",
            "align_content": null,
            "align_items": null,
            "align_self": null,
            "border": null,
            "bottom": null,
            "display": null,
            "flex": null,
            "flex_flow": null,
            "grid_area": null,
            "grid_auto_columns": null,
            "grid_auto_flow": null,
            "grid_auto_rows": null,
            "grid_column": null,
            "grid_gap": null,
            "grid_row": null,
            "grid_template_areas": null,
            "grid_template_columns": null,
            "grid_template_rows": null,
            "height": null,
            "justify_content": null,
            "justify_items": null,
            "left": null,
            "margin": null,
            "max_height": null,
            "max_width": null,
            "min_height": null,
            "min_width": null,
            "object_fit": null,
            "object_position": null,
            "order": null,
            "overflow": null,
            "overflow_x": null,
            "overflow_y": null,
            "padding": null,
            "right": null,
            "top": null,
            "visibility": null,
            "width": null
          }
        },
        "78037e0c74704367b93f7efdb08e809c": {
          "model_module": "@jupyter-widgets/controls",
          "model_module_version": "1.5.0",
          "model_name": "HBoxModel",
          "state": {
            "_dom_classes": [],
            "_model_module": "@jupyter-widgets/controls",
            "_model_module_version": "1.5.0",
            "_model_name": "HBoxModel",
            "_view_count": null,
            "_view_module": "@jupyter-widgets/controls",
            "_view_module_version": "1.5.0",
            "_view_name": "HBoxView",
            "box_style": "",
            "children": [
              "IPY_MODEL_e9a54168ba30484bb60129af6e5f8e87",
              "IPY_MODEL_5fb0ab078eac4da0bb169dac9a3421ac",
              "IPY_MODEL_f9d423a6571b4e1a9f2e18a0eef05339"
            ],
            "layout": "IPY_MODEL_bc746a33ca564728a6662fd29a19d6ba"
          }
        },
        "79df2c79c2d24476b93559a3184e6185": {
          "model_module": "@jupyter-widgets/controls",
          "model_module_version": "1.5.0",
          "model_name": "DescriptionStyleModel",
          "state": {
            "_model_module": "@jupyter-widgets/controls",
            "_model_module_version": "1.5.0",
            "_model_name": "DescriptionStyleModel",
            "_view_count": null,
            "_view_module": "@jupyter-widgets/base",
            "_view_module_version": "1.2.0",
            "_view_name": "StyleView",
            "description_width": ""
          }
        },
        "7a0132d8c1e54856adcc82c2b710cae5": {
          "model_module": "@jupyter-widgets/controls",
          "model_module_version": "1.5.0",
          "model_name": "HBoxModel",
          "state": {
            "_dom_classes": [],
            "_model_module": "@jupyter-widgets/controls",
            "_model_module_version": "1.5.0",
            "_model_name": "HBoxModel",
            "_view_count": null,
            "_view_module": "@jupyter-widgets/controls",
            "_view_module_version": "1.5.0",
            "_view_name": "HBoxView",
            "box_style": "",
            "children": [
              "IPY_MODEL_30b72c6bc37747e6934e8f98f0f7c7a7",
              "IPY_MODEL_f88ce177b8024f00a7bf4daad9cfa483",
              "IPY_MODEL_e8f67ac6409f4841ae0cbff5129bba9e"
            ],
            "layout": "IPY_MODEL_31a85698b94549d19cee9c590fa24abd"
          }
        },
        "7a4b69438fe84515948db771608fb835": {
          "model_module": "@jupyter-widgets/base",
          "model_module_version": "1.2.0",
          "model_name": "LayoutModel",
          "state": {
            "_model_module": "@jupyter-widgets/base",
            "_model_module_version": "1.2.0",
            "_model_name": "LayoutModel",
            "_view_count": null,
            "_view_module": "@jupyter-widgets/base",
            "_view_module_version": "1.2.0",
            "_view_name": "LayoutView",
            "align_content": null,
            "align_items": null,
            "align_self": null,
            "border": null,
            "bottom": null,
            "display": null,
            "flex": null,
            "flex_flow": null,
            "grid_area": null,
            "grid_auto_columns": null,
            "grid_auto_flow": null,
            "grid_auto_rows": null,
            "grid_column": null,
            "grid_gap": null,
            "grid_row": null,
            "grid_template_areas": null,
            "grid_template_columns": null,
            "grid_template_rows": null,
            "height": null,
            "justify_content": null,
            "justify_items": null,
            "left": null,
            "margin": null,
            "max_height": null,
            "max_width": null,
            "min_height": null,
            "min_width": null,
            "object_fit": null,
            "object_position": null,
            "order": null,
            "overflow": null,
            "overflow_x": null,
            "overflow_y": null,
            "padding": null,
            "right": null,
            "top": null,
            "visibility": null,
            "width": null
          }
        },
        "7d468ecd579a46689b96703fe095fa11": {
          "model_module": "@jupyter-widgets/controls",
          "model_module_version": "1.5.0",
          "model_name": "HTMLModel",
          "state": {
            "_dom_classes": [],
            "_model_module": "@jupyter-widgets/controls",
            "_model_module_version": "1.5.0",
            "_model_name": "HTMLModel",
            "_view_count": null,
            "_view_module": "@jupyter-widgets/controls",
            "_view_module_version": "1.5.0",
            "_view_name": "HTMLView",
            "description": "",
            "description_tooltip": null,
            "layout": "IPY_MODEL_eeec3c6260434c42b02d86a7c28b3882",
            "placeholder": "​",
            "style": "IPY_MODEL_ace71e7265db453ead6ac08370a41a40",
            "value": "Downloading pytorch_model.bin: 100%"
          }
        },
        "803568e13366464d8ddc260136c148be": {
          "model_module": "@jupyter-widgets/base",
          "model_module_version": "1.2.0",
          "model_name": "LayoutModel",
          "state": {
            "_model_module": "@jupyter-widgets/base",
            "_model_module_version": "1.2.0",
            "_model_name": "LayoutModel",
            "_view_count": null,
            "_view_module": "@jupyter-widgets/base",
            "_view_module_version": "1.2.0",
            "_view_name": "LayoutView",
            "align_content": null,
            "align_items": null,
            "align_self": null,
            "border": null,
            "bottom": null,
            "display": null,
            "flex": null,
            "flex_flow": null,
            "grid_area": null,
            "grid_auto_columns": null,
            "grid_auto_flow": null,
            "grid_auto_rows": null,
            "grid_column": null,
            "grid_gap": null,
            "grid_row": null,
            "grid_template_areas": null,
            "grid_template_columns": null,
            "grid_template_rows": null,
            "height": null,
            "justify_content": null,
            "justify_items": null,
            "left": null,
            "margin": null,
            "max_height": null,
            "max_width": null,
            "min_height": null,
            "min_width": null,
            "object_fit": null,
            "object_position": null,
            "order": null,
            "overflow": null,
            "overflow_x": null,
            "overflow_y": null,
            "padding": null,
            "right": null,
            "top": null,
            "visibility": null,
            "width": null
          }
        },
        "83a8c323fa9941d397ba6a5615a99447": {
          "model_module": "@jupyter-widgets/base",
          "model_module_version": "1.2.0",
          "model_name": "LayoutModel",
          "state": {
            "_model_module": "@jupyter-widgets/base",
            "_model_module_version": "1.2.0",
            "_model_name": "LayoutModel",
            "_view_count": null,
            "_view_module": "@jupyter-widgets/base",
            "_view_module_version": "1.2.0",
            "_view_name": "LayoutView",
            "align_content": null,
            "align_items": null,
            "align_self": null,
            "border": null,
            "bottom": null,
            "display": null,
            "flex": null,
            "flex_flow": null,
            "grid_area": null,
            "grid_auto_columns": null,
            "grid_auto_flow": null,
            "grid_auto_rows": null,
            "grid_column": null,
            "grid_gap": null,
            "grid_row": null,
            "grid_template_areas": null,
            "grid_template_columns": null,
            "grid_template_rows": null,
            "height": null,
            "justify_content": null,
            "justify_items": null,
            "left": null,
            "margin": null,
            "max_height": null,
            "max_width": null,
            "min_height": null,
            "min_width": null,
            "object_fit": null,
            "object_position": null,
            "order": null,
            "overflow": null,
            "overflow_x": null,
            "overflow_y": null,
            "padding": null,
            "right": null,
            "top": null,
            "visibility": null,
            "width": null
          }
        },
        "83fdf8d2e3964557abf41017523f6399": {
          "model_module": "@jupyter-widgets/controls",
          "model_module_version": "1.5.0",
          "model_name": "FloatProgressModel",
          "state": {
            "_dom_classes": [],
            "_model_module": "@jupyter-widgets/controls",
            "_model_module_version": "1.5.0",
            "_model_name": "FloatProgressModel",
            "_view_count": null,
            "_view_module": "@jupyter-widgets/controls",
            "_view_module_version": "1.5.0",
            "_view_name": "ProgressView",
            "bar_style": "success",
            "description": "",
            "description_tooltip": null,
            "layout": "IPY_MODEL_19f9e4fcb78043baa7ed547aab4e608e",
            "max": 497810400,
            "min": 0,
            "orientation": "horizontal",
            "style": "IPY_MODEL_219e82fb165f483ea55b1271ffd4be47",
            "value": 497810400
          }
        },
        "87e428317bb8474fa11e6c37d5b75b40": {
          "model_module": "@jupyter-widgets/controls",
          "model_module_version": "1.5.0",
          "model_name": "DescriptionStyleModel",
          "state": {
            "_model_module": "@jupyter-widgets/controls",
            "_model_module_version": "1.5.0",
            "_model_name": "DescriptionStyleModel",
            "_view_count": null,
            "_view_module": "@jupyter-widgets/base",
            "_view_module_version": "1.2.0",
            "_view_name": "StyleView",
            "description_width": ""
          }
        },
        "89d97e9b522d4c8db350677cc80aa245": {
          "model_module": "@jupyter-widgets/base",
          "model_module_version": "1.2.0",
          "model_name": "LayoutModel",
          "state": {
            "_model_module": "@jupyter-widgets/base",
            "_model_module_version": "1.2.0",
            "_model_name": "LayoutModel",
            "_view_count": null,
            "_view_module": "@jupyter-widgets/base",
            "_view_module_version": "1.2.0",
            "_view_name": "LayoutView",
            "align_content": null,
            "align_items": null,
            "align_self": null,
            "border": null,
            "bottom": null,
            "display": null,
            "flex": null,
            "flex_flow": null,
            "grid_area": null,
            "grid_auto_columns": null,
            "grid_auto_flow": null,
            "grid_auto_rows": null,
            "grid_column": null,
            "grid_gap": null,
            "grid_row": null,
            "grid_template_areas": null,
            "grid_template_columns": null,
            "grid_template_rows": null,
            "height": null,
            "justify_content": null,
            "justify_items": null,
            "left": null,
            "margin": null,
            "max_height": null,
            "max_width": null,
            "min_height": null,
            "min_width": null,
            "object_fit": null,
            "object_position": null,
            "order": null,
            "overflow": null,
            "overflow_x": null,
            "overflow_y": null,
            "padding": null,
            "right": null,
            "top": null,
            "visibility": null,
            "width": null
          }
        },
        "8b4b19ed60994a02b7fa40390a70b777": {
          "model_module": "@jupyter-widgets/controls",
          "model_module_version": "1.5.0",
          "model_name": "DescriptionStyleModel",
          "state": {
            "_model_module": "@jupyter-widgets/controls",
            "_model_module_version": "1.5.0",
            "_model_name": "DescriptionStyleModel",
            "_view_count": null,
            "_view_module": "@jupyter-widgets/base",
            "_view_module_version": "1.2.0",
            "_view_name": "StyleView",
            "description_width": ""
          }
        },
        "8cce4df8034047789f602f6b85fe9aef": {
          "model_module": "@jupyter-widgets/base",
          "model_module_version": "1.2.0",
          "model_name": "LayoutModel",
          "state": {
            "_model_module": "@jupyter-widgets/base",
            "_model_module_version": "1.2.0",
            "_model_name": "LayoutModel",
            "_view_count": null,
            "_view_module": "@jupyter-widgets/base",
            "_view_module_version": "1.2.0",
            "_view_name": "LayoutView",
            "align_content": null,
            "align_items": null,
            "align_self": null,
            "border": null,
            "bottom": null,
            "display": null,
            "flex": null,
            "flex_flow": null,
            "grid_area": null,
            "grid_auto_columns": null,
            "grid_auto_flow": null,
            "grid_auto_rows": null,
            "grid_column": null,
            "grid_gap": null,
            "grid_row": null,
            "grid_template_areas": null,
            "grid_template_columns": null,
            "grid_template_rows": null,
            "height": null,
            "justify_content": null,
            "justify_items": null,
            "left": null,
            "margin": null,
            "max_height": null,
            "max_width": null,
            "min_height": null,
            "min_width": null,
            "object_fit": null,
            "object_position": null,
            "order": null,
            "overflow": null,
            "overflow_x": null,
            "overflow_y": null,
            "padding": null,
            "right": null,
            "top": null,
            "visibility": null,
            "width": null
          }
        },
        "8d7500252b14467989db6ccf5b1da866": {
          "model_module": "@jupyter-widgets/base",
          "model_module_version": "1.2.0",
          "model_name": "LayoutModel",
          "state": {
            "_model_module": "@jupyter-widgets/base",
            "_model_module_version": "1.2.0",
            "_model_name": "LayoutModel",
            "_view_count": null,
            "_view_module": "@jupyter-widgets/base",
            "_view_module_version": "1.2.0",
            "_view_name": "LayoutView",
            "align_content": null,
            "align_items": null,
            "align_self": null,
            "border": null,
            "bottom": null,
            "display": null,
            "flex": null,
            "flex_flow": null,
            "grid_area": null,
            "grid_auto_columns": null,
            "grid_auto_flow": null,
            "grid_auto_rows": null,
            "grid_column": null,
            "grid_gap": null,
            "grid_row": null,
            "grid_template_areas": null,
            "grid_template_columns": null,
            "grid_template_rows": null,
            "height": null,
            "justify_content": null,
            "justify_items": null,
            "left": null,
            "margin": null,
            "max_height": null,
            "max_width": null,
            "min_height": null,
            "min_width": null,
            "object_fit": null,
            "object_position": null,
            "order": null,
            "overflow": null,
            "overflow_x": null,
            "overflow_y": null,
            "padding": null,
            "right": null,
            "top": null,
            "visibility": null,
            "width": null
          }
        },
        "8d8189b59b754115a24b0074738b2171": {
          "model_module": "@jupyter-widgets/controls",
          "model_module_version": "1.5.0",
          "model_name": "FloatProgressModel",
          "state": {
            "_dom_classes": [],
            "_model_module": "@jupyter-widgets/controls",
            "_model_module_version": "1.5.0",
            "_model_name": "FloatProgressModel",
            "_view_count": null,
            "_view_module": "@jupyter-widgets/controls",
            "_view_module_version": "1.5.0",
            "_view_name": "ProgressView",
            "bar_style": "success",
            "description": "",
            "description_tooltip": null,
            "layout": "IPY_MODEL_8d7500252b14467989db6ccf5b1da866",
            "max": 1,
            "min": 0,
            "orientation": "horizontal",
            "style": "IPY_MODEL_cdec5538187b45e8a38f14933f0e152a",
            "value": 1
          }
        },
        "8edc9daef6114c879b0d833271ef83ae": {
          "model_module": "@jupyter-widgets/controls",
          "model_module_version": "1.5.0",
          "model_name": "DescriptionStyleModel",
          "state": {
            "_model_module": "@jupyter-widgets/controls",
            "_model_module_version": "1.5.0",
            "_model_name": "DescriptionStyleModel",
            "_view_count": null,
            "_view_module": "@jupyter-widgets/base",
            "_view_module_version": "1.2.0",
            "_view_name": "StyleView",
            "description_width": ""
          }
        },
        "94023189ea1642a9b39d03bcbdd4082e": {
          "model_module": "@jupyter-widgets/controls",
          "model_module_version": "1.5.0",
          "model_name": "ProgressStyleModel",
          "state": {
            "_model_module": "@jupyter-widgets/controls",
            "_model_module_version": "1.5.0",
            "_model_name": "ProgressStyleModel",
            "_view_count": null,
            "_view_module": "@jupyter-widgets/base",
            "_view_module_version": "1.2.0",
            "_view_name": "StyleView",
            "bar_color": null,
            "description_width": ""
          }
        },
        "98455ed7736242f48f9fc1dd1bed7708": {
          "model_module": "@jupyter-widgets/base",
          "model_module_version": "1.2.0",
          "model_name": "LayoutModel",
          "state": {
            "_model_module": "@jupyter-widgets/base",
            "_model_module_version": "1.2.0",
            "_model_name": "LayoutModel",
            "_view_count": null,
            "_view_module": "@jupyter-widgets/base",
            "_view_module_version": "1.2.0",
            "_view_name": "LayoutView",
            "align_content": null,
            "align_items": null,
            "align_self": null,
            "border": null,
            "bottom": null,
            "display": null,
            "flex": null,
            "flex_flow": null,
            "grid_area": null,
            "grid_auto_columns": null,
            "grid_auto_flow": null,
            "grid_auto_rows": null,
            "grid_column": null,
            "grid_gap": null,
            "grid_row": null,
            "grid_template_areas": null,
            "grid_template_columns": null,
            "grid_template_rows": null,
            "height": null,
            "justify_content": null,
            "justify_items": null,
            "left": null,
            "margin": null,
            "max_height": null,
            "max_width": null,
            "min_height": null,
            "min_width": null,
            "object_fit": null,
            "object_position": null,
            "order": null,
            "overflow": null,
            "overflow_x": null,
            "overflow_y": null,
            "padding": null,
            "right": null,
            "top": null,
            "visibility": null,
            "width": null
          }
        },
        "9c53316b470e4a138c152cbb15b21523": {
          "model_module": "@jupyter-widgets/controls",
          "model_module_version": "1.5.0",
          "model_name": "FloatProgressModel",
          "state": {
            "_dom_classes": [],
            "_model_module": "@jupyter-widgets/controls",
            "_model_module_version": "1.5.0",
            "_model_name": "FloatProgressModel",
            "_view_count": null,
            "_view_module": "@jupyter-widgets/controls",
            "_view_module_version": "1.5.0",
            "_view_name": "ProgressView",
            "bar_style": "success",
            "description": "",
            "description_tooltip": null,
            "layout": "IPY_MODEL_d62339a649c2461cac5197d6872f1648",
            "max": 2,
            "min": 0,
            "orientation": "horizontal",
            "style": "IPY_MODEL_b7f0c634b5ee4fe49c511ecc7a372e05",
            "value": 2
          }
        },
        "9f2ed717121c41998a555613cf337269": {
          "model_module": "@jupyter-widgets/controls",
          "model_module_version": "1.5.0",
          "model_name": "DescriptionStyleModel",
          "state": {
            "_model_module": "@jupyter-widgets/controls",
            "_model_module_version": "1.5.0",
            "_model_name": "DescriptionStyleModel",
            "_view_count": null,
            "_view_module": "@jupyter-widgets/base",
            "_view_module_version": "1.2.0",
            "_view_name": "StyleView",
            "description_width": ""
          }
        },
        "a2438f14cf124dbdba885b2a126c81da": {
          "model_module": "@jupyter-widgets/controls",
          "model_module_version": "1.5.0",
          "model_name": "HTMLModel",
          "state": {
            "_dom_classes": [],
            "_model_module": "@jupyter-widgets/controls",
            "_model_module_version": "1.5.0",
            "_model_name": "HTMLModel",
            "_view_count": null,
            "_view_module": "@jupyter-widgets/controls",
            "_view_module_version": "1.5.0",
            "_view_name": "HTMLView",
            "description": "",
            "description_tooltip": null,
            "layout": "IPY_MODEL_a899c085ae654d27857ab5a1f11b5aaf",
            "placeholder": "​",
            "style": "IPY_MODEL_79df2c79c2d24476b93559a3184e6185",
            "value": "100%"
          }
        },
        "a2774c7c14444dd08f8ace5a8dceaa0c": {
          "model_module": "@jupyter-widgets/base",
          "model_module_version": "1.2.0",
          "model_name": "LayoutModel",
          "state": {
            "_model_module": "@jupyter-widgets/base",
            "_model_module_version": "1.2.0",
            "_model_name": "LayoutModel",
            "_view_count": null,
            "_view_module": "@jupyter-widgets/base",
            "_view_module_version": "1.2.0",
            "_view_name": "LayoutView",
            "align_content": null,
            "align_items": null,
            "align_self": null,
            "border": null,
            "bottom": null,
            "display": null,
            "flex": null,
            "flex_flow": null,
            "grid_area": null,
            "grid_auto_columns": null,
            "grid_auto_flow": null,
            "grid_auto_rows": null,
            "grid_column": null,
            "grid_gap": null,
            "grid_row": null,
            "grid_template_areas": null,
            "grid_template_columns": null,
            "grid_template_rows": null,
            "height": null,
            "justify_content": null,
            "justify_items": null,
            "left": null,
            "margin": null,
            "max_height": null,
            "max_width": null,
            "min_height": null,
            "min_width": null,
            "object_fit": null,
            "object_position": null,
            "order": null,
            "overflow": null,
            "overflow_x": null,
            "overflow_y": null,
            "padding": null,
            "right": null,
            "top": null,
            "visibility": null,
            "width": null
          }
        },
        "a41468b407ca4424b871b1403223ea6e": {
          "model_module": "@jupyter-widgets/base",
          "model_module_version": "1.2.0",
          "model_name": "LayoutModel",
          "state": {
            "_model_module": "@jupyter-widgets/base",
            "_model_module_version": "1.2.0",
            "_model_name": "LayoutModel",
            "_view_count": null,
            "_view_module": "@jupyter-widgets/base",
            "_view_module_version": "1.2.0",
            "_view_name": "LayoutView",
            "align_content": null,
            "align_items": null,
            "align_self": null,
            "border": null,
            "bottom": null,
            "display": null,
            "flex": null,
            "flex_flow": null,
            "grid_area": null,
            "grid_auto_columns": null,
            "grid_auto_flow": null,
            "grid_auto_rows": null,
            "grid_column": null,
            "grid_gap": null,
            "grid_row": null,
            "grid_template_areas": null,
            "grid_template_columns": null,
            "grid_template_rows": null,
            "height": null,
            "justify_content": null,
            "justify_items": null,
            "left": null,
            "margin": null,
            "max_height": null,
            "max_width": null,
            "min_height": null,
            "min_width": null,
            "object_fit": null,
            "object_position": null,
            "order": null,
            "overflow": null,
            "overflow_x": null,
            "overflow_y": null,
            "padding": null,
            "right": null,
            "top": null,
            "visibility": null,
            "width": null
          }
        },
        "a5b60caf3cd346b4b8f3e579491a9308": {
          "model_module": "@jupyter-widgets/base",
          "model_module_version": "1.2.0",
          "model_name": "LayoutModel",
          "state": {
            "_model_module": "@jupyter-widgets/base",
            "_model_module_version": "1.2.0",
            "_model_name": "LayoutModel",
            "_view_count": null,
            "_view_module": "@jupyter-widgets/base",
            "_view_module_version": "1.2.0",
            "_view_name": "LayoutView",
            "align_content": null,
            "align_items": null,
            "align_self": null,
            "border": null,
            "bottom": null,
            "display": null,
            "flex": null,
            "flex_flow": null,
            "grid_area": null,
            "grid_auto_columns": null,
            "grid_auto_flow": null,
            "grid_auto_rows": null,
            "grid_column": null,
            "grid_gap": null,
            "grid_row": null,
            "grid_template_areas": null,
            "grid_template_columns": null,
            "grid_template_rows": null,
            "height": null,
            "justify_content": null,
            "justify_items": null,
            "left": null,
            "margin": null,
            "max_height": null,
            "max_width": null,
            "min_height": null,
            "min_width": null,
            "object_fit": null,
            "object_position": null,
            "order": null,
            "overflow": null,
            "overflow_x": null,
            "overflow_y": null,
            "padding": null,
            "right": null,
            "top": null,
            "visibility": null,
            "width": null
          }
        },
        "a8360485fb12492a9d84dbc156595ef0": {
          "model_module": "@jupyter-widgets/controls",
          "model_module_version": "1.5.0",
          "model_name": "HBoxModel",
          "state": {
            "_dom_classes": [],
            "_model_module": "@jupyter-widgets/controls",
            "_model_module_version": "1.5.0",
            "_model_name": "HBoxModel",
            "_view_count": null,
            "_view_module": "@jupyter-widgets/controls",
            "_view_module_version": "1.5.0",
            "_view_name": "HBoxView",
            "box_style": "",
            "children": [
              "IPY_MODEL_f1083e7a52254a3482d98bd4665b9964",
              "IPY_MODEL_8d8189b59b754115a24b0074738b2171",
              "IPY_MODEL_f98cb8d0e0bc4208bc7da5498f077168"
            ],
            "layout": "IPY_MODEL_a8921f27956249e59afdaef8f507e7e0"
          }
        },
        "a8921f27956249e59afdaef8f507e7e0": {
          "model_module": "@jupyter-widgets/base",
          "model_module_version": "1.2.0",
          "model_name": "LayoutModel",
          "state": {
            "_model_module": "@jupyter-widgets/base",
            "_model_module_version": "1.2.0",
            "_model_name": "LayoutModel",
            "_view_count": null,
            "_view_module": "@jupyter-widgets/base",
            "_view_module_version": "1.2.0",
            "_view_name": "LayoutView",
            "align_content": null,
            "align_items": null,
            "align_self": null,
            "border": null,
            "bottom": null,
            "display": null,
            "flex": null,
            "flex_flow": null,
            "grid_area": null,
            "grid_auto_columns": null,
            "grid_auto_flow": null,
            "grid_auto_rows": null,
            "grid_column": null,
            "grid_gap": null,
            "grid_row": null,
            "grid_template_areas": null,
            "grid_template_columns": null,
            "grid_template_rows": null,
            "height": null,
            "justify_content": null,
            "justify_items": null,
            "left": null,
            "margin": null,
            "max_height": null,
            "max_width": null,
            "min_height": null,
            "min_width": null,
            "object_fit": null,
            "object_position": null,
            "order": null,
            "overflow": null,
            "overflow_x": null,
            "overflow_y": null,
            "padding": null,
            "right": null,
            "top": null,
            "visibility": null,
            "width": null
          }
        },
        "a899c085ae654d27857ab5a1f11b5aaf": {
          "model_module": "@jupyter-widgets/base",
          "model_module_version": "1.2.0",
          "model_name": "LayoutModel",
          "state": {
            "_model_module": "@jupyter-widgets/base",
            "_model_module_version": "1.2.0",
            "_model_name": "LayoutModel",
            "_view_count": null,
            "_view_module": "@jupyter-widgets/base",
            "_view_module_version": "1.2.0",
            "_view_name": "LayoutView",
            "align_content": null,
            "align_items": null,
            "align_self": null,
            "border": null,
            "bottom": null,
            "display": null,
            "flex": null,
            "flex_flow": null,
            "grid_area": null,
            "grid_auto_columns": null,
            "grid_auto_flow": null,
            "grid_auto_rows": null,
            "grid_column": null,
            "grid_gap": null,
            "grid_row": null,
            "grid_template_areas": null,
            "grid_template_columns": null,
            "grid_template_rows": null,
            "height": null,
            "justify_content": null,
            "justify_items": null,
            "left": null,
            "margin": null,
            "max_height": null,
            "max_width": null,
            "min_height": null,
            "min_width": null,
            "object_fit": null,
            "object_position": null,
            "order": null,
            "overflow": null,
            "overflow_x": null,
            "overflow_y": null,
            "padding": null,
            "right": null,
            "top": null,
            "visibility": null,
            "width": null
          }
        },
        "a9a5f861d47d4c40bcef3a8cadb48a21": {
          "model_module": "@jupyter-widgets/base",
          "model_module_version": "1.2.0",
          "model_name": "LayoutModel",
          "state": {
            "_model_module": "@jupyter-widgets/base",
            "_model_module_version": "1.2.0",
            "_model_name": "LayoutModel",
            "_view_count": null,
            "_view_module": "@jupyter-widgets/base",
            "_view_module_version": "1.2.0",
            "_view_name": "LayoutView",
            "align_content": null,
            "align_items": null,
            "align_self": null,
            "border": null,
            "bottom": null,
            "display": null,
            "flex": null,
            "flex_flow": null,
            "grid_area": null,
            "grid_auto_columns": null,
            "grid_auto_flow": null,
            "grid_auto_rows": null,
            "grid_column": null,
            "grid_gap": null,
            "grid_row": null,
            "grid_template_areas": null,
            "grid_template_columns": null,
            "grid_template_rows": null,
            "height": null,
            "justify_content": null,
            "justify_items": null,
            "left": null,
            "margin": null,
            "max_height": null,
            "max_width": null,
            "min_height": null,
            "min_width": null,
            "object_fit": null,
            "object_position": null,
            "order": null,
            "overflow": null,
            "overflow_x": null,
            "overflow_y": null,
            "padding": null,
            "right": null,
            "top": null,
            "visibility": null,
            "width": null
          }
        },
        "abc89dab32f34e32a40f9853ce7f5c4e": {
          "model_module": "@jupyter-widgets/base",
          "model_module_version": "1.2.0",
          "model_name": "LayoutModel",
          "state": {
            "_model_module": "@jupyter-widgets/base",
            "_model_module_version": "1.2.0",
            "_model_name": "LayoutModel",
            "_view_count": null,
            "_view_module": "@jupyter-widgets/base",
            "_view_module_version": "1.2.0",
            "_view_name": "LayoutView",
            "align_content": null,
            "align_items": null,
            "align_self": null,
            "border": null,
            "bottom": null,
            "display": null,
            "flex": null,
            "flex_flow": null,
            "grid_area": null,
            "grid_auto_columns": null,
            "grid_auto_flow": null,
            "grid_auto_rows": null,
            "grid_column": null,
            "grid_gap": null,
            "grid_row": null,
            "grid_template_areas": null,
            "grid_template_columns": null,
            "grid_template_rows": null,
            "height": null,
            "justify_content": null,
            "justify_items": null,
            "left": null,
            "margin": null,
            "max_height": null,
            "max_width": null,
            "min_height": null,
            "min_width": null,
            "object_fit": null,
            "object_position": null,
            "order": null,
            "overflow": null,
            "overflow_x": null,
            "overflow_y": null,
            "padding": null,
            "right": null,
            "top": null,
            "visibility": null,
            "width": null
          }
        },
        "ace71e7265db453ead6ac08370a41a40": {
          "model_module": "@jupyter-widgets/controls",
          "model_module_version": "1.5.0",
          "model_name": "DescriptionStyleModel",
          "state": {
            "_model_module": "@jupyter-widgets/controls",
            "_model_module_version": "1.5.0",
            "_model_name": "DescriptionStyleModel",
            "_view_count": null,
            "_view_module": "@jupyter-widgets/base",
            "_view_module_version": "1.2.0",
            "_view_name": "StyleView",
            "description_width": ""
          }
        },
        "b25d92cb8a9e443cb65af8b757068c7f": {
          "model_module": "@jupyter-widgets/base",
          "model_module_version": "1.2.0",
          "model_name": "LayoutModel",
          "state": {
            "_model_module": "@jupyter-widgets/base",
            "_model_module_version": "1.2.0",
            "_model_name": "LayoutModel",
            "_view_count": null,
            "_view_module": "@jupyter-widgets/base",
            "_view_module_version": "1.2.0",
            "_view_name": "LayoutView",
            "align_content": null,
            "align_items": null,
            "align_self": null,
            "border": null,
            "bottom": null,
            "display": null,
            "flex": null,
            "flex_flow": null,
            "grid_area": null,
            "grid_auto_columns": null,
            "grid_auto_flow": null,
            "grid_auto_rows": null,
            "grid_column": null,
            "grid_gap": null,
            "grid_row": null,
            "grid_template_areas": null,
            "grid_template_columns": null,
            "grid_template_rows": null,
            "height": null,
            "justify_content": null,
            "justify_items": null,
            "left": null,
            "margin": null,
            "max_height": null,
            "max_width": null,
            "min_height": null,
            "min_width": null,
            "object_fit": null,
            "object_position": null,
            "order": null,
            "overflow": null,
            "overflow_x": null,
            "overflow_y": null,
            "padding": null,
            "right": null,
            "top": null,
            "visibility": null,
            "width": null
          }
        },
        "b36c125ec6d848b38a336d91fad4fcba": {
          "model_module": "@jupyter-widgets/controls",
          "model_module_version": "1.5.0",
          "model_name": "DescriptionStyleModel",
          "state": {
            "_model_module": "@jupyter-widgets/controls",
            "_model_module_version": "1.5.0",
            "_model_name": "DescriptionStyleModel",
            "_view_count": null,
            "_view_module": "@jupyter-widgets/base",
            "_view_module_version": "1.2.0",
            "_view_name": "StyleView",
            "description_width": ""
          }
        },
        "b52d51b751414c878f1dd9ee63b6c2d5": {
          "model_module": "@jupyter-widgets/base",
          "model_module_version": "1.2.0",
          "model_name": "LayoutModel",
          "state": {
            "_model_module": "@jupyter-widgets/base",
            "_model_module_version": "1.2.0",
            "_model_name": "LayoutModel",
            "_view_count": null,
            "_view_module": "@jupyter-widgets/base",
            "_view_module_version": "1.2.0",
            "_view_name": "LayoutView",
            "align_content": null,
            "align_items": null,
            "align_self": null,
            "border": null,
            "bottom": null,
            "display": null,
            "flex": null,
            "flex_flow": null,
            "grid_area": null,
            "grid_auto_columns": null,
            "grid_auto_flow": null,
            "grid_auto_rows": null,
            "grid_column": null,
            "grid_gap": null,
            "grid_row": null,
            "grid_template_areas": null,
            "grid_template_columns": null,
            "grid_template_rows": null,
            "height": null,
            "justify_content": null,
            "justify_items": null,
            "left": null,
            "margin": null,
            "max_height": null,
            "max_width": null,
            "min_height": null,
            "min_width": null,
            "object_fit": null,
            "object_position": null,
            "order": null,
            "overflow": null,
            "overflow_x": null,
            "overflow_y": null,
            "padding": null,
            "right": null,
            "top": null,
            "visibility": null,
            "width": null
          }
        },
        "b5cf75d6feb04c409102d916e5df0d08": {
          "model_module": "@jupyter-widgets/controls",
          "model_module_version": "1.5.0",
          "model_name": "DescriptionStyleModel",
          "state": {
            "_model_module": "@jupyter-widgets/controls",
            "_model_module_version": "1.5.0",
            "_model_name": "DescriptionStyleModel",
            "_view_count": null,
            "_view_module": "@jupyter-widgets/base",
            "_view_module_version": "1.2.0",
            "_view_name": "StyleView",
            "description_width": ""
          }
        },
        "b7f0c634b5ee4fe49c511ecc7a372e05": {
          "model_module": "@jupyter-widgets/controls",
          "model_module_version": "1.5.0",
          "model_name": "ProgressStyleModel",
          "state": {
            "_model_module": "@jupyter-widgets/controls",
            "_model_module_version": "1.5.0",
            "_model_name": "ProgressStyleModel",
            "_view_count": null,
            "_view_module": "@jupyter-widgets/base",
            "_view_module_version": "1.2.0",
            "_view_name": "StyleView",
            "bar_color": null,
            "description_width": ""
          }
        },
        "b880c330a2e7493c95bf615cb9d3d637": {
          "model_module": "@jupyter-widgets/controls",
          "model_module_version": "1.5.0",
          "model_name": "HBoxModel",
          "state": {
            "_dom_classes": [],
            "_model_module": "@jupyter-widgets/controls",
            "_model_module_version": "1.5.0",
            "_model_name": "HBoxModel",
            "_view_count": null,
            "_view_module": "@jupyter-widgets/controls",
            "_view_module_version": "1.5.0",
            "_view_name": "HBoxView",
            "box_style": "",
            "children": [
              "IPY_MODEL_2f82a20b247449daa4022d8dd53d191a",
              "IPY_MODEL_9c53316b470e4a138c152cbb15b21523",
              "IPY_MODEL_47ecd3e321e94677a442719041c6b913"
            ],
            "layout": "IPY_MODEL_98455ed7736242f48f9fc1dd1bed7708"
          }
        },
        "b89fd476be0c4b7cb5bc959f55dcab44": {
          "model_module": "@jupyter-widgets/controls",
          "model_module_version": "1.5.0",
          "model_name": "HTMLModel",
          "state": {
            "_dom_classes": [],
            "_model_module": "@jupyter-widgets/controls",
            "_model_module_version": "1.5.0",
            "_model_name": "HTMLModel",
            "_view_count": null,
            "_view_module": "@jupyter-widgets/controls",
            "_view_module_version": "1.5.0",
            "_view_name": "HTMLView",
            "description": "",
            "description_tooltip": null,
            "layout": "IPY_MODEL_abc89dab32f34e32a40f9853ce7f5c4e",
            "placeholder": "​",
            "style": "IPY_MODEL_e914ea1726314c48982a4df651f55612",
            "value": "100%"
          }
        },
        "b99ee10431d44f559a99a2c01c383dfc": {
          "model_module": "@jupyter-widgets/controls",
          "model_module_version": "1.5.0",
          "model_name": "HBoxModel",
          "state": {
            "_dom_classes": [],
            "_model_module": "@jupyter-widgets/controls",
            "_model_module_version": "1.5.0",
            "_model_name": "HBoxModel",
            "_view_count": null,
            "_view_module": "@jupyter-widgets/controls",
            "_view_module_version": "1.5.0",
            "_view_name": "HBoxView",
            "box_style": "",
            "children": [
              "IPY_MODEL_44e8b97b6fc64a3eb1b7a6048e3d62c7",
              "IPY_MODEL_e9b5813fa1764b7f99995699fad565cf",
              "IPY_MODEL_e46de8ce3a924f6786f98724f22e4d24"
            ],
            "layout": "IPY_MODEL_e58d75bb53274612bc99fdea920ef4ce"
          }
        },
        "bc43aec051894367a4c7315a17de6f4f": {
          "model_module": "@jupyter-widgets/controls",
          "model_module_version": "1.5.0",
          "model_name": "FloatProgressModel",
          "state": {
            "_dom_classes": [],
            "_model_module": "@jupyter-widgets/controls",
            "_model_module_version": "1.5.0",
            "_model_name": "FloatProgressModel",
            "_view_count": null,
            "_view_module": "@jupyter-widgets/controls",
            "_view_module_version": "1.5.0",
            "_view_name": "ProgressView",
            "bar_style": "success",
            "description": "",
            "description_tooltip": null,
            "layout": "IPY_MODEL_de434a0f836449d98d2e658088484137",
            "max": 1534,
            "min": 0,
            "orientation": "horizontal",
            "style": "IPY_MODEL_94023189ea1642a9b39d03bcbdd4082e",
            "value": 1534
          }
        },
        "bc746a33ca564728a6662fd29a19d6ba": {
          "model_module": "@jupyter-widgets/base",
          "model_module_version": "1.2.0",
          "model_name": "LayoutModel",
          "state": {
            "_model_module": "@jupyter-widgets/base",
            "_model_module_version": "1.2.0",
            "_model_name": "LayoutModel",
            "_view_count": null,
            "_view_module": "@jupyter-widgets/base",
            "_view_module_version": "1.2.0",
            "_view_name": "LayoutView",
            "align_content": null,
            "align_items": null,
            "align_self": null,
            "border": null,
            "bottom": null,
            "display": null,
            "flex": null,
            "flex_flow": null,
            "grid_area": null,
            "grid_auto_columns": null,
            "grid_auto_flow": null,
            "grid_auto_rows": null,
            "grid_column": null,
            "grid_gap": null,
            "grid_row": null,
            "grid_template_areas": null,
            "grid_template_columns": null,
            "grid_template_rows": null,
            "height": null,
            "justify_content": null,
            "justify_items": null,
            "left": null,
            "margin": null,
            "max_height": null,
            "max_width": null,
            "min_height": null,
            "min_width": null,
            "object_fit": null,
            "object_position": null,
            "order": null,
            "overflow": null,
            "overflow_x": null,
            "overflow_y": null,
            "padding": null,
            "right": null,
            "top": null,
            "visibility": null,
            "width": null
          }
        },
        "bd116334d76e4852a431a66256a78529": {
          "model_module": "@jupyter-widgets/base",
          "model_module_version": "1.2.0",
          "model_name": "LayoutModel",
          "state": {
            "_model_module": "@jupyter-widgets/base",
            "_model_module_version": "1.2.0",
            "_model_name": "LayoutModel",
            "_view_count": null,
            "_view_module": "@jupyter-widgets/base",
            "_view_module_version": "1.2.0",
            "_view_name": "LayoutView",
            "align_content": null,
            "align_items": null,
            "align_self": null,
            "border": null,
            "bottom": null,
            "display": null,
            "flex": null,
            "flex_flow": null,
            "grid_area": null,
            "grid_auto_columns": null,
            "grid_auto_flow": null,
            "grid_auto_rows": null,
            "grid_column": null,
            "grid_gap": null,
            "grid_row": null,
            "grid_template_areas": null,
            "grid_template_columns": null,
            "grid_template_rows": null,
            "height": null,
            "justify_content": null,
            "justify_items": null,
            "left": null,
            "margin": null,
            "max_height": null,
            "max_width": null,
            "min_height": null,
            "min_width": null,
            "object_fit": null,
            "object_position": null,
            "order": null,
            "overflow": null,
            "overflow_x": null,
            "overflow_y": null,
            "padding": null,
            "right": null,
            "top": null,
            "visibility": null,
            "width": null
          }
        },
        "bfe1bf9503174683b025854a9fbd6297": {
          "model_module": "@jupyter-widgets/base",
          "model_module_version": "1.2.0",
          "model_name": "LayoutModel",
          "state": {
            "_model_module": "@jupyter-widgets/base",
            "_model_module_version": "1.2.0",
            "_model_name": "LayoutModel",
            "_view_count": null,
            "_view_module": "@jupyter-widgets/base",
            "_view_module_version": "1.2.0",
            "_view_name": "LayoutView",
            "align_content": null,
            "align_items": null,
            "align_self": null,
            "border": null,
            "bottom": null,
            "display": null,
            "flex": null,
            "flex_flow": null,
            "grid_area": null,
            "grid_auto_columns": null,
            "grid_auto_flow": null,
            "grid_auto_rows": null,
            "grid_column": null,
            "grid_gap": null,
            "grid_row": null,
            "grid_template_areas": null,
            "grid_template_columns": null,
            "grid_template_rows": null,
            "height": null,
            "justify_content": null,
            "justify_items": null,
            "left": null,
            "margin": null,
            "max_height": null,
            "max_width": null,
            "min_height": null,
            "min_width": null,
            "object_fit": null,
            "object_position": null,
            "order": null,
            "overflow": null,
            "overflow_x": null,
            "overflow_y": null,
            "padding": null,
            "right": null,
            "top": null,
            "visibility": null,
            "width": null
          }
        },
        "c205363c85214652917ebbbe3e11e195": {
          "model_module": "@jupyter-widgets/controls",
          "model_module_version": "1.5.0",
          "model_name": "DescriptionStyleModel",
          "state": {
            "_model_module": "@jupyter-widgets/controls",
            "_model_module_version": "1.5.0",
            "_model_name": "DescriptionStyleModel",
            "_view_count": null,
            "_view_module": "@jupyter-widgets/base",
            "_view_module_version": "1.2.0",
            "_view_name": "StyleView",
            "description_width": ""
          }
        },
        "c735741be19a4a2c914cdbe6916264c5": {
          "model_module": "@jupyter-widgets/base",
          "model_module_version": "1.2.0",
          "model_name": "LayoutModel",
          "state": {
            "_model_module": "@jupyter-widgets/base",
            "_model_module_version": "1.2.0",
            "_model_name": "LayoutModel",
            "_view_count": null,
            "_view_module": "@jupyter-widgets/base",
            "_view_module_version": "1.2.0",
            "_view_name": "LayoutView",
            "align_content": null,
            "align_items": null,
            "align_self": null,
            "border": null,
            "bottom": null,
            "display": null,
            "flex": null,
            "flex_flow": null,
            "grid_area": null,
            "grid_auto_columns": null,
            "grid_auto_flow": null,
            "grid_auto_rows": null,
            "grid_column": null,
            "grid_gap": null,
            "grid_row": null,
            "grid_template_areas": null,
            "grid_template_columns": null,
            "grid_template_rows": null,
            "height": null,
            "justify_content": null,
            "justify_items": null,
            "left": null,
            "margin": null,
            "max_height": null,
            "max_width": null,
            "min_height": null,
            "min_width": null,
            "object_fit": null,
            "object_position": null,
            "order": null,
            "overflow": null,
            "overflow_x": null,
            "overflow_y": null,
            "padding": null,
            "right": null,
            "top": null,
            "visibility": null,
            "width": null
          }
        },
        "cdec5538187b45e8a38f14933f0e152a": {
          "model_module": "@jupyter-widgets/controls",
          "model_module_version": "1.5.0",
          "model_name": "ProgressStyleModel",
          "state": {
            "_model_module": "@jupyter-widgets/controls",
            "_model_module_version": "1.5.0",
            "_model_name": "ProgressStyleModel",
            "_view_count": null,
            "_view_module": "@jupyter-widgets/base",
            "_view_module_version": "1.2.0",
            "_view_name": "StyleView",
            "bar_color": null,
            "description_width": ""
          }
        },
        "d35eac9bd70f4daba5d6307b27c4e038": {
          "model_module": "@jupyter-widgets/controls",
          "model_module_version": "1.5.0",
          "model_name": "DescriptionStyleModel",
          "state": {
            "_model_module": "@jupyter-widgets/controls",
            "_model_module_version": "1.5.0",
            "_model_name": "DescriptionStyleModel",
            "_view_count": null,
            "_view_module": "@jupyter-widgets/base",
            "_view_module_version": "1.2.0",
            "_view_name": "StyleView",
            "description_width": ""
          }
        },
        "d43a0c483f074a77ad860dd4bbe5304b": {
          "model_module": "@jupyter-widgets/base",
          "model_module_version": "1.2.0",
          "model_name": "LayoutModel",
          "state": {
            "_model_module": "@jupyter-widgets/base",
            "_model_module_version": "1.2.0",
            "_model_name": "LayoutModel",
            "_view_count": null,
            "_view_module": "@jupyter-widgets/base",
            "_view_module_version": "1.2.0",
            "_view_name": "LayoutView",
            "align_content": null,
            "align_items": null,
            "align_self": null,
            "border": null,
            "bottom": null,
            "display": null,
            "flex": null,
            "flex_flow": null,
            "grid_area": null,
            "grid_auto_columns": null,
            "grid_auto_flow": null,
            "grid_auto_rows": null,
            "grid_column": null,
            "grid_gap": null,
            "grid_row": null,
            "grid_template_areas": null,
            "grid_template_columns": null,
            "grid_template_rows": null,
            "height": null,
            "justify_content": null,
            "justify_items": null,
            "left": null,
            "margin": null,
            "max_height": null,
            "max_width": null,
            "min_height": null,
            "min_width": null,
            "object_fit": null,
            "object_position": null,
            "order": null,
            "overflow": null,
            "overflow_x": null,
            "overflow_y": null,
            "padding": null,
            "right": null,
            "top": null,
            "visibility": null,
            "width": null
          }
        },
        "d62339a649c2461cac5197d6872f1648": {
          "model_module": "@jupyter-widgets/base",
          "model_module_version": "1.2.0",
          "model_name": "LayoutModel",
          "state": {
            "_model_module": "@jupyter-widgets/base",
            "_model_module_version": "1.2.0",
            "_model_name": "LayoutModel",
            "_view_count": null,
            "_view_module": "@jupyter-widgets/base",
            "_view_module_version": "1.2.0",
            "_view_name": "LayoutView",
            "align_content": null,
            "align_items": null,
            "align_self": null,
            "border": null,
            "bottom": null,
            "display": null,
            "flex": null,
            "flex_flow": null,
            "grid_area": null,
            "grid_auto_columns": null,
            "grid_auto_flow": null,
            "grid_auto_rows": null,
            "grid_column": null,
            "grid_gap": null,
            "grid_row": null,
            "grid_template_areas": null,
            "grid_template_columns": null,
            "grid_template_rows": null,
            "height": null,
            "justify_content": null,
            "justify_items": null,
            "left": null,
            "margin": null,
            "max_height": null,
            "max_width": null,
            "min_height": null,
            "min_width": null,
            "object_fit": null,
            "object_position": null,
            "order": null,
            "overflow": null,
            "overflow_x": null,
            "overflow_y": null,
            "padding": null,
            "right": null,
            "top": null,
            "visibility": null,
            "width": null
          }
        },
        "d8a325bab6614e77883c38fef02e4656": {
          "model_module": "@jupyter-widgets/controls",
          "model_module_version": "1.5.0",
          "model_name": "HTMLModel",
          "state": {
            "_dom_classes": [],
            "_model_module": "@jupyter-widgets/controls",
            "_model_module_version": "1.5.0",
            "_model_name": "HTMLModel",
            "_view_count": null,
            "_view_module": "@jupyter-widgets/controls",
            "_view_module_version": "1.5.0",
            "_view_name": "HTMLView",
            "description": "",
            "description_tooltip": null,
            "layout": "IPY_MODEL_da08724530f841019f3613edc9c04cd5",
            "placeholder": "​",
            "style": "IPY_MODEL_53eeaa837ed14550ad5477d192dcf48e",
            "value": "Downloading (…)lve/main/config.json: 100%"
          }
        },
        "da08724530f841019f3613edc9c04cd5": {
          "model_module": "@jupyter-widgets/base",
          "model_module_version": "1.2.0",
          "model_name": "LayoutModel",
          "state": {
            "_model_module": "@jupyter-widgets/base",
            "_model_module_version": "1.2.0",
            "_model_name": "LayoutModel",
            "_view_count": null,
            "_view_module": "@jupyter-widgets/base",
            "_view_module_version": "1.2.0",
            "_view_name": "LayoutView",
            "align_content": null,
            "align_items": null,
            "align_self": null,
            "border": null,
            "bottom": null,
            "display": null,
            "flex": null,
            "flex_flow": null,
            "grid_area": null,
            "grid_auto_columns": null,
            "grid_auto_flow": null,
            "grid_auto_rows": null,
            "grid_column": null,
            "grid_gap": null,
            "grid_row": null,
            "grid_template_areas": null,
            "grid_template_columns": null,
            "grid_template_rows": null,
            "height": null,
            "justify_content": null,
            "justify_items": null,
            "left": null,
            "margin": null,
            "max_height": null,
            "max_width": null,
            "min_height": null,
            "min_width": null,
            "object_fit": null,
            "object_position": null,
            "order": null,
            "overflow": null,
            "overflow_x": null,
            "overflow_y": null,
            "padding": null,
            "right": null,
            "top": null,
            "visibility": null,
            "width": null
          }
        },
        "dba9105655d2481792e3014e807c898b": {
          "model_module": "@jupyter-widgets/controls",
          "model_module_version": "1.5.0",
          "model_name": "FloatProgressModel",
          "state": {
            "_dom_classes": [],
            "_model_module": "@jupyter-widgets/controls",
            "_model_module_version": "1.5.0",
            "_model_name": "FloatProgressModel",
            "_view_count": null,
            "_view_module": "@jupyter-widgets/controls",
            "_view_module_version": "1.5.0",
            "_view_name": "ProgressView",
            "bar_style": "success",
            "description": "",
            "description_tooltip": null,
            "layout": "IPY_MODEL_f6daf36c32bf4110b78eb54410426f7c",
            "max": 229167,
            "min": 0,
            "orientation": "horizontal",
            "style": "IPY_MODEL_f27f2b929fd146a8b422fcaa015538fd",
            "value": 229167
          }
        },
        "de434a0f836449d98d2e658088484137": {
          "model_module": "@jupyter-widgets/base",
          "model_module_version": "1.2.0",
          "model_name": "LayoutModel",
          "state": {
            "_model_module": "@jupyter-widgets/base",
            "_model_module_version": "1.2.0",
            "_model_name": "LayoutModel",
            "_view_count": null,
            "_view_module": "@jupyter-widgets/base",
            "_view_module_version": "1.2.0",
            "_view_name": "LayoutView",
            "align_content": null,
            "align_items": null,
            "align_self": null,
            "border": null,
            "bottom": null,
            "display": null,
            "flex": null,
            "flex_flow": null,
            "grid_area": null,
            "grid_auto_columns": null,
            "grid_auto_flow": null,
            "grid_auto_rows": null,
            "grid_column": null,
            "grid_gap": null,
            "grid_row": null,
            "grid_template_areas": null,
            "grid_template_columns": null,
            "grid_template_rows": null,
            "height": null,
            "justify_content": null,
            "justify_items": null,
            "left": null,
            "margin": null,
            "max_height": null,
            "max_width": null,
            "min_height": null,
            "min_width": null,
            "object_fit": null,
            "object_position": null,
            "order": null,
            "overflow": null,
            "overflow_x": null,
            "overflow_y": null,
            "padding": null,
            "right": null,
            "top": null,
            "visibility": null,
            "width": null
          }
        },
        "df9a81da24bc4da3970c902810e74016": {
          "model_module": "@jupyter-widgets/controls",
          "model_module_version": "1.5.0",
          "model_name": "FloatProgressModel",
          "state": {
            "_dom_classes": [],
            "_model_module": "@jupyter-widgets/controls",
            "_model_module_version": "1.5.0",
            "_model_name": "FloatProgressModel",
            "_view_count": null,
            "_view_module": "@jupyter-widgets/controls",
            "_view_module_version": "1.5.0",
            "_view_name": "ProgressView",
            "bar_style": "success",
            "description": "",
            "description_tooltip": null,
            "layout": "IPY_MODEL_1972369dc88543fdb254dfbea5e3637a",
            "max": 1,
            "min": 0,
            "orientation": "horizontal",
            "style": "IPY_MODEL_36b8b0201bf34677a141da381b345adb",
            "value": 1
          }
        },
        "e46de8ce3a924f6786f98724f22e4d24": {
          "model_module": "@jupyter-widgets/controls",
          "model_module_version": "1.5.0",
          "model_name": "HTMLModel",
          "state": {
            "_dom_classes": [],
            "_model_module": "@jupyter-widgets/controls",
            "_model_module_version": "1.5.0",
            "_model_name": "HTMLModel",
            "_view_count": null,
            "_view_module": "@jupyter-widgets/controls",
            "_view_module_version": "1.5.0",
            "_view_name": "HTMLView",
            "description": "",
            "description_tooltip": null,
            "layout": "IPY_MODEL_7a4b69438fe84515948db771608fb835",
            "placeholder": "​",
            "style": "IPY_MODEL_9f2ed717121c41998a555613cf337269",
            "value": " 1/1 [00:00&lt;00:00, 47.91it/s]"
          }
        },
        "e4aab643042f49e6b9b7edacdc49d26c": {
          "model_module": "@jupyter-widgets/base",
          "model_module_version": "1.2.0",
          "model_name": "LayoutModel",
          "state": {
            "_model_module": "@jupyter-widgets/base",
            "_model_module_version": "1.2.0",
            "_model_name": "LayoutModel",
            "_view_count": null,
            "_view_module": "@jupyter-widgets/base",
            "_view_module_version": "1.2.0",
            "_view_name": "LayoutView",
            "align_content": null,
            "align_items": null,
            "align_self": null,
            "border": null,
            "bottom": null,
            "display": null,
            "flex": null,
            "flex_flow": null,
            "grid_area": null,
            "grid_auto_columns": null,
            "grid_auto_flow": null,
            "grid_auto_rows": null,
            "grid_column": null,
            "grid_gap": null,
            "grid_row": null,
            "grid_template_areas": null,
            "grid_template_columns": null,
            "grid_template_rows": null,
            "height": null,
            "justify_content": null,
            "justify_items": null,
            "left": null,
            "margin": null,
            "max_height": null,
            "max_width": null,
            "min_height": null,
            "min_width": null,
            "object_fit": null,
            "object_position": null,
            "order": null,
            "overflow": null,
            "overflow_x": null,
            "overflow_y": null,
            "padding": null,
            "right": null,
            "top": null,
            "visibility": null,
            "width": null
          }
        },
        "e58d75bb53274612bc99fdea920ef4ce": {
          "model_module": "@jupyter-widgets/base",
          "model_module_version": "1.2.0",
          "model_name": "LayoutModel",
          "state": {
            "_model_module": "@jupyter-widgets/base",
            "_model_module_version": "1.2.0",
            "_model_name": "LayoutModel",
            "_view_count": null,
            "_view_module": "@jupyter-widgets/base",
            "_view_module_version": "1.2.0",
            "_view_name": "LayoutView",
            "align_content": null,
            "align_items": null,
            "align_self": null,
            "border": null,
            "bottom": null,
            "display": null,
            "flex": null,
            "flex_flow": null,
            "grid_area": null,
            "grid_auto_columns": null,
            "grid_auto_flow": null,
            "grid_auto_rows": null,
            "grid_column": null,
            "grid_gap": null,
            "grid_row": null,
            "grid_template_areas": null,
            "grid_template_columns": null,
            "grid_template_rows": null,
            "height": null,
            "justify_content": null,
            "justify_items": null,
            "left": null,
            "margin": null,
            "max_height": null,
            "max_width": null,
            "min_height": null,
            "min_width": null,
            "object_fit": null,
            "object_position": null,
            "order": null,
            "overflow": null,
            "overflow_x": null,
            "overflow_y": null,
            "padding": null,
            "right": null,
            "top": null,
            "visibility": null,
            "width": null
          }
        },
        "e776ebd5f4f4469ba5c9b25d7e31271f": {
          "model_module": "@jupyter-widgets/controls",
          "model_module_version": "1.5.0",
          "model_name": "DescriptionStyleModel",
          "state": {
            "_model_module": "@jupyter-widgets/controls",
            "_model_module_version": "1.5.0",
            "_model_name": "DescriptionStyleModel",
            "_view_count": null,
            "_view_module": "@jupyter-widgets/base",
            "_view_module_version": "1.2.0",
            "_view_name": "StyleView",
            "description_width": ""
          }
        },
        "e80a2fe69e484e348fff1177ebf9970f": {
          "model_module": "@jupyter-widgets/controls",
          "model_module_version": "1.5.0",
          "model_name": "ProgressStyleModel",
          "state": {
            "_model_module": "@jupyter-widgets/controls",
            "_model_module_version": "1.5.0",
            "_model_name": "ProgressStyleModel",
            "_view_count": null,
            "_view_module": "@jupyter-widgets/base",
            "_view_module_version": "1.2.0",
            "_view_name": "StyleView",
            "bar_color": null,
            "description_width": ""
          }
        },
        "e8f67ac6409f4841ae0cbff5129bba9e": {
          "model_module": "@jupyter-widgets/controls",
          "model_module_version": "1.5.0",
          "model_name": "HTMLModel",
          "state": {
            "_dom_classes": [],
            "_model_module": "@jupyter-widgets/controls",
            "_model_module_version": "1.5.0",
            "_model_name": "HTMLModel",
            "_view_count": null,
            "_view_module": "@jupyter-widgets/controls",
            "_view_module_version": "1.5.0",
            "_view_name": "HTMLView",
            "description": "",
            "description_tooltip": null,
            "layout": "IPY_MODEL_b52d51b751414c878f1dd9ee63b6c2d5",
            "placeholder": "​",
            "style": "IPY_MODEL_4a8b686a04fc4b1a80d49c76916d1112",
            "value": " 1/1 [00:02&lt;00:00,  2.91s/it]"
          }
        },
        "e914ea1726314c48982a4df651f55612": {
          "model_module": "@jupyter-widgets/controls",
          "model_module_version": "1.5.0",
          "model_name": "DescriptionStyleModel",
          "state": {
            "_model_module": "@jupyter-widgets/controls",
            "_model_module_version": "1.5.0",
            "_model_name": "DescriptionStyleModel",
            "_view_count": null,
            "_view_module": "@jupyter-widgets/base",
            "_view_module_version": "1.2.0",
            "_view_name": "StyleView",
            "description_width": ""
          }
        },
        "e9a54168ba30484bb60129af6e5f8e87": {
          "model_module": "@jupyter-widgets/controls",
          "model_module_version": "1.5.0",
          "model_name": "HTMLModel",
          "state": {
            "_dom_classes": [],
            "_model_module": "@jupyter-widgets/controls",
            "_model_module_version": "1.5.0",
            "_model_name": "HTMLModel",
            "_view_count": null,
            "_view_module": "@jupyter-widgets/controls",
            "_view_module_version": "1.5.0",
            "_view_name": "HTMLView",
            "description": "",
            "description_tooltip": null,
            "layout": "IPY_MODEL_83a8c323fa9941d397ba6a5615a99447",
            "placeholder": "​",
            "style": "IPY_MODEL_f95215701d474868bf916f6cd924cc2a",
            "value": "Downloading (…)cial_tokens_map.json: 100%"
          }
        },
        "e9b5813fa1764b7f99995699fad565cf": {
          "model_module": "@jupyter-widgets/controls",
          "model_module_version": "1.5.0",
          "model_name": "FloatProgressModel",
          "state": {
            "_dom_classes": [],
            "_model_module": "@jupyter-widgets/controls",
            "_model_module_version": "1.5.0",
            "_model_name": "FloatProgressModel",
            "_view_count": null,
            "_view_module": "@jupyter-widgets/controls",
            "_view_module_version": "1.5.0",
            "_view_name": "ProgressView",
            "bar_style": "success",
            "description": "",
            "description_tooltip": null,
            "layout": "IPY_MODEL_12ee9c6baf9d4c60b3098e8d67b7f234",
            "max": 1,
            "min": 0,
            "orientation": "horizontal",
            "style": "IPY_MODEL_6acb7615380e42b190e9994fc283a4db",
            "value": 1
          }
        },
        "ec9884653da040d79c9ad509ab29c9b7": {
          "model_module": "@jupyter-widgets/controls",
          "model_module_version": "1.5.0",
          "model_name": "ProgressStyleModel",
          "state": {
            "_model_module": "@jupyter-widgets/controls",
            "_model_module_version": "1.5.0",
            "_model_name": "ProgressStyleModel",
            "_view_count": null,
            "_view_module": "@jupyter-widgets/base",
            "_view_module_version": "1.2.0",
            "_view_name": "StyleView",
            "bar_color": null,
            "description_width": ""
          }
        },
        "eeec3c6260434c42b02d86a7c28b3882": {
          "model_module": "@jupyter-widgets/base",
          "model_module_version": "1.2.0",
          "model_name": "LayoutModel",
          "state": {
            "_model_module": "@jupyter-widgets/base",
            "_model_module_version": "1.2.0",
            "_model_name": "LayoutModel",
            "_view_count": null,
            "_view_module": "@jupyter-widgets/base",
            "_view_module_version": "1.2.0",
            "_view_name": "LayoutView",
            "align_content": null,
            "align_items": null,
            "align_self": null,
            "border": null,
            "bottom": null,
            "display": null,
            "flex": null,
            "flex_flow": null,
            "grid_area": null,
            "grid_auto_columns": null,
            "grid_auto_flow": null,
            "grid_auto_rows": null,
            "grid_column": null,
            "grid_gap": null,
            "grid_row": null,
            "grid_template_areas": null,
            "grid_template_columns": null,
            "grid_template_rows": null,
            "height": null,
            "justify_content": null,
            "justify_items": null,
            "left": null,
            "margin": null,
            "max_height": null,
            "max_width": null,
            "min_height": null,
            "min_width": null,
            "object_fit": null,
            "object_position": null,
            "order": null,
            "overflow": null,
            "overflow_x": null,
            "overflow_y": null,
            "padding": null,
            "right": null,
            "top": null,
            "visibility": null,
            "width": null
          }
        },
        "f1083e7a52254a3482d98bd4665b9964": {
          "model_module": "@jupyter-widgets/controls",
          "model_module_version": "1.5.0",
          "model_name": "HTMLModel",
          "state": {
            "_dom_classes": [],
            "_model_module": "@jupyter-widgets/controls",
            "_model_module_version": "1.5.0",
            "_model_name": "HTMLModel",
            "_view_count": null,
            "_view_module": "@jupyter-widgets/controls",
            "_view_module_version": "1.5.0",
            "_view_name": "HTMLView",
            "description": "",
            "description_tooltip": null,
            "layout": "IPY_MODEL_413ecdd376bc4b5abfc5fbc85c4ca3f3",
            "placeholder": "​",
            "style": "IPY_MODEL_46937658297e4dbf9a69f0d69e4b9264",
            "value": "100%"
          }
        },
        "f27f2b929fd146a8b422fcaa015538fd": {
          "model_module": "@jupyter-widgets/controls",
          "model_module_version": "1.5.0",
          "model_name": "ProgressStyleModel",
          "state": {
            "_model_module": "@jupyter-widgets/controls",
            "_model_module_version": "1.5.0",
            "_model_name": "ProgressStyleModel",
            "_view_count": null,
            "_view_module": "@jupyter-widgets/base",
            "_view_module_version": "1.2.0",
            "_view_name": "StyleView",
            "bar_color": null,
            "description_width": ""
          }
        },
        "f32874ae4bab4d6ab9eca0056ae975d6": {
          "model_module": "@jupyter-widgets/controls",
          "model_module_version": "1.5.0",
          "model_name": "HTMLModel",
          "state": {
            "_dom_classes": [],
            "_model_module": "@jupyter-widgets/controls",
            "_model_module_version": "1.5.0",
            "_model_name": "HTMLModel",
            "_view_count": null,
            "_view_module": "@jupyter-widgets/controls",
            "_view_module_version": "1.5.0",
            "_view_name": "HTMLView",
            "description": "",
            "description_tooltip": null,
            "layout": "IPY_MODEL_777cabbb85c743d8b3652fbeb5e10b9b",
            "placeholder": "​",
            "style": "IPY_MODEL_08e6a47b3028486abd4e7433edbf7bd6",
            "value": " 1/1 [00:00&lt;00:00, 40.71it/s]"
          }
        },
        "f6daf36c32bf4110b78eb54410426f7c": {
          "model_module": "@jupyter-widgets/base",
          "model_module_version": "1.2.0",
          "model_name": "LayoutModel",
          "state": {
            "_model_module": "@jupyter-widgets/base",
            "_model_module_version": "1.2.0",
            "_model_name": "LayoutModel",
            "_view_count": null,
            "_view_module": "@jupyter-widgets/base",
            "_view_module_version": "1.2.0",
            "_view_name": "LayoutView",
            "align_content": null,
            "align_items": null,
            "align_self": null,
            "border": null,
            "bottom": null,
            "display": null,
            "flex": null,
            "flex_flow": null,
            "grid_area": null,
            "grid_auto_columns": null,
            "grid_auto_flow": null,
            "grid_auto_rows": null,
            "grid_column": null,
            "grid_gap": null,
            "grid_row": null,
            "grid_template_areas": null,
            "grid_template_columns": null,
            "grid_template_rows": null,
            "height": null,
            "justify_content": null,
            "justify_items": null,
            "left": null,
            "margin": null,
            "max_height": null,
            "max_width": null,
            "min_height": null,
            "min_width": null,
            "object_fit": null,
            "object_position": null,
            "order": null,
            "overflow": null,
            "overflow_x": null,
            "overflow_y": null,
            "padding": null,
            "right": null,
            "top": null,
            "visibility": null,
            "width": null
          }
        },
        "f6de4b61a5ca4da2a202f0c85d50171f": {
          "model_module": "@jupyter-widgets/controls",
          "model_module_version": "1.5.0",
          "model_name": "HTMLModel",
          "state": {
            "_dom_classes": [],
            "_model_module": "@jupyter-widgets/controls",
            "_model_module_version": "1.5.0",
            "_model_name": "HTMLModel",
            "_view_count": null,
            "_view_module": "@jupyter-widgets/controls",
            "_view_module_version": "1.5.0",
            "_view_name": "HTMLView",
            "description": "",
            "description_tooltip": null,
            "layout": "IPY_MODEL_803568e13366464d8ddc260136c148be",
            "placeholder": "​",
            "style": "IPY_MODEL_4cf6cfe47c8b469fb3b7fae3194ad71a",
            "value": " 1/1 [00:00&lt;00:00, 17.55it/s]"
          }
        },
        "f77924d53a3848e4b8cd8ac4adc42dec": {
          "model_module": "@jupyter-widgets/base",
          "model_module_version": "1.2.0",
          "model_name": "LayoutModel",
          "state": {
            "_model_module": "@jupyter-widgets/base",
            "_model_module_version": "1.2.0",
            "_model_name": "LayoutModel",
            "_view_count": null,
            "_view_module": "@jupyter-widgets/base",
            "_view_module_version": "1.2.0",
            "_view_name": "LayoutView",
            "align_content": null,
            "align_items": null,
            "align_self": null,
            "border": null,
            "bottom": null,
            "display": null,
            "flex": null,
            "flex_flow": null,
            "grid_area": null,
            "grid_auto_columns": null,
            "grid_auto_flow": null,
            "grid_auto_rows": null,
            "grid_column": null,
            "grid_gap": null,
            "grid_row": null,
            "grid_template_areas": null,
            "grid_template_columns": null,
            "grid_template_rows": null,
            "height": null,
            "justify_content": null,
            "justify_items": null,
            "left": null,
            "margin": null,
            "max_height": null,
            "max_width": null,
            "min_height": null,
            "min_width": null,
            "object_fit": null,
            "object_position": null,
            "order": null,
            "overflow": null,
            "overflow_x": null,
            "overflow_y": null,
            "padding": null,
            "right": null,
            "top": null,
            "visibility": null,
            "width": null
          }
        },
        "f88ce177b8024f00a7bf4daad9cfa483": {
          "model_module": "@jupyter-widgets/controls",
          "model_module_version": "1.5.0",
          "model_name": "FloatProgressModel",
          "state": {
            "_dom_classes": [],
            "_model_module": "@jupyter-widgets/controls",
            "_model_module_version": "1.5.0",
            "_model_name": "FloatProgressModel",
            "_view_count": null,
            "_view_module": "@jupyter-widgets/controls",
            "_view_module_version": "1.5.0",
            "_view_name": "ProgressView",
            "bar_style": "success",
            "description": "",
            "description_tooltip": null,
            "layout": "IPY_MODEL_f77924d53a3848e4b8cd8ac4adc42dec",
            "max": 1,
            "min": 0,
            "orientation": "horizontal",
            "style": "IPY_MODEL_e80a2fe69e484e348fff1177ebf9970f",
            "value": 1
          }
        },
        "f95215701d474868bf916f6cd924cc2a": {
          "model_module": "@jupyter-widgets/controls",
          "model_module_version": "1.5.0",
          "model_name": "DescriptionStyleModel",
          "state": {
            "_model_module": "@jupyter-widgets/controls",
            "_model_module_version": "1.5.0",
            "_model_name": "DescriptionStyleModel",
            "_view_count": null,
            "_view_module": "@jupyter-widgets/base",
            "_view_module_version": "1.2.0",
            "_view_name": "StyleView",
            "description_width": ""
          }
        },
        "f97cfe8032584634898fbed24daa01ad": {
          "model_module": "@jupyter-widgets/base",
          "model_module_version": "1.2.0",
          "model_name": "LayoutModel",
          "state": {
            "_model_module": "@jupyter-widgets/base",
            "_model_module_version": "1.2.0",
            "_model_name": "LayoutModel",
            "_view_count": null,
            "_view_module": "@jupyter-widgets/base",
            "_view_module_version": "1.2.0",
            "_view_name": "LayoutView",
            "align_content": null,
            "align_items": null,
            "align_self": null,
            "border": null,
            "bottom": null,
            "display": null,
            "flex": null,
            "flex_flow": null,
            "grid_area": null,
            "grid_auto_columns": null,
            "grid_auto_flow": null,
            "grid_auto_rows": null,
            "grid_column": null,
            "grid_gap": null,
            "grid_row": null,
            "grid_template_areas": null,
            "grid_template_columns": null,
            "grid_template_rows": null,
            "height": null,
            "justify_content": null,
            "justify_items": null,
            "left": null,
            "margin": null,
            "max_height": null,
            "max_width": null,
            "min_height": null,
            "min_width": null,
            "object_fit": null,
            "object_position": null,
            "order": null,
            "overflow": null,
            "overflow_x": null,
            "overflow_y": null,
            "padding": null,
            "right": null,
            "top": null,
            "visibility": null,
            "width": null
          }
        },
        "f98cb8d0e0bc4208bc7da5498f077168": {
          "model_module": "@jupyter-widgets/controls",
          "model_module_version": "1.5.0",
          "model_name": "HTMLModel",
          "state": {
            "_dom_classes": [],
            "_model_module": "@jupyter-widgets/controls",
            "_model_module_version": "1.5.0",
            "_model_name": "HTMLModel",
            "_view_count": null,
            "_view_module": "@jupyter-widgets/controls",
            "_view_module_version": "1.5.0",
            "_view_name": "HTMLView",
            "description": "",
            "description_tooltip": null,
            "layout": "IPY_MODEL_a9a5f861d47d4c40bcef3a8cadb48a21",
            "placeholder": "​",
            "style": "IPY_MODEL_b36c125ec6d848b38a336d91fad4fcba",
            "value": " 1/1 [00:01&lt;00:00,  1.40s/it]"
          }
        },
        "f9d423a6571b4e1a9f2e18a0eef05339": {
          "model_module": "@jupyter-widgets/controls",
          "model_module_version": "1.5.0",
          "model_name": "HTMLModel",
          "state": {
            "_dom_classes": [],
            "_model_module": "@jupyter-widgets/controls",
            "_model_module_version": "1.5.0",
            "_model_name": "HTMLModel",
            "_view_count": null,
            "_view_module": "@jupyter-widgets/controls",
            "_view_module_version": "1.5.0",
            "_view_name": "HTMLView",
            "description": "",
            "description_tooltip": null,
            "layout": "IPY_MODEL_45cfad50a7534f9891ca77129a52c7cf",
            "placeholder": "​",
            "style": "IPY_MODEL_2b3668c934a34d5396e055945869e98c",
            "value": " 112/112 [00:00&lt;00:00, 8.21kB/s]"
          }
        },
        "fce894df3dc14b6983ff2869fe11bc49": {
          "model_module": "@jupyter-widgets/controls",
          "model_module_version": "1.5.0",
          "model_name": "HTMLModel",
          "state": {
            "_dom_classes": [],
            "_model_module": "@jupyter-widgets/controls",
            "_model_module_version": "1.5.0",
            "_model_name": "HTMLModel",
            "_view_count": null,
            "_view_module": "@jupyter-widgets/controls",
            "_view_module_version": "1.5.0",
            "_view_name": "HTMLView",
            "description": "",
            "description_tooltip": null,
            "layout": "IPY_MODEL_681cb8d346a246a9aadecbd4a05f9b0c",
            "placeholder": "​",
            "style": "IPY_MODEL_d35eac9bd70f4daba5d6307b27c4e038",
            "value": " 1/1 [00:19&lt;00:00, 19.95s/it]"
          }
        }
      }
    }
  },
  "nbformat": 4,
  "nbformat_minor": 0
}
